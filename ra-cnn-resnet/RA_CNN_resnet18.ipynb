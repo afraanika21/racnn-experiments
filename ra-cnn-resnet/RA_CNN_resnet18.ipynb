{
  "cells": [
    {
      "cell_type": "code",
      "execution_count": 1,
      "metadata": {
        "colab": {
          "base_uri": "https://localhost:8080/"
        },
        "id": "8G5Eh1Dxe2PR",
        "outputId": "99a5b7b2-c5b3-450f-e907-2ee51de5ef6f"
      },
      "outputs": [
        {
          "name": "stdout",
          "output_type": "stream",
          "text": [
            "Collecting faiss-cpu\n",
            "  Using cached faiss_cpu-1.12.0-cp310-cp310-win_amd64.whl.metadata (5.2 kB)\n",
            "Requirement already satisfied: numpy<3.0,>=1.25.0 in c:\\users\\user\\anaconda3\\envs\\torch310\\lib\\site-packages (from faiss-cpu) (2.2.6)\n",
            "Requirement already satisfied: packaging in c:\\users\\user\\anaconda3\\envs\\torch310\\lib\\site-packages (from faiss-cpu) (25.0)\n",
            "Using cached faiss_cpu-1.12.0-cp310-cp310-win_amd64.whl (18.2 MB)\n",
            "Installing collected packages: faiss-cpu\n",
            "Successfully installed faiss-cpu-1.12.0\n",
            "Collecting torchattacks\n",
            "  Downloading torchattacks-3.5.1-py3-none-any.whl.metadata (927 bytes)\n",
            "Requirement already satisfied: torch>=1.7.1 in c:\\users\\user\\anaconda3\\envs\\torch310\\lib\\site-packages (from torchattacks) (2.8.0+cu128)\n",
            "Requirement already satisfied: torchvision>=0.8.2 in c:\\users\\user\\anaconda3\\envs\\torch310\\lib\\site-packages (from torchattacks) (0.23.0+cu128)\n",
            "Requirement already satisfied: scipy>=0.14.0 in c:\\users\\user\\anaconda3\\envs\\torch310\\lib\\site-packages (from torchattacks) (1.15.3)\n",
            "Requirement already satisfied: tqdm>=4.56.1 in c:\\users\\user\\anaconda3\\envs\\torch310\\lib\\site-packages (from torchattacks) (4.67.1)\n",
            "Collecting requests~=2.25.1 (from torchattacks)\n",
            "  Downloading requests-2.25.1-py2.py3-none-any.whl.metadata (4.2 kB)\n",
            "Requirement already satisfied: numpy>=1.19.4 in c:\\users\\user\\anaconda3\\envs\\torch310\\lib\\site-packages (from torchattacks) (2.2.6)\n",
            "Collecting chardet<5,>=3.0.2 (from requests~=2.25.1->torchattacks)\n",
            "  Downloading chardet-4.0.0-py2.py3-none-any.whl.metadata (3.5 kB)\n",
            "Collecting idna<3,>=2.5 (from requests~=2.25.1->torchattacks)\n",
            "  Downloading idna-2.10-py2.py3-none-any.whl.metadata (9.1 kB)\n",
            "Collecting urllib3<1.27,>=1.21.1 (from requests~=2.25.1->torchattacks)\n",
            "  Downloading urllib3-1.26.20-py2.py3-none-any.whl.metadata (50 kB)\n",
            "Requirement already satisfied: certifi>=2017.4.17 in c:\\users\\user\\anaconda3\\envs\\torch310\\lib\\site-packages (from requests~=2.25.1->torchattacks) (2025.8.3)\n",
            "Requirement already satisfied: filelock in c:\\users\\user\\anaconda3\\envs\\torch310\\lib\\site-packages (from torch>=1.7.1->torchattacks) (3.13.1)\n",
            "Requirement already satisfied: typing-extensions>=4.10.0 in c:\\users\\user\\anaconda3\\envs\\torch310\\lib\\site-packages (from torch>=1.7.1->torchattacks) (4.12.2)\n",
            "Requirement already satisfied: sympy>=1.13.3 in c:\\users\\user\\anaconda3\\envs\\torch310\\lib\\site-packages (from torch>=1.7.1->torchattacks) (1.13.3)\n",
            "Requirement already satisfied: networkx in c:\\users\\user\\anaconda3\\envs\\torch310\\lib\\site-packages (from torch>=1.7.1->torchattacks) (3.3)\n",
            "Requirement already satisfied: jinja2 in c:\\users\\user\\anaconda3\\envs\\torch310\\lib\\site-packages (from torch>=1.7.1->torchattacks) (3.1.4)\n",
            "Requirement already satisfied: fsspec in c:\\users\\user\\anaconda3\\envs\\torch310\\lib\\site-packages (from torch>=1.7.1->torchattacks) (2024.6.1)\n",
            "Requirement already satisfied: mpmath<1.4,>=1.1.0 in c:\\users\\user\\anaconda3\\envs\\torch310\\lib\\site-packages (from sympy>=1.13.3->torch>=1.7.1->torchattacks) (1.3.0)\n",
            "Requirement already satisfied: pillow!=8.3.*,>=5.3.0 in c:\\users\\user\\anaconda3\\envs\\torch310\\lib\\site-packages (from torchvision>=0.8.2->torchattacks) (11.3.0)\n",
            "Requirement already satisfied: colorama in c:\\users\\user\\anaconda3\\envs\\torch310\\lib\\site-packages (from tqdm>=4.56.1->torchattacks) (0.4.6)\n",
            "Requirement already satisfied: MarkupSafe>=2.0 in c:\\users\\user\\anaconda3\\envs\\torch310\\lib\\site-packages (from jinja2->torch>=1.7.1->torchattacks) (2.1.5)\n",
            "Downloading torchattacks-3.5.1-py3-none-any.whl (142 kB)\n",
            "Downloading requests-2.25.1-py2.py3-none-any.whl (61 kB)\n",
            "Downloading chardet-4.0.0-py2.py3-none-any.whl (178 kB)\n",
            "Downloading idna-2.10-py2.py3-none-any.whl (58 kB)\n",
            "Downloading urllib3-1.26.20-py2.py3-none-any.whl (144 kB)\n",
            "Installing collected packages: urllib3, idna, chardet, requests, torchattacks\n",
            "\n",
            "  Attempting uninstall: urllib3\n",
            "\n",
            "    Found existing installation: urllib3 2.5.0\n",
            "\n",
            "    Uninstalling urllib3-2.5.0:\n",
            "\n",
            "      Successfully uninstalled urllib3-2.5.0\n",
            "\n",
            "  Attempting uninstall: idna\n",
            "\n",
            "    Found existing installation: idna 3.10\n",
            "\n",
            "    Uninstalling idna-3.10:\n",
            "\n",
            "      Successfully uninstalled idna-3.10\n",
            "\n",
            "   -------- ------------------------------- 1/5 [idna]\n",
            "   ---------------- ----------------------- 2/5 [chardet]\n",
            "  Attempting uninstall: requests\n",
            "   ---------------- ----------------------- 2/5 [chardet]\n",
            "    Found existing installation: requests 2.32.5\n",
            "   ---------------- ----------------------- 2/5 [chardet]\n",
            "    Uninstalling requests-2.32.5:\n",
            "   ---------------- ----------------------- 2/5 [chardet]\n",
            "      Successfully uninstalled requests-2.32.5\n",
            "   ---------------- ----------------------- 2/5 [chardet]\n",
            "   -------------------------------- ------- 4/5 [torchattacks]\n",
            "   ---------------------------------------- 5/5 [torchattacks]\n",
            "\n",
            "Successfully installed chardet-4.0.0 idna-2.10 requests-2.25.1 torchattacks-3.5.1 urllib3-1.26.20\n"
          ]
        }
      ],
      "source": [
        "# Colab cell 1: install dependencies\n",
        "# - faiss-cpu for fast nearest-neighbor search (IndexFlatL2)\n",
        "# - torchattacks optional (we also include minimal FGSM/PGD implementations)\n",
        "# Note: use faiss-gpu if available, but faiss-cpu works fine for CIFAR-10.\n",
        "!pip install faiss-cpu\n",
        "!pip install torchattacks\n"
      ]
    },
    {
      "cell_type": "code",
      "execution_count": 3,
      "metadata": {
        "colab": {
          "base_uri": "https://localhost:8080/"
        },
        "id": "SYv2zbrdfJlK",
        "outputId": "67106703-1c80-41d5-b41f-a83d8721c0b8"
      },
      "outputs": [
        {
          "name": "stdout",
          "output_type": "stream",
          "text": [
            "Device: cuda\n"
          ]
        }
      ],
      "source": [
        "# Colab cell 2\n",
        "# Standard imports and hyperparameters. Change these to suit your GPU/time budget.\n",
        "import os\n",
        "import time\n",
        "import random\n",
        "import numpy as np\n",
        "from tqdm import tqdm\n",
        "\n",
        "import torch\n",
        "import torch.nn as nn\n",
        "import torch.nn.functional as F\n",
        "import torch.optim as optim\n",
        "import torchvision\n",
        "import torchvision.transforms as T\n",
        "\n",
        "import faiss  # for retrieval index\n",
        "\n",
        "# For plotting\n",
        "import matplotlib.pyplot as plt\n",
        "\n",
        "# Device (Colab T4)\n",
        "device = torch.device(\"cuda\" if torch.cuda.is_available() else \"cpu\")\n",
        "print(\"Device:\", device)\n",
        "\n",
        "# Reproducibility seeds\n",
        "seed = 42\n",
        "random.seed(seed)\n",
        "np.random.seed(seed)\n",
        "torch.manual_seed(seed)\n",
        "if device.type == \"cuda\":\n",
        "    torch.cuda.manual_seed_all(seed)\n",
        "\n",
        "# Hyperparameters (start values tuned for Colab)\n",
        "IMG_SIZE = 224            # using ResNet-18 pretrained requires 224x224\n",
        "BATCH_SIZE = 64\n",
        "NUM_WORKERS = 2\n",
        "NUM_CLASSES = 10          # CIFAR-10\n",
        "LR = 1e-3\n",
        "EPOCHS = 100               # lower for quick runs; increase if you have time\n",
        "K = 10                     # default retrieved neighbors\n",
        "K_OPTIONS = [5, 10]       # experiment with 5 and 10 as in paper\n",
        "C = 10                    # K' = C*K for randomization if used\n",
        "MIXUP_WEIGHT = 0.5        # weight for local mixup loss in total loss\n"
      ]
    },
    {
      "cell_type": "code",
      "execution_count": 4,
      "metadata": {
        "colab": {
          "base_uri": "https://localhost:8080/"
        },
        "id": "fdjOhLEAfY44",
        "outputId": "8263f7ff-00e9-442f-8d35-ca4ecf68c74f"
      },
      "outputs": [
        {
          "name": "stderr",
          "output_type": "stream",
          "text": [
            "100%|██████████| 170M/170M [01:32<00:00, 1.84MB/s] \n"
          ]
        },
        {
          "name": "stdout",
          "output_type": "stream",
          "text": [
            "Train size: 50000 Test size: 10000\n"
          ]
        }
      ],
      "source": [
        "# Colab cell 3\n",
        "# Dataset pipeline: Resize to 224 for ResNet-18. (Paper used custom small network for CIFAR; ResNet-18 is fine.)\n",
        "transform_train = T.Compose([\n",
        "    T.Resize((IMG_SIZE, IMG_SIZE)),\n",
        "    T.RandomHorizontalFlip(),\n",
        "    T.ToTensor(),\n",
        "    T.Normalize((0.485,0.456,0.406), (0.229,0.224,0.225)),\n",
        "])\n",
        "transform_test = T.Compose([\n",
        "    T.Resize((IMG_SIZE, IMG_SIZE)),\n",
        "    T.ToTensor(),\n",
        "    T.Normalize((0.485,0.456,0.406), (0.229,0.224,0.225)),\n",
        "])\n",
        "\n",
        "trainset = torchvision.datasets.CIFAR10(root='./data', train=True, download=True, transform=transform_train)\n",
        "testset  = torchvision.datasets.CIFAR10(root='./data', train=False, download=True, transform=transform_test)\n",
        "\n",
        "train_loader = torch.utils.data.DataLoader(trainset, batch_size=BATCH_SIZE, shuffle=True, num_workers=NUM_WORKERS, pin_memory=True)\n",
        "test_loader  = torch.utils.data.DataLoader(testset,  batch_size=BATCH_SIZE, shuffle=False, num_workers=NUM_WORKERS, pin_memory=True)\n",
        "\n",
        "print(\"Train size:\", len(trainset), \"Test size:\", len(testset))\n"
      ]
    },
    {
      "cell_type": "code",
      "execution_count": 5,
      "metadata": {
        "colab": {
          "base_uri": "https://localhost:8080/"
        },
        "id": "vxocxq7rgI4a",
        "outputId": "1a8bcc64-7d88-4cc0-8e3a-d719151bd14d"
      },
      "outputs": [
        {
          "name": "stderr",
          "output_type": "stream",
          "text": [
            "c:\\Users\\User\\anaconda3\\envs\\torch310\\lib\\site-packages\\torchvision\\models\\_utils.py:208: UserWarning: The parameter 'pretrained' is deprecated since 0.13 and may be removed in the future, please use 'weights' instead.\n",
            "  warnings.warn(\n",
            "c:\\Users\\User\\anaconda3\\envs\\torch310\\lib\\site-packages\\torchvision\\models\\_utils.py:223: UserWarning: Arguments other than a weight enum or `None` for 'weights' are deprecated since 0.13 and may be removed in the future. The current behavior is equivalent to passing `weights=ResNet18_Weights.IMAGENET1K_V1`. You can also use `weights=ResNet18_Weights.DEFAULT` to get the most up-to-date weights.\n",
            "  warnings.warn(msg)\n"
          ]
        }
      ],
      "source": [
        "# Colab cell 4\n",
        "# Implements Section 2 (phi' and phi). phi_prime can be pretrained ResNet-18 (frozen) used for retrieval keys.\n",
        "# phi is the trainable feature extractor used inside RaCNN. For simplicity we use same architecture for both.\n",
        "\n",
        "def get_resnet18_backbone(pretrained=True, out_dim=None):\n",
        "    \"\"\"\n",
        "    Returns ResNet18 truncated before final fc.\n",
        "    If out_dim given, add a linear layer to project to out_dim.\n",
        "    \"\"\"\n",
        "    model = torchvision.models.resnet18(pretrained=pretrained)\n",
        "    modules = list(model.children())[:-1]  # remove fc\n",
        "    encoder = nn.Sequential(*modules)      # outputs [B, 512, 1, 1]\n",
        "    class Wrapper(nn.Module):\n",
        "        def __init__(self, encoder, out_dim=None):\n",
        "            super().__init__()\n",
        "            self.encoder = encoder\n",
        "            self.out_dim = out_dim\n",
        "            self.pool = nn.AdaptiveAvgPool2d((1,1))\n",
        "            if out_dim is not None:\n",
        "                self.proj = nn.Linear(512, out_dim)\n",
        "            else:\n",
        "                self.proj = None\n",
        "        def forward(self, x):\n",
        "            h = self.encoder(x)\n",
        "            h = h.view(h.size(0), -1)\n",
        "            if self.proj is not None:\n",
        "                return self.proj(h)\n",
        "            return h\n",
        "    return Wrapper(encoder, out_dim=out_dim)\n",
        "\n",
        "# instantiate\n",
        "# phi_prime: the retrieval key extractor (Section 2.3). We will freeze it by default (simulate hidden retrieval).\n",
        "phi_prime = get_resnet18_backbone(pretrained=True, out_dim=None).to(device)\n",
        "for p in phi_prime.parameters():\n",
        "    p.requires_grad = False  # freeze phi' by default\n",
        "\n",
        "# phi: trainable feature extractor used by RaCNN (can start from pretrained backbone or random init)\n",
        "phi = get_resnet18_backbone(pretrained=True, out_dim=None).to(device)\n",
        "# Option: fine-tune or freeze early layers as you prefer\n"
      ]
    },
    {
      "cell_type": "code",
      "execution_count": 6,
      "metadata": {
        "colab": {
          "base_uri": "https://localhost:8080/"
        },
        "id": "8ZmD6078iz9t",
        "outputId": "0e933388-ffb8-49ee-e1af-4773c98ce5d9"
      },
      "outputs": [
        {
          "name": "stdout",
          "output_type": "stream",
          "text": [
            "[RaCNN] CIFAR-10 ready — 50000 train, 10000 test samples.\n"
          ]
        }
      ],
      "source": [
        "# ==============================================================\n",
        "# 📘 Dataset Preparation — CIFAR-10 (Section 6.1)\n",
        "# ==============================================================\n",
        "import torchvision\n",
        "import torchvision.transforms as transforms\n",
        "from torch.utils.data import DataLoader\n",
        "\n",
        "# Data augmentation (same spirit as Sec. 6: \"data augmentation on D but not D′\")\n",
        "transform_train = transforms.Compose([\n",
        "    transforms.RandomCrop(32, padding=4),\n",
        "    transforms.RandomHorizontalFlip(),\n",
        "    transforms.ToTensor(),\n",
        "    transforms.Normalize((0.5, 0.5, 0.5), (0.5, 0.5, 0.5))\n",
        "])\n",
        "\n",
        "transform_test = transforms.Compose([\n",
        "    transforms.ToTensor(),\n",
        "    transforms.Normalize((0.5, 0.5, 0.5), (0.5, 0.5, 0.5))\n",
        "])\n",
        "\n",
        "# Load CIFAR-10 dataset\n",
        "trainset = torchvision.datasets.CIFAR10(\n",
        "    root='./data', train=True, download=True, transform=transform_train\n",
        ")\n",
        "testset = torchvision.datasets.CIFAR10(\n",
        "    root='./data', train=False, download=True, transform=transform_test\n",
        ")\n",
        "\n",
        "# Dataloaders (as D and D′)\n",
        "trainloader = DataLoader(trainset, batch_size=128, shuffle=True, num_workers=2)\n",
        "testloader = DataLoader(testset, batch_size=128, shuffle=False, num_workers=2)\n",
        "\n",
        "print(f\"[RaCNN] CIFAR-10 ready — {len(trainset)} train, {len(testset)} test samples.\")\n"
      ]
    },
    {
      "cell_type": "code",
      "execution_count": 7,
      "metadata": {
        "colab": {
          "base_uri": "https://localhost:8080/"
        },
        "id": "qr8UjjrMibDu",
        "outputId": "35cd5788-b7eb-4672-c207-3d64a840f593"
      },
      "outputs": [
        {
          "name": "stdout",
          "output_type": "stream",
          "text": [
            "[RaCNN] Building retrieval database from scratch (first run)...\n"
          ]
        },
        {
          "name": "stderr",
          "output_type": "stream",
          "text": [
            "[RaCNN] Building retrieval DB: 100%|██████████| 391/391 [00:09<00:00, 39.52it/s] "
          ]
        },
        {
          "name": "stdout",
          "output_type": "stream",
          "text": [
            "[RaCNN] Saved retrieval DB to /content/drive/MyDrive/racnn\n",
            "[RaCNN] Retrieval DB ready — 50000 examples indexed.\n"
          ]
        },
        {
          "name": "stderr",
          "output_type": "stream",
          "text": [
            "\n"
          ]
        }
      ],
      "source": [
        "# ==============================================================\n",
        "# 📘 Section 2.3 — Retrieval Engine F\n",
        "# ==============================================================\n",
        "# This builds the retrieval database D′ = {φ′(x′i), y′i}.\n",
        "# In the paper: they use LSH + random projection.\n",
        "# Here: we use FAISS IndexFlatL2 (dense lookup, faster & GPU compatible).\n",
        "# Optional random projection (dim reduction) can be added with out_dim in phi′.\n",
        "\n",
        "import os, faiss, numpy as np\n",
        "from tqdm import tqdm\n",
        "\n",
        "SAVE_DIR = '/content/drive/MyDrive/racnn'\n",
        "os.makedirs(SAVE_DIR, exist_ok=True)\n",
        "\n",
        "DB_FEATS_PATH = os.path.join(SAVE_DIR, 'db_feats.npy')\n",
        "DB_LABELS_PATH = os.path.join(SAVE_DIR, 'db_labels.npy')\n",
        "DB_INDEX_PATH = os.path.join(SAVE_DIR, 'retrieval_index.faiss')\n",
        "\n",
        "# --------------------------------------------------------------\n",
        "# 🔹 Helper: build retrieval DB if not cached\n",
        "# --------------------------------------------------------------\n",
        "def build_feature_db(dataloader, feature_extractor):\n",
        "    feature_extractor.eval()\n",
        "    feats, labels = [], []\n",
        "    with torch.no_grad():\n",
        "        for imgs, lbls in tqdm(dataloader, desc=\"[RaCNN] Building retrieval DB\"):\n",
        "            imgs = imgs.to(device)\n",
        "            f = feature_extractor(imgs).cpu().numpy()\n",
        "            feats.append(f)\n",
        "            labels.append(lbls.numpy())\n",
        "    feats = np.concatenate(feats, axis=0)\n",
        "    labels = np.concatenate(labels, axis=0)\n",
        "    return feats, labels\n",
        "\n",
        "\n",
        "# --------------------------------------------------------------\n",
        "# 🔹 Step 1: Try to load saved retrieval DB\n",
        "# --------------------------------------------------------------\n",
        "if all(os.path.exists(p) for p in [DB_FEATS_PATH, DB_LABELS_PATH, DB_INDEX_PATH]):\n",
        "    print(\"[RaCNN] Loading cached retrieval database from Drive...\")\n",
        "    db_feats = np.load(DB_FEATS_PATH)\n",
        "    db_labels = np.load(DB_LABELS_PATH)\n",
        "    index = faiss.read_index(DB_INDEX_PATH)\n",
        "\n",
        "else:\n",
        "    print(\"[RaCNN] Building retrieval database from scratch (first run)...\")\n",
        "    db_feats, db_labels = build_feature_db(trainloader, phi_prime)\n",
        "\n",
        "    # FAISS index construction (equiv. to 'retrieval engine F' in Sec. 2.3)\n",
        "    d = db_feats.shape[1]\n",
        "    index = faiss.IndexFlatL2(d)\n",
        "    index.add(db_feats)\n",
        "\n",
        "    # Save to Drive (so we can skip this next time)\n",
        "    np.save(DB_FEATS_PATH, db_feats)\n",
        "    np.save(DB_LABELS_PATH, db_labels)\n",
        "    faiss.write_index(index, DB_INDEX_PATH)\n",
        "    print(f\"[RaCNN] Saved retrieval DB to {SAVE_DIR}\")\n",
        "\n",
        "print(f\"[RaCNN] Retrieval DB ready — {len(db_labels)} examples indexed.\")\n"
      ]
    },
    {
      "cell_type": "code",
      "execution_count": 8,
      "metadata": {
        "id": "oVr5lKx_jvtm"
      },
      "outputs": [],
      "source": [
        "# ==============================================================\n",
        "# 📘 Section 2.1 — Trainable Projection via Attention (βₖ, αₖ, P(x))\n",
        "# ==============================================================\n",
        "\n",
        "import torch.nn.functional as F\n",
        "\n",
        "class TrainableProjection(nn.Module):\n",
        "    \"\"\"\n",
        "    Implements Eqns. (βₖ, αₖ, P(x)) from Section 2.1:\n",
        "      βₖ = φ(x′ₖ)^T U φ(x)\n",
        "      αₖ = softmax(βₖ)\n",
        "      P(x) = Σ αₖ φ(x′ₖ)\n",
        "    \"\"\"\n",
        "    def __init__(self, feature_dim):\n",
        "        super().__init__()\n",
        "        self.U = nn.Parameter(torch.eye(feature_dim))  # trainable weight matrix U\n",
        "\n",
        "    def forward(self, phi_x, phi_neighbors):\n",
        "        \"\"\"\n",
        "        phi_x:         [B, D] — feature of input image φ(x)\n",
        "        phi_neighbors: [B, K, D] — features of K retrieved neighbors φ(x′ₖ)\n",
        "        returns:\n",
        "            P(x): projected feature [B, D]\n",
        "            α: attention weights [B, K]\n",
        "        \"\"\"\n",
        "        # Compute βₖ = φ(x′ₖ)^T U φ(x)\n",
        "        B, K, D = phi_neighbors.shape\n",
        "        Uphi = F.linear(phi_x, self.U)  # [B, D]\n",
        "        beta = torch.bmm(phi_neighbors, Uphi.unsqueeze(2)).squeeze(2)  # [B, K]\n",
        "\n",
        "        # αₖ = softmax(βₖ)\n",
        "        alpha = F.softmax(beta, dim=1)  # [B, K]\n",
        "\n",
        "        # Weighted sum: P(x) = Σ αₖ φ(x′ₖ)\n",
        "        P = torch.bmm(alpha.unsqueeze(1), phi_neighbors).squeeze(1)  # [B, D]\n",
        "        return P, alpha\n"
      ]
    },
    {
      "cell_type": "code",
      "execution_count": 9,
      "metadata": {
        "id": "1V4HKa6xkbWV"
      },
      "outputs": [],
      "source": [
        "# ==============================================================\n",
        "# 📘 Section 2.2 — Training with Local Mixup + Classifier g\n",
        "# ==============================================================\n",
        "\n",
        "class ClassifierHead(nn.Module):\n",
        "    \"\"\"\n",
        "    Implements g from Section 2.\n",
        "    In the paper, g is the final classifier after the projection P(x).\n",
        "    \"\"\"\n",
        "    def __init__(self, feature_dim=512, num_classes=10):\n",
        "        super().__init__()\n",
        "        self.fc = nn.Linear(feature_dim, num_classes)\n",
        "\n",
        "    def forward(self, x):\n",
        "        return self.fc(x)\n",
        "\n",
        "# --------------------------------------------------------------\n",
        "# 🔹 Local Mixup implementation\n",
        "# --------------------------------------------------------------\n",
        "def local_mixup(phi_neighbors, y_neighbors):\n",
        "    \"\"\"\n",
        "    Implements Eqn. for Local Mixup (Section 2.2):\n",
        "      (Σ αₖ φ(x′ₖ), Σ αₖ y′ₖ)\n",
        "    α sampled uniformly on the simplex (Kraemer Algorithm).\n",
        "    \"\"\"\n",
        "    B, K, D = phi_neighbors.shape\n",
        "    device = phi_neighbors.device\n",
        "    # sample convex coefficients αₖ ≥ 0, Σ αₖ = 1\n",
        "    rand = torch.rand(B, K, device=device)\n",
        "    alpha = rand / rand.sum(dim=1, keepdim=True)\n",
        "    # new mixed feature and label\n",
        "    mixed_feat = torch.bmm(alpha.unsqueeze(1), phi_neighbors).squeeze(1)   # [B, D]\n",
        "    mixed_label = torch.bmm(alpha.unsqueeze(1), y_neighbors).squeeze(1)   # [B, num_classes]\n",
        "    return mixed_feat, mixed_label\n",
        "\n",
        "# --------------------------------------------------------------\n",
        "# 🔹 Full RaCNN Model: φ, F(x), Projection (U), Classifier (g)\n",
        "# --------------------------------------------------------------\n",
        "class RaCNN(nn.Module):\n",
        "    \"\"\"\n",
        "    Combines all modules from Section 2:\n",
        "      - Feature extractor φ\n",
        "      - Trainable projection (U, αₖ, convex hull)\n",
        "      - Classifier g\n",
        "    Retrieval F(x) and φ′ handled externally (FAISS + precomputed db_feats)\n",
        "    \"\"\"\n",
        "    def __init__(self, phi, projection, classifier, index, db_feats, db_labels, K=10):\n",
        "        super().__init__()\n",
        "        self.phi = phi\n",
        "        self.projection = projection\n",
        "        self.classifier = classifier\n",
        "        self.index = index\n",
        "        self.db_feats = db_feats\n",
        "        self.db_labels = db_labels\n",
        "        self.K = K\n",
        "\n",
        "    def forward(self, x):\n",
        "        \"\"\"\n",
        "        Forward pass:\n",
        "          1. extract φ(x)\n",
        "          2. retrieve K nearest neighbors via FAISS (F(x))\n",
        "          3. project x onto convex hull (Eqn. 2.1)\n",
        "          4. classify g(P(x))\n",
        "        \"\"\"\n",
        "        # Step 1: feature for input x\n",
        "        phi_x = self.phi(x)                       # [B, D]\n",
        "        phi_x_np = phi_x.detach().cpu().numpy()\n",
        "\n",
        "        # Step 2: retrieve neighbors in φ′ space (F(x))\n",
        "        D, I = self.index.search(phi_x_np, self.K)\n",
        "        phi_neighbors = torch.tensor(self.db_feats[I], dtype=torch.float32, device=x.device)\n",
        "        y_neighbors = torch.nn.functional.one_hot(\n",
        "            torch.tensor(self.db_labels[I], device=x.device), num_classes=10\n",
        "        ).float()\n",
        "\n",
        "        # Step 3: project x to convex hull (trainable projection)\n",
        "        P, alpha = self.projection(phi_x, phi_neighbors)\n",
        "\n",
        "        # Step 4: classify\n",
        "        logits = self.classifier(P)\n",
        "        return logits, P, alpha\n"
      ]
    },
    {
      "cell_type": "code",
      "execution_count": 11,
      "metadata": {
        "colab": {
          "base_uri": "https://localhost:8080/"
        },
        "id": "F9N-Y_T9ko95",
        "outputId": "2d76a9bf-a5f5-4cba-8115-725cc422e723"
      },
      "outputs": [
        {
          "name": "stderr",
          "output_type": "stream",
          "text": [
            "[Epoch 1/200]: 100%|██████████| 391/391 [00:28<00:00, 13.74it/s, cls_loss=1.803, mix_loss=1.312]\n"
          ]
        },
        {
          "name": "stdout",
          "output_type": "stream",
          "text": [
            "Epoch 1: Cls Loss 1.8029 | Mix Loss 1.3120\n"
          ]
        },
        {
          "name": "stderr",
          "output_type": "stream",
          "text": [
            "[Epoch 2/200]: 100%|██████████| 391/391 [00:28<00:00, 13.95it/s, cls_loss=1.779, mix_loss=1.154]\n"
          ]
        },
        {
          "name": "stdout",
          "output_type": "stream",
          "text": [
            "Epoch 2: Cls Loss 1.7791 | Mix Loss 1.1543\n"
          ]
        },
        {
          "name": "stderr",
          "output_type": "stream",
          "text": [
            "[Epoch 3/200]: 100%|██████████| 391/391 [00:28<00:00, 13.95it/s, cls_loss=1.746, mix_loss=1.153]\n"
          ]
        },
        {
          "name": "stdout",
          "output_type": "stream",
          "text": [
            "Epoch 3: Cls Loss 1.7457 | Mix Loss 1.1531\n"
          ]
        },
        {
          "name": "stderr",
          "output_type": "stream",
          "text": [
            "[Epoch 4/200]: 100%|██████████| 391/391 [00:28<00:00, 13.84it/s, cls_loss=1.738, mix_loss=1.109]\n"
          ]
        },
        {
          "name": "stdout",
          "output_type": "stream",
          "text": [
            "Epoch 4: Cls Loss 1.7381 | Mix Loss 1.1085\n"
          ]
        },
        {
          "name": "stderr",
          "output_type": "stream",
          "text": [
            "[Epoch 5/200]: 100%|██████████| 391/391 [00:28<00:00, 13.76it/s, cls_loss=1.681, mix_loss=1.093]\n"
          ]
        },
        {
          "name": "stdout",
          "output_type": "stream",
          "text": [
            "Epoch 5: Cls Loss 1.6807 | Mix Loss 1.0932\n"
          ]
        },
        {
          "name": "stderr",
          "output_type": "stream",
          "text": [
            "[Epoch 6/200]: 100%|██████████| 391/391 [00:28<00:00, 13.69it/s, cls_loss=1.722, mix_loss=1.039]\n"
          ]
        },
        {
          "name": "stdout",
          "output_type": "stream",
          "text": [
            "Epoch 6: Cls Loss 1.7221 | Mix Loss 1.0388\n"
          ]
        },
        {
          "name": "stderr",
          "output_type": "stream",
          "text": [
            "[Epoch 7/200]: 100%|██████████| 391/391 [00:28<00:00, 13.52it/s, cls_loss=1.762, mix_loss=1.118]\n"
          ]
        },
        {
          "name": "stdout",
          "output_type": "stream",
          "text": [
            "Epoch 7: Cls Loss 1.7618 | Mix Loss 1.1185\n"
          ]
        },
        {
          "name": "stderr",
          "output_type": "stream",
          "text": [
            "[Epoch 8/200]: 100%|██████████| 391/391 [00:28<00:00, 13.74it/s, cls_loss=1.706, mix_loss=1.124]\n"
          ]
        },
        {
          "name": "stdout",
          "output_type": "stream",
          "text": [
            "Epoch 8: Cls Loss 1.7060 | Mix Loss 1.1241\n"
          ]
        },
        {
          "name": "stderr",
          "output_type": "stream",
          "text": [
            "[Epoch 9/200]: 100%|██████████| 391/391 [00:28<00:00, 13.83it/s, cls_loss=1.641, mix_loss=1.069]\n"
          ]
        },
        {
          "name": "stdout",
          "output_type": "stream",
          "text": [
            "Epoch 9: Cls Loss 1.6410 | Mix Loss 1.0686\n"
          ]
        },
        {
          "name": "stderr",
          "output_type": "stream",
          "text": [
            "[Epoch 10/200]: 100%|██████████| 391/391 [00:28<00:00, 13.79it/s, cls_loss=1.564, mix_loss=1.017]\n"
          ]
        },
        {
          "name": "stdout",
          "output_type": "stream",
          "text": [
            "Epoch 10: Cls Loss 1.5639 | Mix Loss 1.0172\n"
          ]
        },
        {
          "name": "stderr",
          "output_type": "stream",
          "text": [
            "[Epoch 11/200]: 100%|██████████| 391/391 [00:28<00:00, 13.73it/s, cls_loss=1.560, mix_loss=1.008]\n"
          ]
        },
        {
          "name": "stdout",
          "output_type": "stream",
          "text": [
            "Epoch 11: Cls Loss 1.5601 | Mix Loss 1.0076\n"
          ]
        },
        {
          "name": "stderr",
          "output_type": "stream",
          "text": [
            "[Epoch 12/200]: 100%|██████████| 391/391 [00:28<00:00, 13.76it/s, cls_loss=1.527, mix_loss=0.968]\n"
          ]
        },
        {
          "name": "stdout",
          "output_type": "stream",
          "text": [
            "Epoch 12: Cls Loss 1.5273 | Mix Loss 0.9679\n"
          ]
        },
        {
          "name": "stderr",
          "output_type": "stream",
          "text": [
            "[Epoch 13/200]: 100%|██████████| 391/391 [00:28<00:00, 13.79it/s, cls_loss=1.475, mix_loss=0.887]\n"
          ]
        },
        {
          "name": "stdout",
          "output_type": "stream",
          "text": [
            "Epoch 13: Cls Loss 1.4747 | Mix Loss 0.8868\n"
          ]
        },
        {
          "name": "stderr",
          "output_type": "stream",
          "text": [
            "[Epoch 14/200]: 100%|██████████| 391/391 [00:28<00:00, 13.75it/s, cls_loss=1.508, mix_loss=0.815]\n"
          ]
        },
        {
          "name": "stdout",
          "output_type": "stream",
          "text": [
            "Epoch 14: Cls Loss 1.5083 | Mix Loss 0.8152\n"
          ]
        },
        {
          "name": "stderr",
          "output_type": "stream",
          "text": [
            "[Epoch 15/200]: 100%|██████████| 391/391 [00:28<00:00, 13.70it/s, cls_loss=1.425, mix_loss=0.796]\n"
          ]
        },
        {
          "name": "stdout",
          "output_type": "stream",
          "text": [
            "Epoch 15: Cls Loss 1.4253 | Mix Loss 0.7960\n"
          ]
        },
        {
          "name": "stderr",
          "output_type": "stream",
          "text": [
            "[Epoch 16/200]: 100%|██████████| 391/391 [00:28<00:00, 13.73it/s, cls_loss=1.363, mix_loss=0.768]\n"
          ]
        },
        {
          "name": "stdout",
          "output_type": "stream",
          "text": [
            "Epoch 16: Cls Loss 1.3631 | Mix Loss 0.7680\n"
          ]
        },
        {
          "name": "stderr",
          "output_type": "stream",
          "text": [
            "[Epoch 17/200]: 100%|██████████| 391/391 [00:29<00:00, 13.36it/s, cls_loss=1.326, mix_loss=0.731]\n"
          ]
        },
        {
          "name": "stdout",
          "output_type": "stream",
          "text": [
            "Epoch 17: Cls Loss 1.3262 | Mix Loss 0.7314\n"
          ]
        },
        {
          "name": "stderr",
          "output_type": "stream",
          "text": [
            "[Epoch 18/200]: 100%|██████████| 391/391 [00:29<00:00, 13.40it/s, cls_loss=1.272, mix_loss=0.712]\n"
          ]
        },
        {
          "name": "stdout",
          "output_type": "stream",
          "text": [
            "Epoch 18: Cls Loss 1.2716 | Mix Loss 0.7122\n"
          ]
        },
        {
          "name": "stderr",
          "output_type": "stream",
          "text": [
            "[Epoch 19/200]: 100%|██████████| 391/391 [00:29<00:00, 13.32it/s, cls_loss=1.232, mix_loss=0.692]\n"
          ]
        },
        {
          "name": "stdout",
          "output_type": "stream",
          "text": [
            "Epoch 19: Cls Loss 1.2318 | Mix Loss 0.6918\n"
          ]
        },
        {
          "name": "stderr",
          "output_type": "stream",
          "text": [
            "[Epoch 20/200]: 100%|██████████| 391/391 [00:29<00:00, 13.34it/s, cls_loss=1.172, mix_loss=0.667]\n"
          ]
        },
        {
          "name": "stdout",
          "output_type": "stream",
          "text": [
            "Epoch 20: Cls Loss 1.1720 | Mix Loss 0.6666\n"
          ]
        },
        {
          "name": "stderr",
          "output_type": "stream",
          "text": [
            "[Epoch 21/200]: 100%|██████████| 391/391 [00:29<00:00, 13.32it/s, cls_loss=1.115, mix_loss=0.652]\n"
          ]
        },
        {
          "name": "stdout",
          "output_type": "stream",
          "text": [
            "Epoch 21: Cls Loss 1.1149 | Mix Loss 0.6518\n"
          ]
        },
        {
          "name": "stderr",
          "output_type": "stream",
          "text": [
            "[Epoch 22/200]: 100%|██████████| 391/391 [00:29<00:00, 13.25it/s, cls_loss=1.082, mix_loss=0.636]\n"
          ]
        },
        {
          "name": "stdout",
          "output_type": "stream",
          "text": [
            "Epoch 22: Cls Loss 1.0820 | Mix Loss 0.6358\n"
          ]
        },
        {
          "name": "stderr",
          "output_type": "stream",
          "text": [
            "[Epoch 23/200]: 100%|██████████| 391/391 [00:28<00:00, 13.64it/s, cls_loss=1.035, mix_loss=0.616]\n"
          ]
        },
        {
          "name": "stdout",
          "output_type": "stream",
          "text": [
            "Epoch 23: Cls Loss 1.0350 | Mix Loss 0.6156\n"
          ]
        },
        {
          "name": "stderr",
          "output_type": "stream",
          "text": [
            "[Epoch 24/200]: 100%|██████████| 391/391 [00:27<00:00, 14.27it/s, cls_loss=1.024, mix_loss=0.591]\n"
          ]
        },
        {
          "name": "stdout",
          "output_type": "stream",
          "text": [
            "Epoch 24: Cls Loss 1.0243 | Mix Loss 0.5912\n"
          ]
        },
        {
          "name": "stderr",
          "output_type": "stream",
          "text": [
            "[Epoch 25/200]: 100%|██████████| 391/391 [00:27<00:00, 14.29it/s, cls_loss=0.984, mix_loss=0.575]\n"
          ]
        },
        {
          "name": "stdout",
          "output_type": "stream",
          "text": [
            "Epoch 25: Cls Loss 0.9841 | Mix Loss 0.5748\n"
          ]
        },
        {
          "name": "stderr",
          "output_type": "stream",
          "text": [
            "[Epoch 26/200]: 100%|██████████| 391/391 [00:27<00:00, 14.24it/s, cls_loss=0.933, mix_loss=0.569]\n"
          ]
        },
        {
          "name": "stdout",
          "output_type": "stream",
          "text": [
            "Epoch 26: Cls Loss 0.9325 | Mix Loss 0.5686\n"
          ]
        },
        {
          "name": "stderr",
          "output_type": "stream",
          "text": [
            "[Epoch 27/200]: 100%|██████████| 391/391 [00:27<00:00, 14.22it/s, cls_loss=0.915, mix_loss=0.565]\n"
          ]
        },
        {
          "name": "stdout",
          "output_type": "stream",
          "text": [
            "Epoch 27: Cls Loss 0.9145 | Mix Loss 0.5651\n"
          ]
        },
        {
          "name": "stderr",
          "output_type": "stream",
          "text": [
            "[Epoch 28/200]: 100%|██████████| 391/391 [00:27<00:00, 14.27it/s, cls_loss=0.900, mix_loss=0.564]\n"
          ]
        },
        {
          "name": "stdout",
          "output_type": "stream",
          "text": [
            "Epoch 28: Cls Loss 0.9003 | Mix Loss 0.5643\n"
          ]
        },
        {
          "name": "stderr",
          "output_type": "stream",
          "text": [
            "[Epoch 29/200]: 100%|██████████| 391/391 [00:27<00:00, 14.33it/s, cls_loss=0.894, mix_loss=0.573]\n"
          ]
        },
        {
          "name": "stdout",
          "output_type": "stream",
          "text": [
            "Epoch 29: Cls Loss 0.8938 | Mix Loss 0.5732\n"
          ]
        },
        {
          "name": "stderr",
          "output_type": "stream",
          "text": [
            "[Epoch 30/200]: 100%|██████████| 391/391 [00:27<00:00, 14.31it/s, cls_loss=0.870, mix_loss=0.560]\n"
          ]
        },
        {
          "name": "stdout",
          "output_type": "stream",
          "text": [
            "Epoch 30: Cls Loss 0.8699 | Mix Loss 0.5604\n"
          ]
        },
        {
          "name": "stderr",
          "output_type": "stream",
          "text": [
            "[Epoch 31/200]: 100%|██████████| 391/391 [00:27<00:00, 14.25it/s, cls_loss=0.847, mix_loss=0.556]\n"
          ]
        },
        {
          "name": "stdout",
          "output_type": "stream",
          "text": [
            "Epoch 31: Cls Loss 0.8475 | Mix Loss 0.5562\n"
          ]
        },
        {
          "name": "stderr",
          "output_type": "stream",
          "text": [
            "[Epoch 32/200]: 100%|██████████| 391/391 [00:27<00:00, 14.36it/s, cls_loss=0.836, mix_loss=0.551]\n"
          ]
        },
        {
          "name": "stdout",
          "output_type": "stream",
          "text": [
            "Epoch 32: Cls Loss 0.8363 | Mix Loss 0.5511\n"
          ]
        },
        {
          "name": "stderr",
          "output_type": "stream",
          "text": [
            "[Epoch 33/200]: 100%|██████████| 391/391 [00:27<00:00, 14.31it/s, cls_loss=0.818, mix_loss=0.549]\n"
          ]
        },
        {
          "name": "stdout",
          "output_type": "stream",
          "text": [
            "Epoch 33: Cls Loss 0.8184 | Mix Loss 0.5485\n"
          ]
        },
        {
          "name": "stderr",
          "output_type": "stream",
          "text": [
            "[Epoch 34/200]: 100%|██████████| 391/391 [00:27<00:00, 14.34it/s, cls_loss=0.806, mix_loss=0.541]\n"
          ]
        },
        {
          "name": "stdout",
          "output_type": "stream",
          "text": [
            "Epoch 34: Cls Loss 0.8061 | Mix Loss 0.5414\n"
          ]
        },
        {
          "name": "stderr",
          "output_type": "stream",
          "text": [
            "[Epoch 35/200]: 100%|██████████| 391/391 [00:27<00:00, 14.23it/s, cls_loss=0.797, mix_loss=0.543]\n"
          ]
        },
        {
          "name": "stdout",
          "output_type": "stream",
          "text": [
            "Epoch 35: Cls Loss 0.7969 | Mix Loss 0.5435\n"
          ]
        },
        {
          "name": "stderr",
          "output_type": "stream",
          "text": [
            "[Epoch 36/200]: 100%|██████████| 391/391 [00:27<00:00, 14.37it/s, cls_loss=0.800, mix_loss=0.537]\n"
          ]
        },
        {
          "name": "stdout",
          "output_type": "stream",
          "text": [
            "Epoch 36: Cls Loss 0.7999 | Mix Loss 0.5369\n"
          ]
        },
        {
          "name": "stderr",
          "output_type": "stream",
          "text": [
            "[Epoch 37/200]: 100%|██████████| 391/391 [00:27<00:00, 14.37it/s, cls_loss=0.803, mix_loss=0.537]\n"
          ]
        },
        {
          "name": "stdout",
          "output_type": "stream",
          "text": [
            "Epoch 37: Cls Loss 0.8031 | Mix Loss 0.5368\n"
          ]
        },
        {
          "name": "stderr",
          "output_type": "stream",
          "text": [
            "[Epoch 38/200]: 100%|██████████| 391/391 [00:27<00:00, 14.06it/s, cls_loss=0.817, mix_loss=0.546]\n"
          ]
        },
        {
          "name": "stdout",
          "output_type": "stream",
          "text": [
            "Epoch 38: Cls Loss 0.8166 | Mix Loss 0.5464\n"
          ]
        },
        {
          "name": "stderr",
          "output_type": "stream",
          "text": [
            "[Epoch 39/200]: 100%|██████████| 391/391 [00:27<00:00, 14.38it/s, cls_loss=0.805, mix_loss=0.544]\n"
          ]
        },
        {
          "name": "stdout",
          "output_type": "stream",
          "text": [
            "Epoch 39: Cls Loss 0.8049 | Mix Loss 0.5435\n"
          ]
        },
        {
          "name": "stderr",
          "output_type": "stream",
          "text": [
            "[Epoch 40/200]: 100%|██████████| 391/391 [00:27<00:00, 14.41it/s, cls_loss=0.784, mix_loss=0.537]\n"
          ]
        },
        {
          "name": "stdout",
          "output_type": "stream",
          "text": [
            "Epoch 40: Cls Loss 0.7839 | Mix Loss 0.5370\n"
          ]
        },
        {
          "name": "stderr",
          "output_type": "stream",
          "text": [
            "[Epoch 41/200]: 100%|██████████| 391/391 [00:27<00:00, 14.41it/s, cls_loss=0.764, mix_loss=0.522]\n"
          ]
        },
        {
          "name": "stdout",
          "output_type": "stream",
          "text": [
            "Epoch 41: Cls Loss 0.7641 | Mix Loss 0.5225\n"
          ]
        },
        {
          "name": "stderr",
          "output_type": "stream",
          "text": [
            "[Epoch 42/200]: 100%|██████████| 391/391 [00:27<00:00, 14.36it/s, cls_loss=0.753, mix_loss=0.518]\n"
          ]
        },
        {
          "name": "stdout",
          "output_type": "stream",
          "text": [
            "Epoch 42: Cls Loss 0.7532 | Mix Loss 0.5178\n"
          ]
        },
        {
          "name": "stderr",
          "output_type": "stream",
          "text": [
            "[Epoch 43/200]: 100%|██████████| 391/391 [00:27<00:00, 14.33it/s, cls_loss=0.740, mix_loss=0.521]\n"
          ]
        },
        {
          "name": "stdout",
          "output_type": "stream",
          "text": [
            "Epoch 43: Cls Loss 0.7396 | Mix Loss 0.5207\n"
          ]
        },
        {
          "name": "stderr",
          "output_type": "stream",
          "text": [
            "[Epoch 44/200]: 100%|██████████| 391/391 [00:27<00:00, 14.33it/s, cls_loss=0.721, mix_loss=0.522]\n"
          ]
        },
        {
          "name": "stdout",
          "output_type": "stream",
          "text": [
            "Epoch 44: Cls Loss 0.7214 | Mix Loss 0.5224\n"
          ]
        },
        {
          "name": "stderr",
          "output_type": "stream",
          "text": [
            "[Epoch 45/200]: 100%|██████████| 391/391 [00:27<00:00, 14.36it/s, cls_loss=0.730, mix_loss=0.504]\n"
          ]
        },
        {
          "name": "stdout",
          "output_type": "stream",
          "text": [
            "Epoch 45: Cls Loss 0.7296 | Mix Loss 0.5043\n"
          ]
        },
        {
          "name": "stderr",
          "output_type": "stream",
          "text": [
            "[Epoch 46/200]: 100%|██████████| 391/391 [00:27<00:00, 14.37it/s, cls_loss=0.705, mix_loss=0.519]\n"
          ]
        },
        {
          "name": "stdout",
          "output_type": "stream",
          "text": [
            "Epoch 46: Cls Loss 0.7054 | Mix Loss 0.5192\n"
          ]
        },
        {
          "name": "stderr",
          "output_type": "stream",
          "text": [
            "[Epoch 47/200]: 100%|██████████| 391/391 [00:27<00:00, 14.32it/s, cls_loss=0.687, mix_loss=0.514]\n"
          ]
        },
        {
          "name": "stdout",
          "output_type": "stream",
          "text": [
            "Epoch 47: Cls Loss 0.6871 | Mix Loss 0.5142\n"
          ]
        },
        {
          "name": "stderr",
          "output_type": "stream",
          "text": [
            "[Epoch 48/200]: 100%|██████████| 391/391 [00:27<00:00, 14.46it/s, cls_loss=0.676, mix_loss=0.504]\n"
          ]
        },
        {
          "name": "stdout",
          "output_type": "stream",
          "text": [
            "Epoch 48: Cls Loss 0.6757 | Mix Loss 0.5038\n"
          ]
        },
        {
          "name": "stderr",
          "output_type": "stream",
          "text": [
            "[Epoch 49/200]: 100%|██████████| 391/391 [00:27<00:00, 14.38it/s, cls_loss=0.684, mix_loss=0.490]\n"
          ]
        },
        {
          "name": "stdout",
          "output_type": "stream",
          "text": [
            "Epoch 49: Cls Loss 0.6835 | Mix Loss 0.4901\n"
          ]
        },
        {
          "name": "stderr",
          "output_type": "stream",
          "text": [
            "[Epoch 50/200]: 100%|██████████| 391/391 [00:27<00:00, 14.35it/s, cls_loss=0.662, mix_loss=0.485]\n"
          ]
        },
        {
          "name": "stdout",
          "output_type": "stream",
          "text": [
            "Epoch 50: Cls Loss 0.6615 | Mix Loss 0.4847\n"
          ]
        },
        {
          "name": "stderr",
          "output_type": "stream",
          "text": [
            "[Epoch 51/200]: 100%|██████████| 391/391 [00:27<00:00, 14.34it/s, cls_loss=0.645, mix_loss=0.476]\n"
          ]
        },
        {
          "name": "stdout",
          "output_type": "stream",
          "text": [
            "Epoch 51: Cls Loss 0.6446 | Mix Loss 0.4761\n"
          ]
        },
        {
          "name": "stderr",
          "output_type": "stream",
          "text": [
            "[Epoch 52/200]: 100%|██████████| 391/391 [00:27<00:00, 14.35it/s, cls_loss=0.630, mix_loss=0.475]\n"
          ]
        },
        {
          "name": "stdout",
          "output_type": "stream",
          "text": [
            "Epoch 52: Cls Loss 0.6298 | Mix Loss 0.4747\n"
          ]
        },
        {
          "name": "stderr",
          "output_type": "stream",
          "text": [
            "[Epoch 53/200]: 100%|██████████| 391/391 [00:27<00:00, 14.36it/s, cls_loss=0.628, mix_loss=0.470]\n"
          ]
        },
        {
          "name": "stdout",
          "output_type": "stream",
          "text": [
            "Epoch 53: Cls Loss 0.6275 | Mix Loss 0.4699\n"
          ]
        },
        {
          "name": "stderr",
          "output_type": "stream",
          "text": [
            "[Epoch 54/200]: 100%|██████████| 391/391 [00:27<00:00, 14.35it/s, cls_loss=0.624, mix_loss=0.469]\n"
          ]
        },
        {
          "name": "stdout",
          "output_type": "stream",
          "text": [
            "Epoch 54: Cls Loss 0.6242 | Mix Loss 0.4691\n"
          ]
        },
        {
          "name": "stderr",
          "output_type": "stream",
          "text": [
            "[Epoch 55/200]: 100%|██████████| 391/391 [00:27<00:00, 14.39it/s, cls_loss=0.620, mix_loss=0.473]\n"
          ]
        },
        {
          "name": "stdout",
          "output_type": "stream",
          "text": [
            "Epoch 55: Cls Loss 0.6200 | Mix Loss 0.4730\n"
          ]
        },
        {
          "name": "stderr",
          "output_type": "stream",
          "text": [
            "[Epoch 56/200]: 100%|██████████| 391/391 [00:27<00:00, 14.15it/s, cls_loss=0.606, mix_loss=0.481]\n"
          ]
        },
        {
          "name": "stdout",
          "output_type": "stream",
          "text": [
            "Epoch 56: Cls Loss 0.6062 | Mix Loss 0.4809\n"
          ]
        },
        {
          "name": "stderr",
          "output_type": "stream",
          "text": [
            "[Epoch 57/200]: 100%|██████████| 391/391 [00:27<00:00, 14.33it/s, cls_loss=0.602, mix_loss=0.474]\n"
          ]
        },
        {
          "name": "stdout",
          "output_type": "stream",
          "text": [
            "Epoch 57: Cls Loss 0.6023 | Mix Loss 0.4740\n"
          ]
        },
        {
          "name": "stderr",
          "output_type": "stream",
          "text": [
            "[Epoch 58/200]: 100%|██████████| 391/391 [00:28<00:00, 13.84it/s, cls_loss=0.903, mix_loss=0.465]\n"
          ]
        },
        {
          "name": "stdout",
          "output_type": "stream",
          "text": [
            "Epoch 58: Cls Loss 0.9035 | Mix Loss 0.4646\n"
          ]
        },
        {
          "name": "stderr",
          "output_type": "stream",
          "text": [
            "[Epoch 59/200]: 100%|██████████| 391/391 [00:27<00:00, 14.23it/s, cls_loss=0.712, mix_loss=0.465]\n"
          ]
        },
        {
          "name": "stdout",
          "output_type": "stream",
          "text": [
            "Epoch 59: Cls Loss 0.7119 | Mix Loss 0.4652\n"
          ]
        },
        {
          "name": "stderr",
          "output_type": "stream",
          "text": [
            "[Epoch 60/200]: 100%|██████████| 391/391 [00:27<00:00, 14.31it/s, cls_loss=0.653, mix_loss=0.457]\n"
          ]
        },
        {
          "name": "stdout",
          "output_type": "stream",
          "text": [
            "Epoch 60: Cls Loss 0.6532 | Mix Loss 0.4573\n"
          ]
        },
        {
          "name": "stderr",
          "output_type": "stream",
          "text": [
            "[Epoch 61/200]: 100%|██████████| 391/391 [00:27<00:00, 14.46it/s, cls_loss=0.629, mix_loss=0.460]\n"
          ]
        },
        {
          "name": "stdout",
          "output_type": "stream",
          "text": [
            "Epoch 61: Cls Loss 0.6292 | Mix Loss 0.4597\n"
          ]
        },
        {
          "name": "stderr",
          "output_type": "stream",
          "text": [
            "[Epoch 62/200]: 100%|██████████| 391/391 [00:27<00:00, 14.45it/s, cls_loss=0.615, mix_loss=0.458]\n"
          ]
        },
        {
          "name": "stdout",
          "output_type": "stream",
          "text": [
            "Epoch 62: Cls Loss 0.6154 | Mix Loss 0.4576\n"
          ]
        },
        {
          "name": "stderr",
          "output_type": "stream",
          "text": [
            "[Epoch 63/200]: 100%|██████████| 391/391 [00:27<00:00, 14.42it/s, cls_loss=0.590, mix_loss=0.461]\n"
          ]
        },
        {
          "name": "stdout",
          "output_type": "stream",
          "text": [
            "Epoch 63: Cls Loss 0.5900 | Mix Loss 0.4607\n"
          ]
        },
        {
          "name": "stderr",
          "output_type": "stream",
          "text": [
            "[Epoch 64/200]: 100%|██████████| 391/391 [00:27<00:00, 14.34it/s, cls_loss=0.604, mix_loss=0.457]\n"
          ]
        },
        {
          "name": "stdout",
          "output_type": "stream",
          "text": [
            "Epoch 64: Cls Loss 0.6042 | Mix Loss 0.4570\n"
          ]
        },
        {
          "name": "stderr",
          "output_type": "stream",
          "text": [
            "[Epoch 65/200]: 100%|██████████| 391/391 [00:27<00:00, 14.38it/s, cls_loss=0.651, mix_loss=0.449]\n"
          ]
        },
        {
          "name": "stdout",
          "output_type": "stream",
          "text": [
            "Epoch 65: Cls Loss 0.6509 | Mix Loss 0.4488\n"
          ]
        },
        {
          "name": "stderr",
          "output_type": "stream",
          "text": [
            "[Epoch 66/200]: 100%|██████████| 391/391 [00:27<00:00, 14.37it/s, cls_loss=0.593, mix_loss=0.462]\n"
          ]
        },
        {
          "name": "stdout",
          "output_type": "stream",
          "text": [
            "Epoch 66: Cls Loss 0.5931 | Mix Loss 0.4615\n"
          ]
        },
        {
          "name": "stderr",
          "output_type": "stream",
          "text": [
            "[Epoch 67/200]: 100%|██████████| 391/391 [00:27<00:00, 14.39it/s, cls_loss=0.567, mix_loss=0.454]\n"
          ]
        },
        {
          "name": "stdout",
          "output_type": "stream",
          "text": [
            "Epoch 67: Cls Loss 0.5666 | Mix Loss 0.4538\n"
          ]
        },
        {
          "name": "stderr",
          "output_type": "stream",
          "text": [
            "[Epoch 68/200]: 100%|██████████| 391/391 [00:27<00:00, 14.44it/s, cls_loss=0.611, mix_loss=0.460]\n"
          ]
        },
        {
          "name": "stdout",
          "output_type": "stream",
          "text": [
            "Epoch 68: Cls Loss 0.6111 | Mix Loss 0.4598\n"
          ]
        },
        {
          "name": "stderr",
          "output_type": "stream",
          "text": [
            "[Epoch 69/200]: 100%|██████████| 391/391 [00:27<00:00, 14.41it/s, cls_loss=0.554, mix_loss=0.452]\n"
          ]
        },
        {
          "name": "stdout",
          "output_type": "stream",
          "text": [
            "Epoch 69: Cls Loss 0.5538 | Mix Loss 0.4523\n"
          ]
        },
        {
          "name": "stderr",
          "output_type": "stream",
          "text": [
            "[Epoch 70/200]: 100%|██████████| 391/391 [00:27<00:00, 14.39it/s, cls_loss=0.547, mix_loss=0.447]\n"
          ]
        },
        {
          "name": "stdout",
          "output_type": "stream",
          "text": [
            "Epoch 70: Cls Loss 0.5473 | Mix Loss 0.4468\n"
          ]
        },
        {
          "name": "stderr",
          "output_type": "stream",
          "text": [
            "[Epoch 71/200]: 100%|██████████| 391/391 [00:27<00:00, 14.33it/s, cls_loss=0.539, mix_loss=0.436]\n"
          ]
        },
        {
          "name": "stdout",
          "output_type": "stream",
          "text": [
            "Epoch 71: Cls Loss 0.5389 | Mix Loss 0.4364\n"
          ]
        },
        {
          "name": "stderr",
          "output_type": "stream",
          "text": [
            "[Epoch 72/200]: 100%|██████████| 391/391 [00:27<00:00, 14.42it/s, cls_loss=0.535, mix_loss=0.444]\n"
          ]
        },
        {
          "name": "stdout",
          "output_type": "stream",
          "text": [
            "Epoch 72: Cls Loss 0.5353 | Mix Loss 0.4443\n"
          ]
        },
        {
          "name": "stderr",
          "output_type": "stream",
          "text": [
            "[Epoch 73/200]: 100%|██████████| 391/391 [00:27<00:00, 14.40it/s, cls_loss=0.541, mix_loss=0.445]\n"
          ]
        },
        {
          "name": "stdout",
          "output_type": "stream",
          "text": [
            "Epoch 73: Cls Loss 0.5406 | Mix Loss 0.4452\n"
          ]
        },
        {
          "name": "stderr",
          "output_type": "stream",
          "text": [
            "[Epoch 74/200]: 100%|██████████| 391/391 [00:27<00:00, 14.35it/s, cls_loss=0.511, mix_loss=0.440]\n"
          ]
        },
        {
          "name": "stdout",
          "output_type": "stream",
          "text": [
            "Epoch 74: Cls Loss 0.5115 | Mix Loss 0.4402\n"
          ]
        },
        {
          "name": "stderr",
          "output_type": "stream",
          "text": [
            "[Epoch 75/200]: 100%|██████████| 391/391 [00:27<00:00, 14.32it/s, cls_loss=0.522, mix_loss=0.431]\n"
          ]
        },
        {
          "name": "stdout",
          "output_type": "stream",
          "text": [
            "Epoch 75: Cls Loss 0.5222 | Mix Loss 0.4309\n"
          ]
        },
        {
          "name": "stderr",
          "output_type": "stream",
          "text": [
            "[Epoch 76/200]: 100%|██████████| 391/391 [00:27<00:00, 14.45it/s, cls_loss=0.506, mix_loss=0.430]\n"
          ]
        },
        {
          "name": "stdout",
          "output_type": "stream",
          "text": [
            "Epoch 76: Cls Loss 0.5059 | Mix Loss 0.4298\n"
          ]
        },
        {
          "name": "stderr",
          "output_type": "stream",
          "text": [
            "[Epoch 77/200]: 100%|██████████| 391/391 [00:27<00:00, 14.47it/s, cls_loss=0.503, mix_loss=0.435]\n"
          ]
        },
        {
          "name": "stdout",
          "output_type": "stream",
          "text": [
            "Epoch 77: Cls Loss 0.5034 | Mix Loss 0.4347\n"
          ]
        },
        {
          "name": "stderr",
          "output_type": "stream",
          "text": [
            "[Epoch 78/200]: 100%|██████████| 391/391 [00:27<00:00, 14.46it/s, cls_loss=0.530, mix_loss=0.419]\n"
          ]
        },
        {
          "name": "stdout",
          "output_type": "stream",
          "text": [
            "Epoch 78: Cls Loss 0.5298 | Mix Loss 0.4195\n"
          ]
        },
        {
          "name": "stderr",
          "output_type": "stream",
          "text": [
            "[Epoch 79/200]: 100%|██████████| 391/391 [00:26<00:00, 14.49it/s, cls_loss=0.517, mix_loss=0.425]\n"
          ]
        },
        {
          "name": "stdout",
          "output_type": "stream",
          "text": [
            "Epoch 79: Cls Loss 0.5174 | Mix Loss 0.4248\n"
          ]
        },
        {
          "name": "stderr",
          "output_type": "stream",
          "text": [
            "[Epoch 80/200]: 100%|██████████| 391/391 [00:27<00:00, 14.13it/s, cls_loss=0.502, mix_loss=0.414]\n"
          ]
        },
        {
          "name": "stdout",
          "output_type": "stream",
          "text": [
            "Epoch 80: Cls Loss 0.5021 | Mix Loss 0.4144\n"
          ]
        },
        {
          "name": "stderr",
          "output_type": "stream",
          "text": [
            "[Epoch 81/200]: 100%|██████████| 391/391 [00:27<00:00, 14.24it/s, cls_loss=0.500, mix_loss=0.417]\n"
          ]
        },
        {
          "name": "stdout",
          "output_type": "stream",
          "text": [
            "Epoch 81: Cls Loss 0.5003 | Mix Loss 0.4173\n"
          ]
        },
        {
          "name": "stderr",
          "output_type": "stream",
          "text": [
            "[Epoch 82/200]: 100%|██████████| 391/391 [00:27<00:00, 14.26it/s, cls_loss=0.485, mix_loss=0.424]\n"
          ]
        },
        {
          "name": "stdout",
          "output_type": "stream",
          "text": [
            "Epoch 82: Cls Loss 0.4845 | Mix Loss 0.4236\n"
          ]
        },
        {
          "name": "stderr",
          "output_type": "stream",
          "text": [
            "[Epoch 83/200]: 100%|██████████| 391/391 [00:27<00:00, 14.25it/s, cls_loss=0.480, mix_loss=0.411]\n"
          ]
        },
        {
          "name": "stdout",
          "output_type": "stream",
          "text": [
            "Epoch 83: Cls Loss 0.4800 | Mix Loss 0.4112\n"
          ]
        },
        {
          "name": "stderr",
          "output_type": "stream",
          "text": [
            "[Epoch 84/200]: 100%|██████████| 391/391 [00:27<00:00, 14.26it/s, cls_loss=0.469, mix_loss=0.421]\n"
          ]
        },
        {
          "name": "stdout",
          "output_type": "stream",
          "text": [
            "Epoch 84: Cls Loss 0.4689 | Mix Loss 0.4207\n"
          ]
        },
        {
          "name": "stderr",
          "output_type": "stream",
          "text": [
            "[Epoch 85/200]: 100%|██████████| 391/391 [00:27<00:00, 14.29it/s, cls_loss=0.465, mix_loss=0.413]\n"
          ]
        },
        {
          "name": "stdout",
          "output_type": "stream",
          "text": [
            "Epoch 85: Cls Loss 0.4651 | Mix Loss 0.4129\n"
          ]
        },
        {
          "name": "stderr",
          "output_type": "stream",
          "text": [
            "[Epoch 86/200]: 100%|██████████| 391/391 [00:27<00:00, 14.31it/s, cls_loss=0.469, mix_loss=0.427]\n"
          ]
        },
        {
          "name": "stdout",
          "output_type": "stream",
          "text": [
            "Epoch 86: Cls Loss 0.4690 | Mix Loss 0.4269\n"
          ]
        },
        {
          "name": "stderr",
          "output_type": "stream",
          "text": [
            "[Epoch 87/200]: 100%|██████████| 391/391 [00:27<00:00, 14.30it/s, cls_loss=0.459, mix_loss=0.423]\n"
          ]
        },
        {
          "name": "stdout",
          "output_type": "stream",
          "text": [
            "Epoch 87: Cls Loss 0.4594 | Mix Loss 0.4229\n"
          ]
        },
        {
          "name": "stderr",
          "output_type": "stream",
          "text": [
            "[Epoch 88/200]: 100%|██████████| 391/391 [00:27<00:00, 14.30it/s, cls_loss=0.451, mix_loss=0.425]\n"
          ]
        },
        {
          "name": "stdout",
          "output_type": "stream",
          "text": [
            "Epoch 88: Cls Loss 0.4507 | Mix Loss 0.4255\n"
          ]
        },
        {
          "name": "stderr",
          "output_type": "stream",
          "text": [
            "[Epoch 89/200]: 100%|██████████| 391/391 [00:27<00:00, 14.30it/s, cls_loss=0.436, mix_loss=0.430]\n"
          ]
        },
        {
          "name": "stdout",
          "output_type": "stream",
          "text": [
            "Epoch 89: Cls Loss 0.4362 | Mix Loss 0.4301\n"
          ]
        },
        {
          "name": "stderr",
          "output_type": "stream",
          "text": [
            "[Epoch 90/200]: 100%|██████████| 391/391 [00:27<00:00, 14.27it/s, cls_loss=0.441, mix_loss=0.435]\n"
          ]
        },
        {
          "name": "stdout",
          "output_type": "stream",
          "text": [
            "Epoch 90: Cls Loss 0.4407 | Mix Loss 0.4345\n"
          ]
        },
        {
          "name": "stderr",
          "output_type": "stream",
          "text": [
            "[Epoch 91/200]: 100%|██████████| 391/391 [00:27<00:00, 14.33it/s, cls_loss=0.436, mix_loss=0.425]\n"
          ]
        },
        {
          "name": "stdout",
          "output_type": "stream",
          "text": [
            "Epoch 91: Cls Loss 0.4357 | Mix Loss 0.4254\n"
          ]
        },
        {
          "name": "stderr",
          "output_type": "stream",
          "text": [
            "[Epoch 92/200]: 100%|██████████| 391/391 [00:27<00:00, 14.28it/s, cls_loss=0.429, mix_loss=0.424]\n"
          ]
        },
        {
          "name": "stdout",
          "output_type": "stream",
          "text": [
            "Epoch 92: Cls Loss 0.4285 | Mix Loss 0.4244\n"
          ]
        },
        {
          "name": "stderr",
          "output_type": "stream",
          "text": [
            "[Epoch 93/200]: 100%|██████████| 391/391 [00:27<00:00, 14.26it/s, cls_loss=0.431, mix_loss=0.417]\n"
          ]
        },
        {
          "name": "stdout",
          "output_type": "stream",
          "text": [
            "Epoch 93: Cls Loss 0.4313 | Mix Loss 0.4171\n"
          ]
        },
        {
          "name": "stderr",
          "output_type": "stream",
          "text": [
            "[Epoch 94/200]: 100%|██████████| 391/391 [00:27<00:00, 14.15it/s, cls_loss=0.427, mix_loss=0.412]\n"
          ]
        },
        {
          "name": "stdout",
          "output_type": "stream",
          "text": [
            "Epoch 94: Cls Loss 0.4274 | Mix Loss 0.4123\n"
          ]
        },
        {
          "name": "stderr",
          "output_type": "stream",
          "text": [
            "[Epoch 95/200]: 100%|██████████| 391/391 [00:27<00:00, 14.21it/s, cls_loss=0.421, mix_loss=0.408]\n"
          ]
        },
        {
          "name": "stdout",
          "output_type": "stream",
          "text": [
            "Epoch 95: Cls Loss 0.4213 | Mix Loss 0.4085\n"
          ]
        },
        {
          "name": "stderr",
          "output_type": "stream",
          "text": [
            "[Epoch 96/200]: 100%|██████████| 391/391 [00:27<00:00, 14.28it/s, cls_loss=0.426, mix_loss=0.408]\n"
          ]
        },
        {
          "name": "stdout",
          "output_type": "stream",
          "text": [
            "Epoch 96: Cls Loss 0.4256 | Mix Loss 0.4079\n"
          ]
        },
        {
          "name": "stderr",
          "output_type": "stream",
          "text": [
            "[Epoch 97/200]: 100%|██████████| 391/391 [00:27<00:00, 14.28it/s, cls_loss=0.413, mix_loss=0.418]\n"
          ]
        },
        {
          "name": "stdout",
          "output_type": "stream",
          "text": [
            "Epoch 97: Cls Loss 0.4131 | Mix Loss 0.4178\n"
          ]
        },
        {
          "name": "stderr",
          "output_type": "stream",
          "text": [
            "[Epoch 98/200]: 100%|██████████| 391/391 [00:27<00:00, 14.29it/s, cls_loss=0.409, mix_loss=0.427]\n"
          ]
        },
        {
          "name": "stdout",
          "output_type": "stream",
          "text": [
            "Epoch 98: Cls Loss 0.4086 | Mix Loss 0.4273\n"
          ]
        },
        {
          "name": "stderr",
          "output_type": "stream",
          "text": [
            "[Epoch 99/200]: 100%|██████████| 391/391 [00:27<00:00, 14.27it/s, cls_loss=0.404, mix_loss=0.405]\n"
          ]
        },
        {
          "name": "stdout",
          "output_type": "stream",
          "text": [
            "Epoch 99: Cls Loss 0.4039 | Mix Loss 0.4049\n"
          ]
        },
        {
          "name": "stderr",
          "output_type": "stream",
          "text": [
            "[Epoch 100/200]: 100%|██████████| 391/391 [00:27<00:00, 14.31it/s, cls_loss=0.407, mix_loss=0.400]\n"
          ]
        },
        {
          "name": "stdout",
          "output_type": "stream",
          "text": [
            "Epoch 100: Cls Loss 0.4071 | Mix Loss 0.3996\n"
          ]
        },
        {
          "name": "stderr",
          "output_type": "stream",
          "text": [
            "[Epoch 101/200]: 100%|██████████| 391/391 [00:27<00:00, 14.29it/s, cls_loss=0.407, mix_loss=0.402]\n"
          ]
        },
        {
          "name": "stdout",
          "output_type": "stream",
          "text": [
            "Epoch 101: Cls Loss 0.4068 | Mix Loss 0.4016\n"
          ]
        },
        {
          "name": "stderr",
          "output_type": "stream",
          "text": [
            "[Epoch 102/200]: 100%|██████████| 391/391 [00:27<00:00, 14.24it/s, cls_loss=0.398, mix_loss=0.390]\n"
          ]
        },
        {
          "name": "stdout",
          "output_type": "stream",
          "text": [
            "Epoch 102: Cls Loss 0.3976 | Mix Loss 0.3903\n"
          ]
        },
        {
          "name": "stderr",
          "output_type": "stream",
          "text": [
            "[Epoch 103/200]: 100%|██████████| 391/391 [00:27<00:00, 14.30it/s, cls_loss=0.397, mix_loss=0.383]\n"
          ]
        },
        {
          "name": "stdout",
          "output_type": "stream",
          "text": [
            "Epoch 103: Cls Loss 0.3972 | Mix Loss 0.3825\n"
          ]
        },
        {
          "name": "stderr",
          "output_type": "stream",
          "text": [
            "[Epoch 104/200]: 100%|██████████| 391/391 [00:27<00:00, 14.29it/s, cls_loss=0.403, mix_loss=0.385]\n"
          ]
        },
        {
          "name": "stdout",
          "output_type": "stream",
          "text": [
            "Epoch 104: Cls Loss 0.4030 | Mix Loss 0.3850\n"
          ]
        },
        {
          "name": "stderr",
          "output_type": "stream",
          "text": [
            "[Epoch 105/200]: 100%|██████████| 391/391 [00:27<00:00, 14.22it/s, cls_loss=0.404, mix_loss=0.392]\n"
          ]
        },
        {
          "name": "stdout",
          "output_type": "stream",
          "text": [
            "Epoch 105: Cls Loss 0.4036 | Mix Loss 0.3918\n"
          ]
        },
        {
          "name": "stderr",
          "output_type": "stream",
          "text": [
            "[Epoch 106/200]: 100%|██████████| 391/391 [00:27<00:00, 14.29it/s, cls_loss=0.401, mix_loss=0.386]\n"
          ]
        },
        {
          "name": "stdout",
          "output_type": "stream",
          "text": [
            "Epoch 106: Cls Loss 0.4013 | Mix Loss 0.3856\n"
          ]
        },
        {
          "name": "stderr",
          "output_type": "stream",
          "text": [
            "[Epoch 107/200]: 100%|██████████| 391/391 [00:27<00:00, 14.23it/s, cls_loss=0.392, mix_loss=0.384]\n"
          ]
        },
        {
          "name": "stdout",
          "output_type": "stream",
          "text": [
            "Epoch 107: Cls Loss 0.3920 | Mix Loss 0.3843\n"
          ]
        },
        {
          "name": "stderr",
          "output_type": "stream",
          "text": [
            "[Epoch 108/200]: 100%|██████████| 391/391 [00:27<00:00, 14.26it/s, cls_loss=0.382, mix_loss=0.383]\n"
          ]
        },
        {
          "name": "stdout",
          "output_type": "stream",
          "text": [
            "Epoch 108: Cls Loss 0.3820 | Mix Loss 0.3831\n"
          ]
        },
        {
          "name": "stderr",
          "output_type": "stream",
          "text": [
            "[Epoch 109/200]: 100%|██████████| 391/391 [00:27<00:00, 14.28it/s, cls_loss=0.392, mix_loss=0.380]\n"
          ]
        },
        {
          "name": "stdout",
          "output_type": "stream",
          "text": [
            "Epoch 109: Cls Loss 0.3925 | Mix Loss 0.3795\n"
          ]
        },
        {
          "name": "stderr",
          "output_type": "stream",
          "text": [
            "[Epoch 110/200]: 100%|██████████| 391/391 [00:27<00:00, 14.32it/s, cls_loss=0.406, mix_loss=0.391]\n"
          ]
        },
        {
          "name": "stdout",
          "output_type": "stream",
          "text": [
            "Epoch 110: Cls Loss 0.4058 | Mix Loss 0.3906\n"
          ]
        },
        {
          "name": "stderr",
          "output_type": "stream",
          "text": [
            "[Epoch 111/200]: 100%|██████████| 391/391 [00:27<00:00, 14.26it/s, cls_loss=0.399, mix_loss=0.389]\n"
          ]
        },
        {
          "name": "stdout",
          "output_type": "stream",
          "text": [
            "Epoch 111: Cls Loss 0.3991 | Mix Loss 0.3889\n"
          ]
        },
        {
          "name": "stderr",
          "output_type": "stream",
          "text": [
            "[Epoch 112/200]: 100%|██████████| 391/391 [00:27<00:00, 14.30it/s, cls_loss=0.401, mix_loss=0.385]\n"
          ]
        },
        {
          "name": "stdout",
          "output_type": "stream",
          "text": [
            "Epoch 112: Cls Loss 0.4010 | Mix Loss 0.3851\n"
          ]
        },
        {
          "name": "stderr",
          "output_type": "stream",
          "text": [
            "[Epoch 113/200]: 100%|██████████| 391/391 [00:27<00:00, 14.25it/s, cls_loss=0.381, mix_loss=0.381]\n"
          ]
        },
        {
          "name": "stdout",
          "output_type": "stream",
          "text": [
            "Epoch 113: Cls Loss 0.3815 | Mix Loss 0.3810\n"
          ]
        },
        {
          "name": "stderr",
          "output_type": "stream",
          "text": [
            "[Epoch 114/200]: 100%|██████████| 391/391 [00:27<00:00, 14.29it/s, cls_loss=0.410, mix_loss=0.378]\n"
          ]
        },
        {
          "name": "stdout",
          "output_type": "stream",
          "text": [
            "Epoch 114: Cls Loss 0.4104 | Mix Loss 0.3780\n"
          ]
        },
        {
          "name": "stderr",
          "output_type": "stream",
          "text": [
            "[Epoch 115/200]: 100%|██████████| 391/391 [00:27<00:00, 14.26it/s, cls_loss=0.390, mix_loss=0.380]\n"
          ]
        },
        {
          "name": "stdout",
          "output_type": "stream",
          "text": [
            "Epoch 115: Cls Loss 0.3898 | Mix Loss 0.3800\n"
          ]
        },
        {
          "name": "stderr",
          "output_type": "stream",
          "text": [
            "[Epoch 116/200]: 100%|██████████| 391/391 [00:27<00:00, 14.29it/s, cls_loss=0.386, mix_loss=0.382]\n"
          ]
        },
        {
          "name": "stdout",
          "output_type": "stream",
          "text": [
            "Epoch 116: Cls Loss 0.3859 | Mix Loss 0.3820\n"
          ]
        },
        {
          "name": "stderr",
          "output_type": "stream",
          "text": [
            "[Epoch 117/200]: 100%|██████████| 391/391 [00:27<00:00, 14.32it/s, cls_loss=0.385, mix_loss=0.376]\n"
          ]
        },
        {
          "name": "stdout",
          "output_type": "stream",
          "text": [
            "Epoch 117: Cls Loss 0.3849 | Mix Loss 0.3761\n"
          ]
        },
        {
          "name": "stderr",
          "output_type": "stream",
          "text": [
            "[Epoch 118/200]: 100%|██████████| 391/391 [00:27<00:00, 14.27it/s, cls_loss=0.370, mix_loss=0.378]\n"
          ]
        },
        {
          "name": "stdout",
          "output_type": "stream",
          "text": [
            "Epoch 118: Cls Loss 0.3697 | Mix Loss 0.3780\n"
          ]
        },
        {
          "name": "stderr",
          "output_type": "stream",
          "text": [
            "[Epoch 119/200]: 100%|██████████| 391/391 [00:27<00:00, 14.29it/s, cls_loss=0.401, mix_loss=0.379]\n"
          ]
        },
        {
          "name": "stdout",
          "output_type": "stream",
          "text": [
            "Epoch 119: Cls Loss 0.4013 | Mix Loss 0.3787\n"
          ]
        },
        {
          "name": "stderr",
          "output_type": "stream",
          "text": [
            "[Epoch 120/200]: 100%|██████████| 391/391 [00:27<00:00, 14.29it/s, cls_loss=0.382, mix_loss=0.372]\n"
          ]
        },
        {
          "name": "stdout",
          "output_type": "stream",
          "text": [
            "Epoch 120: Cls Loss 0.3815 | Mix Loss 0.3721\n"
          ]
        },
        {
          "name": "stderr",
          "output_type": "stream",
          "text": [
            "[Epoch 121/200]: 100%|██████████| 391/391 [00:27<00:00, 14.24it/s, cls_loss=0.381, mix_loss=0.380]\n"
          ]
        },
        {
          "name": "stdout",
          "output_type": "stream",
          "text": [
            "Epoch 121: Cls Loss 0.3811 | Mix Loss 0.3803\n"
          ]
        },
        {
          "name": "stderr",
          "output_type": "stream",
          "text": [
            "[Epoch 122/200]: 100%|██████████| 391/391 [00:27<00:00, 14.25it/s, cls_loss=0.357, mix_loss=0.381]\n"
          ]
        },
        {
          "name": "stdout",
          "output_type": "stream",
          "text": [
            "Epoch 122: Cls Loss 0.3567 | Mix Loss 0.3810\n"
          ]
        },
        {
          "name": "stderr",
          "output_type": "stream",
          "text": [
            "[Epoch 123/200]: 100%|██████████| 391/391 [00:27<00:00, 14.20it/s, cls_loss=0.363, mix_loss=0.377]\n"
          ]
        },
        {
          "name": "stdout",
          "output_type": "stream",
          "text": [
            "Epoch 123: Cls Loss 0.3629 | Mix Loss 0.3771\n"
          ]
        },
        {
          "name": "stderr",
          "output_type": "stream",
          "text": [
            "[Epoch 124/200]: 100%|██████████| 391/391 [00:27<00:00, 14.29it/s, cls_loss=0.370, mix_loss=0.369]\n"
          ]
        },
        {
          "name": "stdout",
          "output_type": "stream",
          "text": [
            "Epoch 124: Cls Loss 0.3705 | Mix Loss 0.3686\n"
          ]
        },
        {
          "name": "stderr",
          "output_type": "stream",
          "text": [
            "[Epoch 125/200]: 100%|██████████| 391/391 [00:27<00:00, 14.32it/s, cls_loss=0.376, mix_loss=0.379]\n"
          ]
        },
        {
          "name": "stdout",
          "output_type": "stream",
          "text": [
            "Epoch 125: Cls Loss 0.3762 | Mix Loss 0.3790\n"
          ]
        },
        {
          "name": "stderr",
          "output_type": "stream",
          "text": [
            "[Epoch 126/200]: 100%|██████████| 391/391 [00:27<00:00, 14.28it/s, cls_loss=0.363, mix_loss=0.377]\n"
          ]
        },
        {
          "name": "stdout",
          "output_type": "stream",
          "text": [
            "Epoch 126: Cls Loss 0.3628 | Mix Loss 0.3773\n"
          ]
        },
        {
          "name": "stderr",
          "output_type": "stream",
          "text": [
            "[Epoch 127/200]: 100%|██████████| 391/391 [00:27<00:00, 14.23it/s, cls_loss=0.352, mix_loss=0.380]\n"
          ]
        },
        {
          "name": "stdout",
          "output_type": "stream",
          "text": [
            "Epoch 127: Cls Loss 0.3517 | Mix Loss 0.3804\n"
          ]
        },
        {
          "name": "stderr",
          "output_type": "stream",
          "text": [
            "[Epoch 128/200]: 100%|██████████| 391/391 [00:27<00:00, 14.21it/s, cls_loss=0.341, mix_loss=0.377]\n"
          ]
        },
        {
          "name": "stdout",
          "output_type": "stream",
          "text": [
            "Epoch 128: Cls Loss 0.3410 | Mix Loss 0.3771\n"
          ]
        },
        {
          "name": "stderr",
          "output_type": "stream",
          "text": [
            "[Epoch 129/200]: 100%|██████████| 391/391 [00:27<00:00, 14.31it/s, cls_loss=0.352, mix_loss=0.374]\n"
          ]
        },
        {
          "name": "stdout",
          "output_type": "stream",
          "text": [
            "Epoch 129: Cls Loss 0.3522 | Mix Loss 0.3745\n"
          ]
        },
        {
          "name": "stderr",
          "output_type": "stream",
          "text": [
            "[Epoch 130/200]: 100%|██████████| 391/391 [00:27<00:00, 14.28it/s, cls_loss=0.359, mix_loss=0.378]\n"
          ]
        },
        {
          "name": "stdout",
          "output_type": "stream",
          "text": [
            "Epoch 130: Cls Loss 0.3586 | Mix Loss 0.3783\n"
          ]
        },
        {
          "name": "stderr",
          "output_type": "stream",
          "text": [
            "[Epoch 131/200]: 100%|██████████| 391/391 [00:27<00:00, 14.32it/s, cls_loss=0.388, mix_loss=0.375]\n"
          ]
        },
        {
          "name": "stdout",
          "output_type": "stream",
          "text": [
            "Epoch 131: Cls Loss 0.3882 | Mix Loss 0.3755\n"
          ]
        },
        {
          "name": "stderr",
          "output_type": "stream",
          "text": [
            "[Epoch 132/200]: 100%|██████████| 391/391 [00:27<00:00, 14.32it/s, cls_loss=0.419, mix_loss=0.376]\n"
          ]
        },
        {
          "name": "stdout",
          "output_type": "stream",
          "text": [
            "Epoch 132: Cls Loss 0.4191 | Mix Loss 0.3758\n"
          ]
        },
        {
          "name": "stderr",
          "output_type": "stream",
          "text": [
            "[Epoch 133/200]: 100%|██████████| 391/391 [00:27<00:00, 14.31it/s, cls_loss=0.451, mix_loss=0.392]\n"
          ]
        },
        {
          "name": "stdout",
          "output_type": "stream",
          "text": [
            "Epoch 133: Cls Loss 0.4509 | Mix Loss 0.3915\n"
          ]
        },
        {
          "name": "stderr",
          "output_type": "stream",
          "text": [
            "[Epoch 134/200]: 100%|██████████| 391/391 [00:27<00:00, 14.26it/s, cls_loss=0.428, mix_loss=0.406]\n"
          ]
        },
        {
          "name": "stdout",
          "output_type": "stream",
          "text": [
            "Epoch 134: Cls Loss 0.4285 | Mix Loss 0.4062\n"
          ]
        },
        {
          "name": "stderr",
          "output_type": "stream",
          "text": [
            "[Epoch 135/200]: 100%|██████████| 391/391 [00:27<00:00, 14.27it/s, cls_loss=0.423, mix_loss=0.398]\n"
          ]
        },
        {
          "name": "stdout",
          "output_type": "stream",
          "text": [
            "Epoch 135: Cls Loss 0.4230 | Mix Loss 0.3984\n"
          ]
        },
        {
          "name": "stderr",
          "output_type": "stream",
          "text": [
            "[Epoch 136/200]: 100%|██████████| 391/391 [00:27<00:00, 14.30it/s, cls_loss=0.441, mix_loss=0.389]\n"
          ]
        },
        {
          "name": "stdout",
          "output_type": "stream",
          "text": [
            "Epoch 136: Cls Loss 0.4412 | Mix Loss 0.3889\n"
          ]
        },
        {
          "name": "stderr",
          "output_type": "stream",
          "text": [
            "[Epoch 137/200]: 100%|██████████| 391/391 [00:27<00:00, 14.23it/s, cls_loss=0.416, mix_loss=0.383]\n"
          ]
        },
        {
          "name": "stdout",
          "output_type": "stream",
          "text": [
            "Epoch 137: Cls Loss 0.4160 | Mix Loss 0.3834\n"
          ]
        },
        {
          "name": "stderr",
          "output_type": "stream",
          "text": [
            "[Epoch 138/200]: 100%|██████████| 391/391 [00:27<00:00, 14.22it/s, cls_loss=0.436, mix_loss=0.385]\n"
          ]
        },
        {
          "name": "stdout",
          "output_type": "stream",
          "text": [
            "Epoch 138: Cls Loss 0.4359 | Mix Loss 0.3850\n"
          ]
        },
        {
          "name": "stderr",
          "output_type": "stream",
          "text": [
            "[Epoch 139/200]: 100%|██████████| 391/391 [00:27<00:00, 14.25it/s, cls_loss=0.428, mix_loss=0.382]\n"
          ]
        },
        {
          "name": "stdout",
          "output_type": "stream",
          "text": [
            "Epoch 139: Cls Loss 0.4279 | Mix Loss 0.3815\n"
          ]
        },
        {
          "name": "stderr",
          "output_type": "stream",
          "text": [
            "[Epoch 140/200]: 100%|██████████| 391/391 [00:27<00:00, 14.27it/s, cls_loss=0.418, mix_loss=0.384]\n"
          ]
        },
        {
          "name": "stdout",
          "output_type": "stream",
          "text": [
            "Epoch 140: Cls Loss 0.4183 | Mix Loss 0.3841\n"
          ]
        },
        {
          "name": "stderr",
          "output_type": "stream",
          "text": [
            "[Epoch 141/200]: 100%|██████████| 391/391 [00:27<00:00, 14.25it/s, cls_loss=0.436, mix_loss=0.373]\n"
          ]
        },
        {
          "name": "stdout",
          "output_type": "stream",
          "text": [
            "Epoch 141: Cls Loss 0.4360 | Mix Loss 0.3726\n"
          ]
        },
        {
          "name": "stderr",
          "output_type": "stream",
          "text": [
            "[Epoch 142/200]: 100%|██████████| 391/391 [00:27<00:00, 14.26it/s, cls_loss=0.451, mix_loss=0.376]\n"
          ]
        },
        {
          "name": "stdout",
          "output_type": "stream",
          "text": [
            "Epoch 142: Cls Loss 0.4507 | Mix Loss 0.3764\n"
          ]
        },
        {
          "name": "stderr",
          "output_type": "stream",
          "text": [
            "[Epoch 143/200]: 100%|██████████| 391/391 [00:28<00:00, 13.78it/s, cls_loss=0.428, mix_loss=0.379]\n"
          ]
        },
        {
          "name": "stdout",
          "output_type": "stream",
          "text": [
            "Epoch 143: Cls Loss 0.4279 | Mix Loss 0.3790\n"
          ]
        },
        {
          "name": "stderr",
          "output_type": "stream",
          "text": [
            "[Epoch 144/200]: 100%|██████████| 391/391 [00:27<00:00, 14.17it/s, cls_loss=0.396, mix_loss=0.391]\n"
          ]
        },
        {
          "name": "stdout",
          "output_type": "stream",
          "text": [
            "Epoch 144: Cls Loss 0.3963 | Mix Loss 0.3912\n"
          ]
        },
        {
          "name": "stderr",
          "output_type": "stream",
          "text": [
            "[Epoch 145/200]: 100%|██████████| 391/391 [00:27<00:00, 14.32it/s, cls_loss=0.362, mix_loss=0.412]\n"
          ]
        },
        {
          "name": "stdout",
          "output_type": "stream",
          "text": [
            "Epoch 145: Cls Loss 0.3622 | Mix Loss 0.4116\n"
          ]
        },
        {
          "name": "stderr",
          "output_type": "stream",
          "text": [
            "[Epoch 146/200]: 100%|██████████| 391/391 [00:27<00:00, 14.27it/s, cls_loss=0.352, mix_loss=0.404]\n"
          ]
        },
        {
          "name": "stdout",
          "output_type": "stream",
          "text": [
            "Epoch 146: Cls Loss 0.3524 | Mix Loss 0.4038\n"
          ]
        },
        {
          "name": "stderr",
          "output_type": "stream",
          "text": [
            "[Epoch 147/200]: 100%|██████████| 391/391 [00:27<00:00, 14.29it/s, cls_loss=0.346, mix_loss=0.411]\n"
          ]
        },
        {
          "name": "stdout",
          "output_type": "stream",
          "text": [
            "Epoch 147: Cls Loss 0.3463 | Mix Loss 0.4108\n"
          ]
        },
        {
          "name": "stderr",
          "output_type": "stream",
          "text": [
            "[Epoch 148/200]: 100%|██████████| 391/391 [00:27<00:00, 14.26it/s, cls_loss=0.354, mix_loss=0.404]\n"
          ]
        },
        {
          "name": "stdout",
          "output_type": "stream",
          "text": [
            "Epoch 148: Cls Loss 0.3541 | Mix Loss 0.4036\n"
          ]
        },
        {
          "name": "stderr",
          "output_type": "stream",
          "text": [
            "[Epoch 149/200]: 100%|██████████| 391/391 [00:27<00:00, 14.32it/s, cls_loss=0.352, mix_loss=0.403]\n"
          ]
        },
        {
          "name": "stdout",
          "output_type": "stream",
          "text": [
            "Epoch 149: Cls Loss 0.3515 | Mix Loss 0.4031\n"
          ]
        },
        {
          "name": "stderr",
          "output_type": "stream",
          "text": [
            "[Epoch 150/200]: 100%|██████████| 391/391 [00:27<00:00, 14.29it/s, cls_loss=0.364, mix_loss=0.391]\n"
          ]
        },
        {
          "name": "stdout",
          "output_type": "stream",
          "text": [
            "Epoch 150: Cls Loss 0.3639 | Mix Loss 0.3914\n"
          ]
        },
        {
          "name": "stderr",
          "output_type": "stream",
          "text": [
            "[Epoch 151/200]: 100%|██████████| 391/391 [00:27<00:00, 14.28it/s, cls_loss=0.360, mix_loss=0.388]\n"
          ]
        },
        {
          "name": "stdout",
          "output_type": "stream",
          "text": [
            "Epoch 151: Cls Loss 0.3601 | Mix Loss 0.3879\n"
          ]
        },
        {
          "name": "stderr",
          "output_type": "stream",
          "text": [
            "[Epoch 152/200]: 100%|██████████| 391/391 [00:27<00:00, 14.26it/s, cls_loss=0.381, mix_loss=0.379]\n"
          ]
        },
        {
          "name": "stdout",
          "output_type": "stream",
          "text": [
            "Epoch 152: Cls Loss 0.3812 | Mix Loss 0.3791\n"
          ]
        },
        {
          "name": "stderr",
          "output_type": "stream",
          "text": [
            "[Epoch 153/200]: 100%|██████████| 391/391 [00:27<00:00, 14.21it/s, cls_loss=0.373, mix_loss=0.392]\n"
          ]
        },
        {
          "name": "stdout",
          "output_type": "stream",
          "text": [
            "Epoch 153: Cls Loss 0.3726 | Mix Loss 0.3915\n"
          ]
        },
        {
          "name": "stderr",
          "output_type": "stream",
          "text": [
            "[Epoch 154/200]: 100%|██████████| 391/391 [00:27<00:00, 14.23it/s, cls_loss=0.359, mix_loss=0.387]\n"
          ]
        },
        {
          "name": "stdout",
          "output_type": "stream",
          "text": [
            "Epoch 154: Cls Loss 0.3592 | Mix Loss 0.3872\n"
          ]
        },
        {
          "name": "stderr",
          "output_type": "stream",
          "text": [
            "[Epoch 155/200]: 100%|██████████| 391/391 [00:27<00:00, 14.20it/s, cls_loss=0.340, mix_loss=0.383]\n"
          ]
        },
        {
          "name": "stdout",
          "output_type": "stream",
          "text": [
            "Epoch 155: Cls Loss 0.3397 | Mix Loss 0.3831\n"
          ]
        },
        {
          "name": "stderr",
          "output_type": "stream",
          "text": [
            "[Epoch 156/200]: 100%|██████████| 391/391 [00:27<00:00, 14.23it/s, cls_loss=0.339, mix_loss=0.382]\n"
          ]
        },
        {
          "name": "stdout",
          "output_type": "stream",
          "text": [
            "Epoch 156: Cls Loss 0.3390 | Mix Loss 0.3821\n"
          ]
        },
        {
          "name": "stderr",
          "output_type": "stream",
          "text": [
            "[Epoch 157/200]: 100%|██████████| 391/391 [00:27<00:00, 14.30it/s, cls_loss=0.327, mix_loss=0.399]\n"
          ]
        },
        {
          "name": "stdout",
          "output_type": "stream",
          "text": [
            "Epoch 157: Cls Loss 0.3274 | Mix Loss 0.3994\n"
          ]
        },
        {
          "name": "stderr",
          "output_type": "stream",
          "text": [
            "[Epoch 158/200]: 100%|██████████| 391/391 [00:27<00:00, 14.24it/s, cls_loss=0.337, mix_loss=0.394]\n"
          ]
        },
        {
          "name": "stdout",
          "output_type": "stream",
          "text": [
            "Epoch 158: Cls Loss 0.3365 | Mix Loss 0.3943\n"
          ]
        },
        {
          "name": "stderr",
          "output_type": "stream",
          "text": [
            "[Epoch 159/200]: 100%|██████████| 391/391 [00:27<00:00, 14.22it/s, cls_loss=0.329, mix_loss=0.403]\n"
          ]
        },
        {
          "name": "stdout",
          "output_type": "stream",
          "text": [
            "Epoch 159: Cls Loss 0.3294 | Mix Loss 0.4028\n"
          ]
        },
        {
          "name": "stderr",
          "output_type": "stream",
          "text": [
            "[Epoch 160/200]: 100%|██████████| 391/391 [00:27<00:00, 14.16it/s, cls_loss=0.314, mix_loss=0.400]\n"
          ]
        },
        {
          "name": "stdout",
          "output_type": "stream",
          "text": [
            "Epoch 160: Cls Loss 0.3138 | Mix Loss 0.3996\n"
          ]
        },
        {
          "name": "stderr",
          "output_type": "stream",
          "text": [
            "[Epoch 161/200]: 100%|██████████| 391/391 [00:27<00:00, 14.27it/s, cls_loss=0.316, mix_loss=0.397]\n"
          ]
        },
        {
          "name": "stdout",
          "output_type": "stream",
          "text": [
            "Epoch 161: Cls Loss 0.3160 | Mix Loss 0.3967\n"
          ]
        },
        {
          "name": "stderr",
          "output_type": "stream",
          "text": [
            "[Epoch 162/200]: 100%|██████████| 391/391 [00:27<00:00, 14.23it/s, cls_loss=0.310, mix_loss=0.401]\n"
          ]
        },
        {
          "name": "stdout",
          "output_type": "stream",
          "text": [
            "Epoch 162: Cls Loss 0.3103 | Mix Loss 0.4006\n"
          ]
        },
        {
          "name": "stderr",
          "output_type": "stream",
          "text": [
            "[Epoch 163/200]: 100%|██████████| 391/391 [00:27<00:00, 14.20it/s, cls_loss=0.321, mix_loss=0.395]\n"
          ]
        },
        {
          "name": "stdout",
          "output_type": "stream",
          "text": [
            "Epoch 163: Cls Loss 0.3210 | Mix Loss 0.3952\n"
          ]
        },
        {
          "name": "stderr",
          "output_type": "stream",
          "text": [
            "[Epoch 164/200]: 100%|██████████| 391/391 [00:27<00:00, 14.26it/s, cls_loss=0.340, mix_loss=0.384]\n"
          ]
        },
        {
          "name": "stdout",
          "output_type": "stream",
          "text": [
            "Epoch 164: Cls Loss 0.3403 | Mix Loss 0.3842\n"
          ]
        },
        {
          "name": "stderr",
          "output_type": "stream",
          "text": [
            "[Epoch 165/200]: 100%|██████████| 391/391 [00:27<00:00, 14.27it/s, cls_loss=0.345, mix_loss=0.387]\n"
          ]
        },
        {
          "name": "stdout",
          "output_type": "stream",
          "text": [
            "Epoch 165: Cls Loss 0.3453 | Mix Loss 0.3870\n"
          ]
        },
        {
          "name": "stderr",
          "output_type": "stream",
          "text": [
            "[Epoch 166/200]: 100%|██████████| 391/391 [00:27<00:00, 14.15it/s, cls_loss=0.330, mix_loss=0.386]\n"
          ]
        },
        {
          "name": "stdout",
          "output_type": "stream",
          "text": [
            "Epoch 166: Cls Loss 0.3303 | Mix Loss 0.3858\n"
          ]
        },
        {
          "name": "stderr",
          "output_type": "stream",
          "text": [
            "[Epoch 167/200]: 100%|██████████| 391/391 [00:27<00:00, 14.21it/s, cls_loss=0.325, mix_loss=0.387]\n"
          ]
        },
        {
          "name": "stdout",
          "output_type": "stream",
          "text": [
            "Epoch 167: Cls Loss 0.3248 | Mix Loss 0.3869\n"
          ]
        },
        {
          "name": "stderr",
          "output_type": "stream",
          "text": [
            "[Epoch 168/200]: 100%|██████████| 391/391 [00:27<00:00, 14.27it/s, cls_loss=0.330, mix_loss=0.392]\n"
          ]
        },
        {
          "name": "stdout",
          "output_type": "stream",
          "text": [
            "Epoch 168: Cls Loss 0.3299 | Mix Loss 0.3919\n"
          ]
        },
        {
          "name": "stderr",
          "output_type": "stream",
          "text": [
            "[Epoch 169/200]: 100%|██████████| 391/391 [00:27<00:00, 14.23it/s, cls_loss=0.382, mix_loss=0.395]\n"
          ]
        },
        {
          "name": "stdout",
          "output_type": "stream",
          "text": [
            "Epoch 169: Cls Loss 0.3817 | Mix Loss 0.3951\n"
          ]
        },
        {
          "name": "stderr",
          "output_type": "stream",
          "text": [
            "[Epoch 170/200]: 100%|██████████| 391/391 [00:27<00:00, 14.28it/s, cls_loss=0.372, mix_loss=0.408]\n"
          ]
        },
        {
          "name": "stdout",
          "output_type": "stream",
          "text": [
            "Epoch 170: Cls Loss 0.3717 | Mix Loss 0.4083\n"
          ]
        },
        {
          "name": "stderr",
          "output_type": "stream",
          "text": [
            "[Epoch 171/200]: 100%|██████████| 391/391 [00:27<00:00, 14.25it/s, cls_loss=0.408, mix_loss=0.400]\n"
          ]
        },
        {
          "name": "stdout",
          "output_type": "stream",
          "text": [
            "Epoch 171: Cls Loss 0.4075 | Mix Loss 0.4004\n"
          ]
        },
        {
          "name": "stderr",
          "output_type": "stream",
          "text": [
            "[Epoch 172/200]: 100%|██████████| 391/391 [00:27<00:00, 14.32it/s, cls_loss=0.365, mix_loss=0.419]\n"
          ]
        },
        {
          "name": "stdout",
          "output_type": "stream",
          "text": [
            "Epoch 172: Cls Loss 0.3655 | Mix Loss 0.4191\n"
          ]
        },
        {
          "name": "stderr",
          "output_type": "stream",
          "text": [
            "[Epoch 173/200]: 100%|██████████| 391/391 [00:27<00:00, 14.27it/s, cls_loss=0.379, mix_loss=0.419]\n"
          ]
        },
        {
          "name": "stdout",
          "output_type": "stream",
          "text": [
            "Epoch 173: Cls Loss 0.3786 | Mix Loss 0.4185\n"
          ]
        },
        {
          "name": "stderr",
          "output_type": "stream",
          "text": [
            "[Epoch 174/200]: 100%|██████████| 391/391 [00:27<00:00, 14.29it/s, cls_loss=0.362, mix_loss=0.429]\n"
          ]
        },
        {
          "name": "stdout",
          "output_type": "stream",
          "text": [
            "Epoch 174: Cls Loss 0.3618 | Mix Loss 0.4291\n"
          ]
        },
        {
          "name": "stderr",
          "output_type": "stream",
          "text": [
            "[Epoch 175/200]: 100%|██████████| 391/391 [00:27<00:00, 14.28it/s, cls_loss=0.331, mix_loss=0.405]\n"
          ]
        },
        {
          "name": "stdout",
          "output_type": "stream",
          "text": [
            "Epoch 175: Cls Loss 0.3313 | Mix Loss 0.4047\n"
          ]
        },
        {
          "name": "stderr",
          "output_type": "stream",
          "text": [
            "[Epoch 176/200]: 100%|██████████| 391/391 [00:27<00:00, 14.27it/s, cls_loss=0.336, mix_loss=0.398]\n"
          ]
        },
        {
          "name": "stdout",
          "output_type": "stream",
          "text": [
            "Epoch 176: Cls Loss 0.3364 | Mix Loss 0.3981\n"
          ]
        },
        {
          "name": "stderr",
          "output_type": "stream",
          "text": [
            "[Epoch 177/200]: 100%|██████████| 391/391 [00:27<00:00, 14.29it/s, cls_loss=0.341, mix_loss=0.398]\n"
          ]
        },
        {
          "name": "stdout",
          "output_type": "stream",
          "text": [
            "Epoch 177: Cls Loss 0.3411 | Mix Loss 0.3975\n"
          ]
        },
        {
          "name": "stderr",
          "output_type": "stream",
          "text": [
            "[Epoch 178/200]: 100%|██████████| 391/391 [00:27<00:00, 14.25it/s, cls_loss=0.319, mix_loss=0.404]\n"
          ]
        },
        {
          "name": "stdout",
          "output_type": "stream",
          "text": [
            "Epoch 178: Cls Loss 0.3188 | Mix Loss 0.4037\n"
          ]
        },
        {
          "name": "stderr",
          "output_type": "stream",
          "text": [
            "[Epoch 179/200]: 100%|██████████| 391/391 [00:27<00:00, 14.30it/s, cls_loss=0.315, mix_loss=0.408]\n"
          ]
        },
        {
          "name": "stdout",
          "output_type": "stream",
          "text": [
            "Epoch 179: Cls Loss 0.3145 | Mix Loss 0.4084\n"
          ]
        },
        {
          "name": "stderr",
          "output_type": "stream",
          "text": [
            "[Epoch 180/200]: 100%|██████████| 391/391 [00:27<00:00, 14.34it/s, cls_loss=0.296, mix_loss=0.397]\n"
          ]
        },
        {
          "name": "stdout",
          "output_type": "stream",
          "text": [
            "Epoch 180: Cls Loss 0.2964 | Mix Loss 0.3975\n"
          ]
        },
        {
          "name": "stderr",
          "output_type": "stream",
          "text": [
            "[Epoch 181/200]: 100%|██████████| 391/391 [00:27<00:00, 14.31it/s, cls_loss=0.293, mix_loss=0.406]\n"
          ]
        },
        {
          "name": "stdout",
          "output_type": "stream",
          "text": [
            "Epoch 181: Cls Loss 0.2935 | Mix Loss 0.4055\n"
          ]
        },
        {
          "name": "stderr",
          "output_type": "stream",
          "text": [
            "[Epoch 182/200]: 100%|██████████| 391/391 [00:27<00:00, 14.26it/s, cls_loss=0.287, mix_loss=0.404]\n"
          ]
        },
        {
          "name": "stdout",
          "output_type": "stream",
          "text": [
            "Epoch 182: Cls Loss 0.2867 | Mix Loss 0.4039\n"
          ]
        },
        {
          "name": "stderr",
          "output_type": "stream",
          "text": [
            "[Epoch 183/200]: 100%|██████████| 391/391 [00:27<00:00, 14.25it/s, cls_loss=0.288, mix_loss=0.403]\n"
          ]
        },
        {
          "name": "stdout",
          "output_type": "stream",
          "text": [
            "Epoch 183: Cls Loss 0.2881 | Mix Loss 0.4027\n"
          ]
        },
        {
          "name": "stderr",
          "output_type": "stream",
          "text": [
            "[Epoch 184/200]: 100%|██████████| 391/391 [00:27<00:00, 14.24it/s, cls_loss=0.295, mix_loss=0.386]\n"
          ]
        },
        {
          "name": "stdout",
          "output_type": "stream",
          "text": [
            "Epoch 184: Cls Loss 0.2951 | Mix Loss 0.3857\n"
          ]
        },
        {
          "name": "stderr",
          "output_type": "stream",
          "text": [
            "[Epoch 185/200]: 100%|██████████| 391/391 [00:27<00:00, 14.29it/s, cls_loss=0.278, mix_loss=0.382]\n"
          ]
        },
        {
          "name": "stdout",
          "output_type": "stream",
          "text": [
            "Epoch 185: Cls Loss 0.2781 | Mix Loss 0.3819\n"
          ]
        },
        {
          "name": "stderr",
          "output_type": "stream",
          "text": [
            "[Epoch 186/200]: 100%|██████████| 391/391 [00:27<00:00, 14.28it/s, cls_loss=0.274, mix_loss=0.385]\n"
          ]
        },
        {
          "name": "stdout",
          "output_type": "stream",
          "text": [
            "Epoch 186: Cls Loss 0.2741 | Mix Loss 0.3850\n"
          ]
        },
        {
          "name": "stderr",
          "output_type": "stream",
          "text": [
            "[Epoch 187/200]: 100%|██████████| 391/391 [00:27<00:00, 14.23it/s, cls_loss=0.269, mix_loss=0.380]\n"
          ]
        },
        {
          "name": "stdout",
          "output_type": "stream",
          "text": [
            "Epoch 187: Cls Loss 0.2689 | Mix Loss 0.3795\n"
          ]
        },
        {
          "name": "stderr",
          "output_type": "stream",
          "text": [
            "[Epoch 188/200]: 100%|██████████| 391/391 [00:27<00:00, 14.33it/s, cls_loss=0.261, mix_loss=0.388]\n"
          ]
        },
        {
          "name": "stdout",
          "output_type": "stream",
          "text": [
            "Epoch 188: Cls Loss 0.2608 | Mix Loss 0.3880\n"
          ]
        },
        {
          "name": "stderr",
          "output_type": "stream",
          "text": [
            "[Epoch 189/200]: 100%|██████████| 391/391 [00:27<00:00, 14.25it/s, cls_loss=0.260, mix_loss=0.387]\n"
          ]
        },
        {
          "name": "stdout",
          "output_type": "stream",
          "text": [
            "Epoch 189: Cls Loss 0.2596 | Mix Loss 0.3868\n"
          ]
        },
        {
          "name": "stderr",
          "output_type": "stream",
          "text": [
            "[Epoch 190/200]: 100%|██████████| 391/391 [00:27<00:00, 14.29it/s, cls_loss=0.257, mix_loss=0.395]\n"
          ]
        },
        {
          "name": "stdout",
          "output_type": "stream",
          "text": [
            "Epoch 190: Cls Loss 0.2570 | Mix Loss 0.3947\n"
          ]
        },
        {
          "name": "stderr",
          "output_type": "stream",
          "text": [
            "[Epoch 191/200]: 100%|██████████| 391/391 [00:27<00:00, 14.29it/s, cls_loss=0.258, mix_loss=0.384]\n"
          ]
        },
        {
          "name": "stdout",
          "output_type": "stream",
          "text": [
            "Epoch 191: Cls Loss 0.2578 | Mix Loss 0.3845\n"
          ]
        },
        {
          "name": "stderr",
          "output_type": "stream",
          "text": [
            "[Epoch 192/200]: 100%|██████████| 391/391 [00:27<00:00, 14.32it/s, cls_loss=0.259, mix_loss=0.375]\n"
          ]
        },
        {
          "name": "stdout",
          "output_type": "stream",
          "text": [
            "Epoch 192: Cls Loss 0.2593 | Mix Loss 0.3750\n"
          ]
        },
        {
          "name": "stderr",
          "output_type": "stream",
          "text": [
            "[Epoch 193/200]: 100%|██████████| 391/391 [00:27<00:00, 14.21it/s, cls_loss=0.246, mix_loss=0.377]\n"
          ]
        },
        {
          "name": "stdout",
          "output_type": "stream",
          "text": [
            "Epoch 193: Cls Loss 0.2455 | Mix Loss 0.3767\n"
          ]
        },
        {
          "name": "stderr",
          "output_type": "stream",
          "text": [
            "[Epoch 194/200]: 100%|██████████| 391/391 [00:27<00:00, 14.26it/s, cls_loss=0.247, mix_loss=0.368]\n"
          ]
        },
        {
          "name": "stdout",
          "output_type": "stream",
          "text": [
            "Epoch 194: Cls Loss 0.2475 | Mix Loss 0.3677\n"
          ]
        },
        {
          "name": "stderr",
          "output_type": "stream",
          "text": [
            "[Epoch 195/200]: 100%|██████████| 391/391 [00:27<00:00, 14.30it/s, cls_loss=0.235, mix_loss=0.373]\n"
          ]
        },
        {
          "name": "stdout",
          "output_type": "stream",
          "text": [
            "Epoch 195: Cls Loss 0.2351 | Mix Loss 0.3732\n"
          ]
        },
        {
          "name": "stderr",
          "output_type": "stream",
          "text": [
            "[Epoch 196/200]: 100%|██████████| 391/391 [00:27<00:00, 14.26it/s, cls_loss=0.241, mix_loss=0.373]\n"
          ]
        },
        {
          "name": "stdout",
          "output_type": "stream",
          "text": [
            "Epoch 196: Cls Loss 0.2407 | Mix Loss 0.3728\n"
          ]
        },
        {
          "name": "stderr",
          "output_type": "stream",
          "text": [
            "[Epoch 197/200]: 100%|██████████| 391/391 [00:27<00:00, 14.28it/s, cls_loss=0.235, mix_loss=0.369]\n"
          ]
        },
        {
          "name": "stdout",
          "output_type": "stream",
          "text": [
            "Epoch 197: Cls Loss 0.2351 | Mix Loss 0.3688\n"
          ]
        },
        {
          "name": "stderr",
          "output_type": "stream",
          "text": [
            "[Epoch 198/200]: 100%|██████████| 391/391 [00:27<00:00, 14.21it/s, cls_loss=0.234, mix_loss=0.372]\n"
          ]
        },
        {
          "name": "stdout",
          "output_type": "stream",
          "text": [
            "Epoch 198: Cls Loss 0.2340 | Mix Loss 0.3718\n"
          ]
        },
        {
          "name": "stderr",
          "output_type": "stream",
          "text": [
            "[Epoch 199/200]: 100%|██████████| 391/391 [00:27<00:00, 14.22it/s, cls_loss=0.229, mix_loss=0.375]\n"
          ]
        },
        {
          "name": "stdout",
          "output_type": "stream",
          "text": [
            "Epoch 199: Cls Loss 0.2289 | Mix Loss 0.3746\n"
          ]
        },
        {
          "name": "stderr",
          "output_type": "stream",
          "text": [
            "[Epoch 200/200]: 100%|██████████| 391/391 [00:27<00:00, 14.27it/s, cls_loss=0.237, mix_loss=0.381]"
          ]
        },
        {
          "name": "stdout",
          "output_type": "stream",
          "text": [
            "Epoch 200: Cls Loss 0.2374 | Mix Loss 0.3810\n",
            "✅ Training complete.\n"
          ]
        },
        {
          "name": "stderr",
          "output_type": "stream",
          "text": [
            "\n"
          ]
        }
      ],
      "source": [
        "# ==============================================================\n",
        "# 📘 Section 2.2 + Section 6 — Training Loop for RaCNN\n",
        "# ==============================================================\n",
        "\n",
        "import torch.optim as optim\n",
        "from torch.nn import functional as F\n",
        "from tqdm import tqdm\n",
        "\n",
        "# instantiate all components\n",
        "feature_dim = 512\n",
        "projection = TrainableProjection(feature_dim).to(device)\n",
        "classifier = ClassifierHead(feature_dim, num_classes=10).to(device)\n",
        "model = RaCNN(phi, projection, classifier, index, db_feats, db_labels, K=5).to(device)\n",
        "\n",
        "# optimizer (paper: \"we use stochastic gradient descent\")\n",
        "optimizer = optim.SGD(model.parameters(), lr=1e-3, momentum=0.9, weight_decay=5e-4)\n",
        "\n",
        "# loss criterion\n",
        "criterion = nn.CrossEntropyLoss()\n",
        "\n",
        "# training hyperparams\n",
        "num_epochs = 200          # keep small in Colab\n",
        "NCE_steps = 1           # classification steps\n",
        "NMU_steps = 5           # local mixup steps\n",
        "\n",
        "for epoch in range(num_epochs):\n",
        "    model.train()\n",
        "    running_loss, running_mixup_loss = 0.0, 0.0\n",
        "    pbar = tqdm(trainloader, desc=f\"[Epoch {epoch+1}/{num_epochs}]\")\n",
        "    for imgs, labels in pbar:\n",
        "        imgs, labels = imgs.to(device), labels.to(device)\n",
        "        onehot = F.one_hot(labels, num_classes=10).float()\n",
        "\n",
        "        # ----------------------------------------------------------\n",
        "        # 1️⃣ Classification loss (NCE step)\n",
        "        # ----------------------------------------------------------\n",
        "        optimizer.zero_grad()\n",
        "        logits, P, _ = model(imgs)\n",
        "        loss_cls = criterion(logits, labels)\n",
        "        loss_cls.backward()\n",
        "        optimizer.step()\n",
        "        running_loss += loss_cls.item()\n",
        "\n",
        "        # ----------------------------------------------------------\n",
        "        # 2️⃣ Local Mixup regularization (NMU step)\n",
        "        # ----------------------------------------------------------\n",
        "        with torch.no_grad():\n",
        "            # retrieve neighbors again for mixup\n",
        "            phi_x = model.phi(imgs)\n",
        "            phi_x_np = phi_x.detach().cpu().numpy()\n",
        "            _, I = model.index.search(phi_x_np, model.K)\n",
        "            phi_neighbors = torch.tensor(model.db_feats[I], dtype=torch.float32, device=device)\n",
        "            y_neighbors = F.one_hot(\n",
        "                torch.tensor(model.db_labels[I], device=device), num_classes=10\n",
        "            ).float()\n",
        "\n",
        "        mixed_feat, mixed_label = local_mixup(phi_neighbors, y_neighbors)\n",
        "\n",
        "        optimizer.zero_grad()\n",
        "        logits_mix = model.classifier(mixed_feat)\n",
        "        loss_mix = F.cross_entropy(logits_mix, mixed_label.argmax(dim=1))\n",
        "        loss_mix.backward()\n",
        "        optimizer.step()\n",
        "        running_mixup_loss += loss_mix.item()\n",
        "\n",
        "        pbar.set_postfix({\n",
        "            \"cls_loss\": f\"{running_loss/len(trainloader):.3f}\",\n",
        "            \"mix_loss\": f\"{running_mixup_loss/len(trainloader):.3f}\"\n",
        "        })\n",
        "\n",
        "    print(f\"Epoch {epoch+1}: Cls Loss {running_loss/len(trainloader):.4f} | Mix Loss {running_mixup_loss/len(trainloader):.4f}\")\n",
        "\n",
        "print(\"✅ Training complete.\")\n"
      ]
    },
    {
      "cell_type": "code",
      "execution_count": 13,
      "metadata": {
        "colab": {
          "base_uri": "https://localhost:8080/"
        },
        "id": "95rNDaEBnf_V",
        "outputId": "02851501-2a5d-4980-c997-3d831920eccb"
      },
      "outputs": [
        {
          "name": "stdout",
          "output_type": "stream",
          "text": [
            "\n",
            "🧪 Evaluating robustness (CIFAR-10 test set)...\n"
          ]
        },
        {
          "name": "stderr",
          "output_type": "stream",
          "text": [
            "[Eval Clean]: 100%|██████████| 79/79 [00:11<00:00,  7.15it/s]\n",
            "[Eval FGSM]: 100%|██████████| 79/79 [00:25<00:00,  3.13it/s]\n",
            "[Eval iFGSM]: 100%|██████████| 79/79 [02:09<00:00,  1.63s/it]"
          ]
        },
        {
          "name": "stdout",
          "output_type": "stream",
          "text": [
            "✅ RaCNN accuracy — Clean: 69.02% | FGSM: 29.82% | iFGSM: 20.63%\n"
          ]
        },
        {
          "name": "stderr",
          "output_type": "stream",
          "text": [
            "\n"
          ]
        }
      ],
      "source": [
        "# ==============================================================\n",
        "# 📘 Section 6 — Evaluation under Adversarial Attacks\n",
        "# ==============================================================\n",
        "\n",
        "def fgsm_attack(model, images, labels, eps=0.03):\n",
        "    \"\"\"Implements FGSM: x_adv = x + eps * sign(∇x L(x, y)).\"\"\"\n",
        "    images = images.clone().detach().to(device)\n",
        "    images.requires_grad = True\n",
        "\n",
        "    outputs, _, _ = model(images)\n",
        "    loss = F.cross_entropy(outputs, labels)\n",
        "    loss.backward()\n",
        "    adv_images = images + eps * images.grad.sign()\n",
        "    adv_images = torch.clamp(adv_images, -1, 1)   # keep normalized range\n",
        "    return adv_images.detach()\n",
        "\n",
        "def ifgsm_attack(model, images, labels, eps=0.03, alpha=0.005, iters=10):\n",
        "    \"\"\"Iterative FGSM (a.k.a. PGD-lite).\"\"\"\n",
        "    images = images.clone().detach().to(device)\n",
        "    adv_images = images.clone().detach()\n",
        "\n",
        "    for _ in range(iters):\n",
        "        adv_images.requires_grad = True\n",
        "        outputs, _, _ = model(adv_images)\n",
        "        loss = F.cross_entropy(outputs, labels)\n",
        "        model.zero_grad()\n",
        "        loss.backward()\n",
        "        adv_images = adv_images + alpha * adv_images.grad.sign()\n",
        "        eta = torch.clamp(adv_images - images, min=-eps, max=eps)\n",
        "        adv_images = torch.clamp(images + eta, -1, 1).detach()\n",
        "    return adv_images\n",
        "\n",
        "\n",
        "# --------------------------------------------------------------\n",
        "# 🔹 Evaluation function\n",
        "# --------------------------------------------------------------\n",
        "def evaluate(model, dataloader, attack=None):\n",
        "    model.eval()\n",
        "    correct, total = 0, 0\n",
        "    for imgs, labels in tqdm(dataloader, desc=f\"[Eval {attack or 'Clean'}]\"):\n",
        "        imgs, labels = imgs.to(device), labels.to(device)\n",
        "        if attack == 'FGSM':\n",
        "            imgs = fgsm_attack(model, imgs, labels)\n",
        "        elif attack == 'iFGSM':\n",
        "            imgs = ifgsm_attack(model, imgs, labels)\n",
        "        with torch.no_grad():\n",
        "            outputs, _, _ = model(imgs)\n",
        "            preds = outputs.argmax(1)\n",
        "            correct += (preds == labels).sum().item()\n",
        "            total += labels.size(0)\n",
        "    return 100 * correct / total\n",
        "\n",
        "\n",
        "# --------------------------------------------------------------\n",
        "# 🔹 Evaluate RaCNN vs. Vanilla CNN\n",
        "# --------------------------------------------------------------\n",
        "print(\"\\n🧪 Evaluating robustness (CIFAR-10 test set)...\")\n",
        "\n",
        "# Baseline CNN (vanilla)\n",
        "vanilla = get_resnet18_backbone(pretrained=False)\n",
        "vanilla.fc = nn.Linear(512, 10)\n",
        "vanilla = vanilla.to(device)\n",
        "# assume it's randomly initialized — used to show difference in robustness\n",
        "\n",
        "acc_clean_racnn = evaluate(model, testloader, None)\n",
        "acc_fgsm_racnn  = evaluate(model, testloader, 'FGSM')\n",
        "acc_ifgsm_racnn = evaluate(model, testloader, 'iFGSM')\n",
        "\n",
        "print(f\"✅ RaCNN accuracy — Clean: {acc_clean_racnn:.2f}% | FGSM: {acc_fgsm_racnn:.2f}% | iFGSM: {acc_ifgsm_racnn:.2f}%\")\n"
      ]
    },
    {
      "cell_type": "code",
      "execution_count": 12,
      "metadata": {
        "colab": {
          "base_uri": "https://localhost:8080/"
        },
        "id": "o6XYKpRx8YrD",
        "outputId": "c5c35429-a12c-43a4-f302-a42dfc5ec8a2"
      },
      "outputs": [
        {
          "name": "stdout",
          "output_type": "stream",
          "text": [
            "🧪 Evaluating RaCNN robustness under full attack suite (CIFAR-10)...\n"
          ]
        },
        {
          "name": "stderr",
          "output_type": "stream",
          "text": [
            "[Eval Clean]: 100%|██████████| 79/79 [00:06<00:00, 11.98it/s]\n"
          ]
        },
        {
          "name": "stdout",
          "output_type": "stream",
          "text": [
            "Clean     : 84.55%\n"
          ]
        },
        {
          "name": "stderr",
          "output_type": "stream",
          "text": [
            "[Eval FGSM]: 100%|██████████| 79/79 [00:08<00:00,  9.31it/s]\n"
          ]
        },
        {
          "name": "stdout",
          "output_type": "stream",
          "text": [
            "FGSM      : 51.84%\n"
          ]
        },
        {
          "name": "stderr",
          "output_type": "stream",
          "text": [
            "[Eval iFGSM]: 100%|██████████| 79/79 [00:25<00:00,  3.13it/s]\n"
          ]
        },
        {
          "name": "stdout",
          "output_type": "stream",
          "text": [
            "iFGSM     : 11.78%\n"
          ]
        },
        {
          "name": "stderr",
          "output_type": "stream",
          "text": [
            "[Eval PGD]: 100%|██████████| 79/79 [00:43<00:00,  1.81it/s]\n"
          ]
        },
        {
          "name": "stdout",
          "output_type": "stream",
          "text": [
            "PGD       : 9.71%\n"
          ]
        },
        {
          "name": "stderr",
          "output_type": "stream",
          "text": [
            "[Eval DeepFool]: 100%|██████████| 79/79 [33:43<00:00, 25.61s/it]\n"
          ]
        },
        {
          "name": "stdout",
          "output_type": "stream",
          "text": [
            "DeepFool  : 10.84%\n"
          ]
        },
        {
          "name": "stderr",
          "output_type": "stream",
          "text": [
            "[Eval CW]: 100%|██████████| 79/79 [01:58<00:00,  1.50s/it]\n"
          ]
        },
        {
          "name": "stdout",
          "output_type": "stream",
          "text": [
            "CW        : 10.00%\n"
          ]
        },
        {
          "name": "stderr",
          "output_type": "stream",
          "text": [
            "[Eval Noise]: 100%|██████████| 79/79 [00:06<00:00, 12.17it/s]"
          ]
        },
        {
          "name": "stdout",
          "output_type": "stream",
          "text": [
            "Noise     : 82.48%\n",
            "\n",
            "✅ RaCNN Robustness Summary:\n",
            "Clean     : 84.55%\n",
            "FGSM      : 51.84%\n",
            "iFGSM     : 11.78%\n",
            "PGD       : 9.71%\n",
            "DeepFool  : 10.84%\n",
            "CW        : 10.00%\n",
            "Noise     : 82.48%\n"
          ]
        },
        {
          "name": "stderr",
          "output_type": "stream",
          "text": [
            "\n"
          ]
        }
      ],
      "source": [
        "# ==============================================================\n",
        "# 📘 Extended Adversarial Evaluation — Full Suite (Section 6)\n",
        "# ==============================================================\n",
        "import torchattacks\n",
        "from tqdm import tqdm\n",
        "import torch.nn as nn\n",
        "\n",
        "# --------------------------------------------------------------\n",
        "# 🔹 Fix for torchattacks — wrapper that only returns logits\n",
        "# --------------------------------------------------------------\n",
        "class LogitsWrapper(nn.Module):\n",
        "    def __init__(self, racnn):\n",
        "        super().__init__()\n",
        "        self.racnn = racnn\n",
        "    def forward(self, x):\n",
        "        logits, _, _ = self.racnn(x)\n",
        "        return logits\n",
        "\n",
        "# use wrapper for attacks (torchattacks expects logits only)\n",
        "wrapped_model = LogitsWrapper(model)\n",
        "\n",
        "# --------------------------------------------------------------\n",
        "# 🔹 Define attacks (matches Section 6 of the paper)\n",
        "# --------------------------------------------------------------\n",
        "atk_fgsm     = torchattacks.FGSM(wrapped_model, eps=0.03)\n",
        "atk_ifgsm    = torchattacks.PGD(wrapped_model, eps=0.03, alpha=0.005, steps=10)   # ≈ iFGSM\n",
        "atk_pgd      = torchattacks.PGD(wrapped_model, eps=0.03, alpha=0.005, steps=20)   # stronger PGD\n",
        "atk_deepfool = torchattacks.DeepFool(wrapped_model, steps=50)\n",
        "atk_cw       = torchattacks.CW(wrapped_model, c=1, kappa=0, steps=50, lr=0.01)\n",
        "atk_noise    = lambda x, y: torch.clamp(x + 0.03 * torch.randn_like(x), -1, 1)  # random Gaussian noise\n",
        "\n",
        "# Wrap all attacks in a dict\n",
        "attacks = {\n",
        "    \"Clean\":    None,\n",
        "    \"FGSM\":     atk_fgsm,\n",
        "    \"iFGSM\":    atk_ifgsm,\n",
        "    \"PGD\":      atk_pgd,\n",
        "    \"DeepFool\": atk_deepfool,\n",
        "    \"CW\":       atk_cw,\n",
        "    \"Noise\":    atk_noise,\n",
        "}\n",
        "\n",
        "# --------------------------------------------------------------\n",
        "# 🔹 Evaluation loop\n",
        "# --------------------------------------------------------------\n",
        "def evaluate_adv(model, dataloader, attacks):\n",
        "    \"\"\"Evaluate model under multiple attacks.\"\"\"\n",
        "    model.eval()\n",
        "    results = {}\n",
        "    for name, atk in attacks.items():\n",
        "        correct, total = 0, 0\n",
        "        for imgs, labels in tqdm(dataloader, desc=f\"[Eval {name}]\"):\n",
        "            imgs, labels = imgs.to(device), labels.to(device)\n",
        "            if atk is not None:\n",
        "                if callable(atk):  # noise\n",
        "                    imgs = atk(imgs, labels)\n",
        "                else:\n",
        "                    imgs = atk(imgs, labels)\n",
        "            with torch.no_grad():\n",
        "                outputs, _, _ = model(imgs)\n",
        "                preds = outputs.argmax(1)\n",
        "                correct += (preds == labels).sum().item()\n",
        "                total += labels.size(0)\n",
        "        acc = 100 * correct / total\n",
        "        results[name] = acc\n",
        "        print(f\"{name:10s}: {acc:.2f}%\")\n",
        "    return results\n",
        "\n",
        "# --------------------------------------------------------------\n",
        "# 🚀 Run full evaluation\n",
        "# --------------------------------------------------------------\n",
        "print(\"🧪 Evaluating RaCNN robustness under full attack suite (CIFAR-10)...\")\n",
        "results = evaluate_adv(model, testloader, attacks)\n",
        "\n",
        "print(\"\\n✅ RaCNN Robustness Summary:\")\n",
        "for k, v in results.items():\n",
        "    print(f\"{k:10s}: {v:.2f}%\")\n"
      ]
    }
  ],
  "metadata": {
    "accelerator": "GPU",
    "colab": {
      "gpuType": "T4",
      "provenance": []
    },
    "kernelspec": {
      "display_name": "torch310",
      "language": "python",
      "name": "python3"
    },
    "language_info": {
      "codemirror_mode": {
        "name": "ipython",
        "version": 3
      },
      "file_extension": ".py",
      "mimetype": "text/x-python",
      "name": "python",
      "nbconvert_exporter": "python",
      "pygments_lexer": "ipython3",
      "version": "3.10.18"
    }
  },
  "nbformat": 4,
  "nbformat_minor": 0
}
