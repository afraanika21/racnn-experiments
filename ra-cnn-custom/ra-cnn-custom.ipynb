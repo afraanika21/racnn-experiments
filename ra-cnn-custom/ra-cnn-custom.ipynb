{
 "cells": [
  {
   "cell_type": "code",
   "execution_count": 1,
   "id": "ed90b438",
   "metadata": {},
   "outputs": [
    {
     "name": "stdout",
     "output_type": "stream",
     "text": [
      "Device: cuda, AMP=True\n",
      "Train batches: 391, Train-plain (D') batches: 196, Test batches: 40\n"
     ]
    }
   ],
   "source": [
    "# === ra-cnn-custom.ipynb — Block 1: Setup & Datasets ===\n",
    "# Paper mapping:\n",
    "# - §5.1 Settings: datasets, augmentation only on D (train) not on D' (candidate set)\n",
    "# - §2.3 Retrieval Engine: φ′(x) computed over D' (candidate set) without augmentation\n",
    "# - §5.1 Evaluation metric: normalized L2 dissimilarity\n",
    "\n",
    "import os, math, random, json, time\n",
    "from pathlib import Path\n",
    "\n",
    "import numpy as np\n",
    "import torch\n",
    "import torch.nn as nn\n",
    "import torch.nn.functional as F\n",
    "from torch.utils.data import DataLoader\n",
    "from torchvision import datasets, transforms\n",
    "\n",
    "# ----------------------------\n",
    "# Reproducibility & device\n",
    "# ----------------------------\n",
    "SEED = 1234\n",
    "random.seed(SEED); np.random.seed(SEED); torch.manual_seed(SEED); torch.cuda.manual_seed_all(SEED)\n",
    "torch.backends.cudnn.deterministic = True\n",
    "torch.backends.cudnn.benchmark = False\n",
    "\n",
    "DEVICE = torch.device(\"cuda\" if torch.cuda.is_available() else \"cpu\")\n",
    "AMP = True  # mixed precision for speed on RTX 50xx / T4\n",
    "\n",
    "# ----------------------------\n",
    "# Paths & simple config\n",
    "# ----------------------------\n",
    "ROOT = Path(\".\").resolve()\n",
    "# ✅ changed: use shared root-level data folder so both notebooks reuse same CIFAR-10\n",
    "DATA_DIR = ROOT.parent / \"data\"\n",
    "\n",
    "ARTIFACTS = ROOT / \"artifacts\"\n",
    "CHECKPOINTS = ROOT / \"checkpoints\"\n",
    "RESULTS = ROOT / \"results\"\n",
    "FIGS = ROOT / \"figures\"\n",
    "\n",
    "\n",
    "for p in [ARTIFACTS, CHECKPOINTS, RESULTS, FIGS]:\n",
    "    p.mkdir(parents=True, exist_ok=True)\n",
    "\n",
    "CONFIG = {\n",
    "    \"seed\": SEED,\n",
    "    \"device\": str(DEVICE),\n",
    "    \"amp\": AMP,\n",
    "    \"baseline\": {\"epochs\": 40, \"min_epochs\": 20, \"early_patience\": 8, \"batch_size\": 128, \"lr\": 1e-3, \"wd\": 5e-4},\n",
    "    \"racnn\":    {\"epochs\": 30, \"min_epochs\": 15, \"early_patience\": 6, \"batch_size\": 128, \"lr\": 1e-3, \"wd\": 5e-4},\n",
    "    \"K_values\": [5, 10],\n",
    "    \"mixup\": {\"NMU\": 5},\n",
    "    \"eps_grid_l2\": [1e-5, 2e-5, 8e-5, 1e-4, 2e-4, 4e-4],\n",
    "    \"pgd\": {\"steps\": 10, \"rand_start\": True}\n",
    "}\n",
    "\n",
    "with open(ROOT / \"config.json\", \"w\") as f:\n",
    "    json.dump(CONFIG, f, indent=2)\n",
    "\n",
    "# ----------------------------\n",
    "# CIFAR-10 normalization\n",
    "# ----------------------------\n",
    "CIFAR10_MEAN = (0.4914, 0.4822, 0.4465)\n",
    "CIFAR10_STD  = (0.2470, 0.2435, 0.2616)\n",
    "\n",
    "# ----------------------------\n",
    "# Transforms\n",
    "# ----------------------------\n",
    "train_transform_aug = transforms.Compose([\n",
    "    transforms.RandomCrop(32, padding=4),\n",
    "    transforms.RandomHorizontalFlip(),\n",
    "    transforms.ToTensor(),\n",
    "    transforms.Normalize(CIFAR10_MEAN, CIFAR10_STD),\n",
    "])\n",
    "\n",
    "plain_transform = transforms.Compose([\n",
    "    transforms.ToTensor(),\n",
    "    transforms.Normalize(CIFAR10_MEAN, CIFAR10_STD),\n",
    "])\n",
    "\n",
    "# ----------------------------\n",
    "# Datasets\n",
    "# ----------------------------\n",
    "# ✅ changed: set download=False everywhere because dataset already exists\n",
    "train_aug_ds   = datasets.CIFAR10(root=DATA_DIR, train=True,  download=False, transform=train_transform_aug)\n",
    "train_plain_ds = datasets.CIFAR10(root=DATA_DIR, train=True,  download=False, transform=plain_transform)\n",
    "test_ds        = datasets.CIFAR10(root=DATA_DIR, train=False, download=False, transform=plain_transform)\n",
    "\n",
    "# ----------------------------\n",
    "# Loaders\n",
    "# ----------------------------\n",
    "BATCH_TRAIN = CONFIG[\"baseline\"][\"batch_size\"]\n",
    "BATCH_EVAL  = 256\n",
    "\n",
    "train_aug_loader   = DataLoader(train_aug_ds,   batch_size=BATCH_TRAIN, shuffle=True,  num_workers=4, pin_memory=True)\n",
    "train_plain_loader = DataLoader(train_plain_ds, batch_size=BATCH_EVAL,  shuffle=False, num_workers=4, pin_memory=True)\n",
    "test_loader        = DataLoader(test_ds,        batch_size=BATCH_EVAL,  shuffle=False, num_workers=4, pin_memory=True)\n",
    "\n",
    "# ----------------------------\n",
    "# Normalized L2 helper (§5.1)\n",
    "# ----------------------------\n",
    "def normalized_l2(x, x_adv):\n",
    "    \"\"\"\n",
    "    Paper §5.1 metric:\n",
    "      L2_norm(x, x_adv) / (dim(x) * (max(x)-min(x))^2)\n",
    "    \"\"\"\n",
    "    mean = torch.tensor(CIFAR10_MEAN, device=x.device).view(1,3,1,1)\n",
    "    std  = torch.tensor(CIFAR10_STD,  device=x.device).view(1,3,1,1)\n",
    "    x_raw     = x * std + mean\n",
    "    x_adv_raw = x_adv * std + mean\n",
    "    diff = (x_raw - x_adv_raw).view(x.shape[0], -1)\n",
    "    l2sq = (diff ** 2).sum(dim=1)\n",
    "    dim  = diff.shape[1]\n",
    "    return l2sq / dim  # (max-min)^2 = 1^2 for [0,1] pixels\n",
    "\n",
    "print(f\"Device: {DEVICE}, AMP={AMP}\")\n",
    "print(f\"Train batches: {len(train_aug_loader)}, Train-plain (D') batches: {len(train_plain_loader)}, Test batches: {len(test_loader)}\")\n"
   ]
  },
  {
   "cell_type": "code",
   "execution_count": 2,
   "id": "3478c6da",
   "metadata": {},
   "outputs": [
    {
     "name": "stdout",
     "output_type": "stream",
     "text": [
      "Baseline CNN (Appendix version) params: 1.46 M\n"
     ]
    }
   ],
   "source": [
    "# === Block 2: CNN Backbone (φ′ and g) — EXACT from Appendix §7 ===\n",
    "# Paper Table (\"Appendix: Model details\")\n",
    "\n",
    "class FeatureExtractor(nn.Module):\n",
    "    \"\"\"\n",
    "    φ or φ′ — as described in Appendix §7:\n",
    "      6 conv layers, specific strides and channel sizes.\n",
    "    Output feature map ≈ [B,192,4,4].\n",
    "    \"\"\"\n",
    "    def __init__(self):\n",
    "        super().__init__()\n",
    "        self.features = nn.Sequential(\n",
    "            # 1st conv block\n",
    "            nn.Conv2d(3, 96, kernel_size=3, stride=1, padding=1),   # 32→30\n",
    "            nn.BatchNorm2d(96),\n",
    "\n",
    "            # 2nd conv block\n",
    "            nn.Conv2d(96, 96, kernel_size=3, stride=1, padding=1),  # 30→28\n",
    "            nn.BatchNorm2d(96),\n",
    "            nn.ReLU(inplace=True),\n",
    "\n",
    "            # 3rd conv block (stride 2)\n",
    "            nn.Conv2d(96, 96, kernel_size=3, stride=2, padding=1),  # 28→13\n",
    "            nn.BatchNorm2d(96),\n",
    "            nn.ReLU(inplace=True),\n",
    "\n",
    "            # 4th conv block\n",
    "            nn.Conv2d(96, 192, kernel_size=3, stride=1, padding=1), # 13→11\n",
    "            nn.BatchNorm2d(192),\n",
    "            nn.ReLU(inplace=True),\n",
    "\n",
    "            # 5th conv block (stride 2)\n",
    "            nn.Conv2d(192, 192, kernel_size=3, stride=2, padding=1), # 11→4\n",
    "            nn.BatchNorm2d(192),\n",
    "            \n",
    "            # final normalization\n",
    "            nn.BatchNorm2d(192)\n",
    "        )\n",
    "        self.out_dim = 192 * 8 * 8\n",
    "\n",
    "    def forward(self, x):\n",
    "        x = self.features(x)\n",
    "        x = x.view(x.size(0), -1)\n",
    "        return x\n",
    "\n",
    "\n",
    "class Classifier(nn.Module):\n",
    "    \"\"\"\n",
    "    Classifier g from Appendix Table:\n",
    "      FC 256→64→10 (with BN + ReLU on first FC)\n",
    "    \"\"\"\n",
    "    def __init__(self, in_dim=3072, num_classes=10):\n",
    "        super().__init__()\n",
    "        self.classifier = nn.Sequential(\n",
    "            nn.Linear(in_dim, 64),\n",
    "            nn.BatchNorm1d(64),\n",
    "            nn.ReLU(inplace=True),\n",
    "            nn.Linear(64, num_classes)\n",
    "        )\n",
    "\n",
    "    def forward(self, x):\n",
    "        return self.classifier(x)\n",
    "\n",
    "\n",
    "class BaselineCNN(nn.Module):\n",
    "    \"\"\"φ′ + g — baseline CNN for pretraining\"\"\"\n",
    "    def __init__(self, num_classes=10):\n",
    "        super().__init__()\n",
    "        self.feature_extractor = FeatureExtractor()\n",
    "        self.classifier = Classifier(self.feature_extractor.out_dim, num_classes)\n",
    "\n",
    "    def forward(self, x):\n",
    "        feats = self.feature_extractor(x)\n",
    "        logits = self.classifier(feats)\n",
    "        return logits\n",
    "\n",
    "\n",
    "baseline_model = BaselineCNN(num_classes=10).to(DEVICE)\n",
    "print(f\"Baseline CNN (Appendix version) params: {sum(p.numel() for p in baseline_model.parameters())/1e6:.2f} M\")\n"
   ]
  },
  {
   "cell_type": "code",
   "execution_count": 3,
   "id": "f7cf6930",
   "metadata": {},
   "outputs": [
    {
     "name": "stdout",
     "output_type": "stream",
     "text": [
      "Feature shape: torch.Size([1, 12288])\n"
     ]
    }
   ],
   "source": [
    "x = torch.randn(1, 3, 32, 32).to(DEVICE)\n",
    "feats = baseline_model.feature_extractor(x)\n",
    "print(\"Feature shape:\", feats.shape)  # should be [1, 12288]\n"
   ]
  },
  {
   "cell_type": "code",
   "execution_count": null,
   "id": "6d0b5932",
   "metadata": {},
   "outputs": [
    {
     "name": "stderr",
     "output_type": "stream",
     "text": [
      "C:\\Users\\User\\AppData\\Local\\Temp\\ipykernel_13012\\3468669963.py:24: FutureWarning: `torch.cuda.amp.GradScaler(args...)` is deprecated. Please use `torch.amp.GradScaler('cuda', args...)` instead.\n",
      "  scaler = GradScaler(enabled=AMP)\n"
     ]
    },
    {
     "name": "stdout",
     "output_type": "stream",
     "text": [
      "Training on 45000 images, validating on 5000 images.\n"
     ]
    },
    {
     "name": "stderr",
     "output_type": "stream",
     "text": [
      "[Epoch 1/40] Train:   0%|          | 0/352 [00:00<?, ?it/s]C:\\Users\\User\\AppData\\Local\\Temp\\ipykernel_13012\\3468669963.py:58: FutureWarning: `torch.cuda.amp.autocast(args...)` is deprecated. Please use `torch.amp.autocast('cuda', args...)` instead.\n",
      "  with autocast(enabled=AMP):\n",
      "[Epoch 1] Val:   0%|          | 0/40 [00:00<?, ?it/s]                 C:\\Users\\User\\AppData\\Local\\Temp\\ipykernel_13012\\3468669963.py:78: FutureWarning: `torch.cuda.amp.autocast(args...)` is deprecated. Please use `torch.amp.autocast('cuda', args...)` instead.\n",
      "  with autocast(enabled=AMP):\n",
      "                                                              \r"
     ]
    },
    {
     "name": "stdout",
     "output_type": "stream",
     "text": [
      "Epoch 01: train_loss=1.4645 train_acc=0.4699 val_loss=1.2696 val_acc=0.5518\n"
     ]
    },
    {
     "name": "stderr",
     "output_type": "stream",
     "text": [
      "                                                                      \r"
     ]
    },
    {
     "name": "stdout",
     "output_type": "stream",
     "text": [
      "Epoch 02: train_loss=1.0495 train_acc=0.6242 val_loss=1.0101 val_acc=0.6352\n"
     ]
    },
    {
     "name": "stderr",
     "output_type": "stream",
     "text": [
      "                                                                      \r"
     ]
    },
    {
     "name": "stdout",
     "output_type": "stream",
     "text": [
      "Epoch 03: train_loss=0.8929 train_acc=0.6846 val_loss=0.9435 val_acc=0.6700\n"
     ]
    },
    {
     "name": "stderr",
     "output_type": "stream",
     "text": [
      "                                                                      \r"
     ]
    },
    {
     "name": "stdout",
     "output_type": "stream",
     "text": [
      "Epoch 04: train_loss=0.8076 train_acc=0.7162 val_loss=0.8431 val_acc=0.7058\n"
     ]
    },
    {
     "name": "stderr",
     "output_type": "stream",
     "text": [
      "                                                                      \r"
     ]
    },
    {
     "name": "stdout",
     "output_type": "stream",
     "text": [
      "Epoch 05: train_loss=0.7472 train_acc=0.7394 val_loss=0.7827 val_acc=0.7292\n"
     ]
    },
    {
     "name": "stderr",
     "output_type": "stream",
     "text": [
      "                                                                      \r"
     ]
    },
    {
     "name": "stdout",
     "output_type": "stream",
     "text": [
      "Epoch 06: train_loss=0.7001 train_acc=0.7551 val_loss=0.8305 val_acc=0.7124\n"
     ]
    },
    {
     "name": "stderr",
     "output_type": "stream",
     "text": [
      "                                                                      \r"
     ]
    },
    {
     "name": "stdout",
     "output_type": "stream",
     "text": [
      "Epoch 07: train_loss=0.6606 train_acc=0.7691 val_loss=0.7167 val_acc=0.7482\n"
     ]
    },
    {
     "name": "stderr",
     "output_type": "stream",
     "text": [
      "                                                                      \r"
     ]
    },
    {
     "name": "stdout",
     "output_type": "stream",
     "text": [
      "Epoch 08: train_loss=0.6311 train_acc=0.7797 val_loss=0.7209 val_acc=0.7500\n"
     ]
    },
    {
     "name": "stderr",
     "output_type": "stream",
     "text": [
      "                                                                      \r"
     ]
    },
    {
     "name": "stdout",
     "output_type": "stream",
     "text": [
      "Epoch 09: train_loss=0.6068 train_acc=0.7893 val_loss=0.6840 val_acc=0.7622\n"
     ]
    },
    {
     "name": "stderr",
     "output_type": "stream",
     "text": [
      "                                                                       \r"
     ]
    },
    {
     "name": "stdout",
     "output_type": "stream",
     "text": [
      "Epoch 10: train_loss=0.5801 train_acc=0.7992 val_loss=0.6729 val_acc=0.7636\n"
     ]
    },
    {
     "name": "stderr",
     "output_type": "stream",
     "text": [
      "                                                                       \r"
     ]
    },
    {
     "name": "stdout",
     "output_type": "stream",
     "text": [
      "Epoch 11: train_loss=0.5578 train_acc=0.8059 val_loss=0.6518 val_acc=0.7698\n"
     ]
    },
    {
     "name": "stderr",
     "output_type": "stream",
     "text": [
      "                                                                       \r"
     ]
    },
    {
     "name": "stdout",
     "output_type": "stream",
     "text": [
      "Epoch 12: train_loss=0.5423 train_acc=0.8123 val_loss=0.6191 val_acc=0.7840\n"
     ]
    },
    {
     "name": "stderr",
     "output_type": "stream",
     "text": [
      "                                                                       \r"
     ]
    },
    {
     "name": "stdout",
     "output_type": "stream",
     "text": [
      "Epoch 13: train_loss=0.5252 train_acc=0.8178 val_loss=0.5947 val_acc=0.7980\n"
     ]
    },
    {
     "name": "stderr",
     "output_type": "stream",
     "text": [
      "                                                                       \r"
     ]
    },
    {
     "name": "stdout",
     "output_type": "stream",
     "text": [
      "Epoch 14: train_loss=0.5141 train_acc=0.8226 val_loss=0.5922 val_acc=0.7940\n"
     ]
    },
    {
     "name": "stderr",
     "output_type": "stream",
     "text": [
      "                                                                       \r"
     ]
    },
    {
     "name": "stdout",
     "output_type": "stream",
     "text": [
      "Epoch 15: train_loss=0.4924 train_acc=0.8288 val_loss=0.5489 val_acc=0.8120\n"
     ]
    },
    {
     "name": "stderr",
     "output_type": "stream",
     "text": [
      "                                                                       \r"
     ]
    },
    {
     "name": "stdout",
     "output_type": "stream",
     "text": [
      "Epoch 16: train_loss=0.4785 train_acc=0.8348 val_loss=0.6485 val_acc=0.7822\n"
     ]
    },
    {
     "name": "stderr",
     "output_type": "stream",
     "text": [
      "                                                                       \r"
     ]
    },
    {
     "name": "stdout",
     "output_type": "stream",
     "text": [
      "Epoch 17: train_loss=0.4665 train_acc=0.8384 val_loss=0.6054 val_acc=0.7888\n"
     ]
    },
    {
     "name": "stderr",
     "output_type": "stream",
     "text": [
      "                                                                       \r"
     ]
    },
    {
     "name": "stdout",
     "output_type": "stream",
     "text": [
      "Epoch 18: train_loss=0.4557 train_acc=0.8409 val_loss=0.6076 val_acc=0.7992\n"
     ]
    },
    {
     "name": "stderr",
     "output_type": "stream",
     "text": [
      "                                                                       \r"
     ]
    },
    {
     "name": "stdout",
     "output_type": "stream",
     "text": [
      "Epoch 19: train_loss=0.4425 train_acc=0.8479 val_loss=0.5844 val_acc=0.7988\n"
     ]
    },
    {
     "name": "stderr",
     "output_type": "stream",
     "text": [
      "                                                                       \r"
     ]
    },
    {
     "name": "stdout",
     "output_type": "stream",
     "text": [
      "Epoch 20: train_loss=0.4316 train_acc=0.8515 val_loss=0.5745 val_acc=0.8066\n"
     ]
    },
    {
     "name": "stderr",
     "output_type": "stream",
     "text": [
      "                                                                       \r"
     ]
    },
    {
     "name": "stdout",
     "output_type": "stream",
     "text": [
      "Epoch 21: train_loss=0.4221 train_acc=0.8538 val_loss=0.5221 val_acc=0.8216\n"
     ]
    },
    {
     "name": "stderr",
     "output_type": "stream",
     "text": [
      "                                                                       \r"
     ]
    },
    {
     "name": "stdout",
     "output_type": "stream",
     "text": [
      "Epoch 22: train_loss=0.4173 train_acc=0.8574 val_loss=0.5648 val_acc=0.8010\n"
     ]
    },
    {
     "name": "stderr",
     "output_type": "stream",
     "text": [
      "                                                                       \r"
     ]
    },
    {
     "name": "stdout",
     "output_type": "stream",
     "text": [
      "Epoch 23: train_loss=0.4090 train_acc=0.8591 val_loss=0.5201 val_acc=0.8188\n"
     ]
    },
    {
     "name": "stderr",
     "output_type": "stream",
     "text": [
      "                                                                       \r"
     ]
    },
    {
     "name": "stdout",
     "output_type": "stream",
     "text": [
      "Epoch 24: train_loss=0.3963 train_acc=0.8623 val_loss=0.4854 val_acc=0.8302\n"
     ]
    },
    {
     "name": "stderr",
     "output_type": "stream",
     "text": [
      "                                                                       \r"
     ]
    },
    {
     "name": "stdout",
     "output_type": "stream",
     "text": [
      "Epoch 25: train_loss=0.3895 train_acc=0.8650 val_loss=0.5391 val_acc=0.8188\n"
     ]
    },
    {
     "name": "stderr",
     "output_type": "stream",
     "text": [
      "                                                                       \r"
     ]
    },
    {
     "name": "stdout",
     "output_type": "stream",
     "text": [
      "Epoch 26: train_loss=0.3825 train_acc=0.8686 val_loss=0.4916 val_acc=0.8312\n"
     ]
    },
    {
     "name": "stderr",
     "output_type": "stream",
     "text": [
      "                                                                       \r"
     ]
    },
    {
     "name": "stdout",
     "output_type": "stream",
     "text": [
      "Epoch 27: train_loss=0.3829 train_acc=0.8691 val_loss=0.4933 val_acc=0.8294\n"
     ]
    },
    {
     "name": "stderr",
     "output_type": "stream",
     "text": [
      "                                                                       \r"
     ]
    },
    {
     "name": "stdout",
     "output_type": "stream",
     "text": [
      "Epoch 28: train_loss=0.3729 train_acc=0.8707 val_loss=0.4998 val_acc=0.8282\n"
     ]
    },
    {
     "name": "stderr",
     "output_type": "stream",
     "text": [
      "                                                                       \r"
     ]
    },
    {
     "name": "stdout",
     "output_type": "stream",
     "text": [
      "Epoch 29: train_loss=0.3673 train_acc=0.8730 val_loss=0.4840 val_acc=0.8322\n"
     ]
    },
    {
     "name": "stderr",
     "output_type": "stream",
     "text": [
      "                                                                       \r"
     ]
    },
    {
     "name": "stdout",
     "output_type": "stream",
     "text": [
      "Epoch 30: train_loss=0.3625 train_acc=0.8746 val_loss=0.4820 val_acc=0.8374\n"
     ]
    },
    {
     "name": "stderr",
     "output_type": "stream",
     "text": [
      "                                                                       \r"
     ]
    },
    {
     "name": "stdout",
     "output_type": "stream",
     "text": [
      "Epoch 31: train_loss=0.3582 train_acc=0.8753 val_loss=0.5055 val_acc=0.8244\n"
     ]
    },
    {
     "name": "stderr",
     "output_type": "stream",
     "text": [
      "                                                                       \r"
     ]
    },
    {
     "name": "stdout",
     "output_type": "stream",
     "text": [
      "Epoch 32: train_loss=0.3551 train_acc=0.8773 val_loss=0.4819 val_acc=0.8384\n"
     ]
    },
    {
     "name": "stderr",
     "output_type": "stream",
     "text": [
      "                                                                       \r"
     ]
    },
    {
     "name": "stdout",
     "output_type": "stream",
     "text": [
      "Epoch 33: train_loss=0.3466 train_acc=0.8795 val_loss=0.4937 val_acc=0.8298\n"
     ]
    },
    {
     "name": "stderr",
     "output_type": "stream",
     "text": [
      "                                                                       \r"
     ]
    },
    {
     "name": "stdout",
     "output_type": "stream",
     "text": [
      "Epoch 34: train_loss=0.3424 train_acc=0.8832 val_loss=0.4757 val_acc=0.8376\n"
     ]
    },
    {
     "name": "stderr",
     "output_type": "stream",
     "text": [
      "                                                                       \r"
     ]
    },
    {
     "name": "stdout",
     "output_type": "stream",
     "text": [
      "Epoch 35: train_loss=0.3413 train_acc=0.8832 val_loss=0.5008 val_acc=0.8340\n"
     ]
    },
    {
     "name": "stderr",
     "output_type": "stream",
     "text": [
      "                                                                       \r"
     ]
    },
    {
     "name": "stdout",
     "output_type": "stream",
     "text": [
      "Epoch 36: train_loss=0.3379 train_acc=0.8835 val_loss=0.4600 val_acc=0.8420\n"
     ]
    },
    {
     "name": "stderr",
     "output_type": "stream",
     "text": [
      "                                                                       \r"
     ]
    },
    {
     "name": "stdout",
     "output_type": "stream",
     "text": [
      "Epoch 37: train_loss=0.3360 train_acc=0.8833 val_loss=0.5295 val_acc=0.8202\n"
     ]
    },
    {
     "name": "stderr",
     "output_type": "stream",
     "text": [
      "                                                                       \r"
     ]
    },
    {
     "name": "stdout",
     "output_type": "stream",
     "text": [
      "Epoch 38: train_loss=0.3323 train_acc=0.8832 val_loss=0.4947 val_acc=0.8342\n"
     ]
    },
    {
     "name": "stderr",
     "output_type": "stream",
     "text": [
      "                                                                       \r"
     ]
    },
    {
     "name": "stdout",
     "output_type": "stream",
     "text": [
      "Epoch 39: train_loss=0.3298 train_acc=0.8844 val_loss=0.5077 val_acc=0.8280\n"
     ]
    },
    {
     "name": "stderr",
     "output_type": "stream",
     "text": [
      "                                                                       \r"
     ]
    },
    {
     "name": "stdout",
     "output_type": "stream",
     "text": [
      "Epoch 40: train_loss=0.3272 train_acc=0.8867 val_loss=0.4857 val_acc=0.8348\n"
     ]
    },
    {
     "name": "stderr",
     "output_type": "stream",
     "text": [
      "Test (clean): 100%|██████████| 40/40 [00:09<00:00,  4.26it/s]"
     ]
    },
    {
     "name": "stdout",
     "output_type": "stream",
     "text": [
      "\n",
      "✅ Clean Test Accuracy (Baseline φ′+g′): 86.38% | Saved best checkpoint to checkpoints/baseline_best.pt\n"
     ]
    },
    {
     "name": "stderr",
     "output_type": "stream",
     "text": [
      "\n"
     ]
    }
   ],
   "source": [
    "# # === Block 3: Baseline Training (φ′ + g′) ===\n",
    "# # --------------------------------------------------------------\n",
    "# # Train the baseline CNN classifier as in §5.1 and §5.2.\n",
    "# # This will later provide the retrieval feature extractor φ′.\n",
    "# # --------------------------------------------------------------\n",
    "\n",
    "# import copy\n",
    "# from torch.optim import Adam\n",
    "# from torch.cuda.amp import GradScaler, autocast\n",
    "# from tqdm import tqdm\n",
    "\n",
    "# # --------------------------------------------------------------\n",
    "# # Hyperparameters & setup\n",
    "# # --------------------------------------------------------------\n",
    "# EPOCHS = CONFIG[\"baseline\"][\"epochs\"]\n",
    "# LR      = CONFIG[\"baseline\"][\"lr\"]\n",
    "# WD      = CONFIG[\"baseline\"][\"wd\"]\n",
    "# BATCH   = CONFIG[\"baseline\"][\"batch_size\"]\n",
    "# PATIENCE= CONFIG[\"baseline\"][\"early_patience\"]\n",
    "# MIN_E   = CONFIG[\"baseline\"][\"min_epochs\"]\n",
    "\n",
    "# criterion = nn.CrossEntropyLoss()\n",
    "# optimizer = Adam(baseline_model.parameters(), lr=LR, weight_decay=WD)\n",
    "# scaler = GradScaler(enabled=AMP)\n",
    "\n",
    "# # simple train/val split (10% val)\n",
    "# n_total = len(train_aug_ds)\n",
    "# n_val   = int(0.1 * n_total)\n",
    "# n_train = n_total - n_val\n",
    "# train_ds, val_ds = torch.utils.data.random_split(train_aug_ds, [n_train, n_val])\n",
    "# train_loader = DataLoader(train_ds, batch_size=BATCH, shuffle=True,  num_workers=4, pin_memory=True)\n",
    "# val_loader   = DataLoader(val_ds,   batch_size=BATCH, shuffle=False, num_workers=4, pin_memory=True)\n",
    "\n",
    "# print(f\"Training on {len(train_ds)} images, validating on {len(val_ds)} images.\")\n",
    "\n",
    "# # --------------------------------------------------------------\n",
    "# # Utility: accuracy function\n",
    "# # --------------------------------------------------------------\n",
    "# def accuracy_fn(logits, targets):\n",
    "#     preds = logits.argmax(dim=1)\n",
    "#     return (preds == targets).float().mean().item()\n",
    "\n",
    "# # --------------------------------------------------------------\n",
    "# # Training loop with early stopping and checkpoint\n",
    "# # --------------------------------------------------------------\n",
    "# best_val_acc = 0.0\n",
    "# best_model_wts = copy.deepcopy(baseline_model.state_dict())\n",
    "# epochs_no_improve = 0\n",
    "\n",
    "# for epoch in range(1, EPOCHS+1):\n",
    "#     baseline_model.train()\n",
    "#     train_loss, train_acc = 0.0, 0.0\n",
    "\n",
    "#     for imgs, labels in tqdm(train_loader, desc=f\"[Epoch {epoch}/{EPOCHS}] Train\", leave=False):\n",
    "#         imgs, labels = imgs.to(DEVICE), labels.to(DEVICE)\n",
    "#         optimizer.zero_grad(set_to_none=True)\n",
    "\n",
    "#         with autocast(enabled=AMP):\n",
    "#             outputs = baseline_model(imgs)\n",
    "#             loss = criterion(outputs, labels)\n",
    "\n",
    "#         scaler.scale(loss).backward()\n",
    "#         scaler.step(optimizer)\n",
    "#         scaler.update()\n",
    "\n",
    "#         train_loss += loss.item() * imgs.size(0)\n",
    "#         train_acc  += accuracy_fn(outputs, labels) * imgs.size(0)\n",
    "\n",
    "#     train_loss /= len(train_loader.dataset)\n",
    "#     train_acc  /= len(train_loader.dataset)\n",
    "\n",
    "#     # -------------------- Validation --------------------\n",
    "#     baseline_model.eval()\n",
    "#     val_loss, val_acc = 0.0, 0.0\n",
    "#     with torch.no_grad():\n",
    "#         for imgs, labels in tqdm(val_loader, desc=f\"[Epoch {epoch}] Val\", leave=False):\n",
    "#             imgs, labels = imgs.to(DEVICE), labels.to(DEVICE)\n",
    "#             with autocast(enabled=AMP):\n",
    "#                 outputs = baseline_model(imgs)\n",
    "#                 loss = criterion(outputs, labels)\n",
    "\n",
    "#             val_loss += loss.item() * imgs.size(0)\n",
    "#             val_acc  += accuracy_fn(outputs, labels) * imgs.size(0)\n",
    "\n",
    "#     val_loss /= len(val_loader.dataset)\n",
    "#     val_acc  /= len(val_loader.dataset)\n",
    "\n",
    "#     print(f\"Epoch {epoch:02d}: train_loss={train_loss:.4f} \"\n",
    "#           f\"train_acc={train_acc:.4f} val_loss={val_loss:.4f} val_acc={val_acc:.4f}\")\n",
    "\n",
    "#     # -------------------- Early stopping --------------------\n",
    "#     if val_acc > best_val_acc:\n",
    "#         best_val_acc = val_acc\n",
    "#         best_model_wts = copy.deepcopy(baseline_model.state_dict())\n",
    "#         epochs_no_improve = 0\n",
    "#         torch.save(best_model_wts, CHECKPOINTS / \"baseline_best.pt\")\n",
    "#     else:\n",
    "#         epochs_no_improve += 1\n",
    "\n",
    "#     if epoch > MIN_E and epochs_no_improve >= PATIENCE:\n",
    "#         print(f\"⏹ Early stopping at epoch {epoch} (no improvement for {PATIENCE} epochs).\")\n",
    "#         break\n",
    "\n",
    "# # --------------------------------------------------------------\n",
    "# # Load best weights and evaluate on clean test set (§5.2)\n",
    "# # --------------------------------------------------------------\n",
    "# baseline_model.load_state_dict(best_model_wts)\n",
    "# baseline_model.eval()\n",
    "# test_acc = 0.0\n",
    "# with torch.no_grad():\n",
    "#     for imgs, labels in tqdm(test_loader, desc=\"Test (clean)\"):\n",
    "#         imgs, labels = imgs.to(DEVICE), labels.to(DEVICE)\n",
    "#         outputs = baseline_model(imgs)\n",
    "#         test_acc += accuracy_fn(outputs, labels) * imgs.size(0)\n",
    "\n",
    "# test_acc /= len(test_loader.dataset)\n",
    "# print(f\"\\n✅ Clean Test Accuracy (Baseline φ′+g′): {test_acc*100:.2f}% \"\n",
    "#       f\"| Saved best checkpoint to checkpoints/baseline_best.pt\")\n"
   ]
  },
  {
   "cell_type": "code",
   "execution_count": 4,
   "id": "70b0d96a",
   "metadata": {},
   "outputs": [
    {
     "name": "stdout",
     "output_type": "stream",
     "text": [
      "odict_keys(['feature_extractor.features.0.weight', 'feature_extractor.features.0.bias', 'feature_extractor.features.1.weight', 'feature_extractor.features.1.bias', 'feature_extractor.features.1.running_mean', 'feature_extractor.features.1.running_var', 'feature_extractor.features.1.num_batches_tracked', 'feature_extractor.features.2.weight', 'feature_extractor.features.2.bias', 'feature_extractor.features.3.weight', 'feature_extractor.features.3.bias', 'feature_extractor.features.3.running_mean', 'feature_extractor.features.3.running_var', 'feature_extractor.features.3.num_batches_tracked', 'feature_extractor.features.5.weight', 'feature_extractor.features.5.bias', 'feature_extractor.features.6.weight', 'feature_extractor.features.6.bias', 'feature_extractor.features.6.running_mean', 'feature_extractor.features.6.running_var', 'feature_extractor.features.6.num_batches_tracked', 'feature_extractor.features.8.weight', 'feature_extractor.features.8.bias', 'feature_extractor.features.9.weight', 'feature_extractor.features.9.bias', 'feature_extractor.features.9.running_mean', 'feature_extractor.features.9.running_var', 'feature_extractor.features.9.num_batches_tracked', 'feature_extractor.features.11.weight', 'feature_extractor.features.11.bias', 'feature_extractor.features.12.weight', 'feature_extractor.features.12.bias', 'feature_extractor.features.12.running_mean', 'feature_extractor.features.12.running_var', 'feature_extractor.features.12.num_batches_tracked', 'feature_extractor.features.13.weight', 'feature_extractor.features.13.bias', 'feature_extractor.features.13.running_mean', 'feature_extractor.features.13.running_var', 'feature_extractor.features.13.num_batches_tracked', 'classifier.classifier.0.weight', 'classifier.classifier.0.bias', 'classifier.classifier.1.weight', 'classifier.classifier.1.bias', 'classifier.classifier.1.running_mean', 'classifier.classifier.1.running_var', 'classifier.classifier.1.num_batches_tracked', 'classifier.classifier.3.weight', 'classifier.classifier.3.bias'])\n"
     ]
    }
   ],
   "source": [
    "ckpt = torch.load(CHECKPOINTS / \"baseline_best.pt\", map_location=\"cpu\")\n",
    "print(ckpt.keys())\n"
   ]
  },
  {
   "cell_type": "code",
   "execution_count": null,
   "id": "2c151ff2",
   "metadata": {},
   "outputs": [
    {
     "name": "stdout",
     "output_type": "stream",
     "text": [
      "✅ Loaded pretrained feature extractor φ′ for retrieval engine (filtered from baseline).\n"
     ]
    },
    {
     "name": "stderr",
     "output_type": "stream",
     "text": [
      "Embedding D′: 100%|███████████████████████████████████████████████| 196/196 [00:13<00:00, 14.92it/s]\n"
     ]
    },
    {
     "name": "stdout",
     "output_type": "stream",
     "text": [
      "Feature matrix: torch.Size([50000, 12288]), Labels: torch.Size([50000])\n",
      "✅ FAISS index built with 50000 vectors of dim 12288\n",
      "💾 Saved retrieval engine artifacts (features, labels, index)\n",
      "🔍 Retrieval engine ready! Testing one query batch...\n",
      "Query→retrieval distances shape: torch.Size([2, 5]), retrieved labels[0]: [5, 3, 3, 2, 6]\n"
     ]
    }
   ],
   "source": [
    "# # === Block 4: Retrieval Engine F — FAISS implementation ===\n",
    "# # Paper mapping:\n",
    "# # - §2.3 Retrieval Engine F : “pretrained φ′ used to embed D′”\n",
    "# # - §5.1 Settings           : “no augmentation on D′”\n",
    "# # - retrieval goal          : build index over φ′(x′) for all candidate samples in D′\n",
    "\n",
    "# import faiss\n",
    "# import pickle\n",
    "# from tqdm import tqdm\n",
    "\n",
    "# # ----------------------------\n",
    "# # 1️⃣ Load pretrained φ′ (feature extractor only)\n",
    "# # ----------------------------\n",
    "# baseline_ckpt = torch.load(CHECKPOINTS / \"baseline_best.pt\", map_location=DEVICE)\n",
    "\n",
    "# # Extract only φ′ weights (ignore classifier)\n",
    "# phi_dict = {k.replace(\"feature_extractor.\", \"\"): v\n",
    "#             for k, v in baseline_ckpt.items()\n",
    "#             if k.startswith(\"feature_extractor.\")}\n",
    "\n",
    "# phi = FeatureExtractor().to(DEVICE)\n",
    "# phi.load_state_dict(phi_dict, strict=False)\n",
    "# phi.eval()\n",
    "# for p in phi.parameters():\n",
    "#     p.requires_grad = False\n",
    "\n",
    "# print(\"✅ Loaded pretrained feature extractor φ′ for retrieval engine (filtered from baseline).\")\n",
    "\n",
    "\n",
    "# # ----------------------------\n",
    "# # 2️⃣ Embed all D′ (train_plain_ds)\n",
    "# # ----------------------------\n",
    "# all_feats, all_labels = [], []\n",
    "\n",
    "# with torch.no_grad():\n",
    "#     for imgs, labels in tqdm(train_plain_loader, desc=\"Embedding D′\", ncols=100):\n",
    "#         imgs = imgs.to(DEVICE)\n",
    "#         feats = phi(imgs)                     # φ′(x′)\n",
    "#         feats = F.normalize(feats, p=2, dim=1)  # L2-normalize improves distance stability\n",
    "#         all_feats.append(feats.cpu())\n",
    "#         all_labels.append(labels)\n",
    "\n",
    "# all_feats  = torch.cat(all_feats)\n",
    "# all_labels = torch.cat(all_labels)\n",
    "\n",
    "# print(f\"Feature matrix: {all_feats.shape}, Labels: {all_labels.shape}\")\n",
    "\n",
    "# # ----------------------------\n",
    "# # 3️⃣ Build FAISS index (L2 metric)\n",
    "# # ----------------------------\n",
    "# d = all_feats.shape[1]  # feature dimension, should be 3072\n",
    "# index = faiss.IndexFlatL2(d)  # exact search with L2\n",
    "# index.add(all_feats.numpy().astype('float32'))\n",
    "# print(f\"✅ FAISS index built with {index.ntotal} vectors of dim {d}\")\n",
    "\n",
    "# # ----------------------------\n",
    "# # 4️⃣ Save artifacts\n",
    "# # ----------------------------\n",
    "# torch.save(all_feats, ARTIFACTS / \"features_train_plain.pt\")\n",
    "# torch.save(all_labels, ARTIFACTS / \"labels_train_plain.pt\")\n",
    "# faiss.write_index(index, str(ARTIFACTS / \"faiss_index.bin\"))\n",
    "# print(\"💾 Saved retrieval engine artifacts (features, labels, index)\")\n",
    "\n",
    "# # ----------------------------\n",
    "# # 5️⃣ Retrieval helper\n",
    "# # ----------------------------\n",
    "# class RetrievalEngine:\n",
    "#     \"\"\"\n",
    "#     F(x): returns indices + labels of top-K nearest neighbors from D′.\n",
    "#     Paper §2.3 : uses φ′(x) as query key.\n",
    "#     \"\"\"\n",
    "#     def __init__(self, feature_extractor, index, features, labels):\n",
    "#         self.phi = feature_extractor.eval()\n",
    "#         self.index = index\n",
    "#         self.features = features\n",
    "#         self.labels = labels\n",
    "\n",
    "#     def retrieve(self, x, K=5):\n",
    "#         with torch.no_grad():\n",
    "#             feats = self.phi(x.to(DEVICE))\n",
    "#             feats = F.normalize(feats, p=2, dim=1)\n",
    "#             D, I = self.index.search(feats.cpu().numpy().astype('float32'), K)\n",
    "#             retrieved_feats = self.features[I]\n",
    "#             retrieved_labels = self.labels[I]\n",
    "#         return torch.tensor(D), retrieved_feats, retrieved_labels\n",
    "\n",
    "# # quick self-test\n",
    "# retr_engine = RetrievalEngine(phi, index, all_feats, all_labels)\n",
    "# print(\"🔍 Retrieval engine ready! Testing one query batch...\")\n",
    "\n",
    "# imgs, labels = next(iter(test_loader))\n",
    "# D, feats, labs = retr_engine.retrieve(imgs[:2], K=5)\n",
    "# print(f\"Query→retrieval distances shape: {D.shape}, retrieved labels[0]: {labs[0].tolist()[:5]}\")\n"
   ]
  },
  {
   "cell_type": "code",
   "execution_count": null,
   "id": "3565fde1",
   "metadata": {},
   "outputs": [
    {
     "name": "stdout",
     "output_type": "stream",
     "text": [
      "Found existing installation: faiss-cpu 1.12.0\n",
      "Uninstalling faiss-cpu-1.12.0:\n",
      "  Successfully uninstalled faiss-cpu-1.12.0\n",
      "Note: you may need to restart the kernel to use updated packages.\n"
     ]
    },
    {
     "name": "stderr",
     "output_type": "stream",
     "text": [
      "WARNING: Failed to remove contents in a temporary directory 'C:\\Users\\User\\anaconda3\\envs\\torch310\\Lib\\site-packages\\~aiss'.\n",
      "You can safely remove it manually.\n",
      "WARNING: Failed to remove contents in a temporary directory 'C:\\Users\\User\\anaconda3\\envs\\torch310\\Lib\\site-packages\\~aiss_cpu.libs'.\n",
      "You can safely remove it manually.\n"
     ]
    }
   ],
   "source": [
    "# !pip uninstall faiss-cpu -y\n"
   ]
  },
  {
   "cell_type": "code",
   "execution_count": 5,
   "id": "3397b7a8",
   "metadata": {},
   "outputs": [
    {
     "name": "stdout",
     "output_type": "stream",
     "text": [
      "FAISS version: 1.9.0\n",
      "Number of available GPUs: 1\n",
      "Has GPU symbols: True\n"
     ]
    }
   ],
   "source": [
    "import faiss\n",
    "print(\"FAISS version:\", faiss.__version__)\n",
    "print(\"Number of available GPUs:\", faiss.get_num_gpus())\n",
    "print(\"Has GPU symbols:\", hasattr(faiss, \"StandardGpuResources\"))\n"
   ]
  },
  {
   "cell_type": "code",
   "execution_count": 6,
   "id": "1f622805",
   "metadata": {},
   "outputs": [
    {
     "name": "stdout",
     "output_type": "stream",
     "text": [
      "Torch CUDA available: True\n",
      "Torch CUDA version: 12.8\n",
      "GPU name: NVIDIA GeForce RTX 5060 Ti\n"
     ]
    }
   ],
   "source": [
    "import torch\n",
    "print(\"Torch CUDA available:\", torch.cuda.is_available())\n",
    "print(\"Torch CUDA version:\", torch.version.cuda)\n",
    "print(\"GPU name:\", torch.cuda.get_device_name(0) if torch.cuda.is_available() else \"None\")\n"
   ]
  },
  {
   "cell_type": "code",
   "execution_count": null,
   "id": "e834b638",
   "metadata": {},
   "outputs": [
    {
     "name": "stdout",
     "output_type": "stream",
     "text": [
      "Collecting numpy<2\n",
      "  Using cached numpy-1.26.4-cp310-cp310-win_amd64.whl.metadata (61 kB)\n",
      "Using cached numpy-1.26.4-cp310-cp310-win_amd64.whl (15.8 MB)\n",
      "Installing collected packages: numpy\n",
      "  Attempting uninstall: numpy\n",
      "    Found existing installation: numpy 2.2.6\n",
      "    Uninstalling numpy-2.2.6:\n",
      "      Successfully uninstalled numpy-2.2.6\n",
      "Successfully installed numpy-1.26.4\n"
     ]
    },
    {
     "name": "stderr",
     "output_type": "stream",
     "text": [
      "  WARNING: Failed to remove contents in a temporary directory 'C:\\Users\\User\\AppData\\Local\\Temp\\pip-uninstall-n2j6pmp9'.\n",
      "  You can safely remove it manually.\n",
      "  WARNING: Failed to remove contents in a temporary directory 'C:\\Users\\User\\anaconda3\\envs\\torch310\\Lib\\site-packages\\~-mpy.libs'.\n",
      "  You can safely remove it manually.\n",
      "  WARNING: Failed to remove contents in a temporary directory 'C:\\Users\\User\\anaconda3\\envs\\torch310\\Lib\\site-packages\\numpy\\~core'.\n",
      "  You can safely remove it manually.\n",
      "  WARNING: Failed to remove contents in a temporary directory 'C:\\Users\\User\\anaconda3\\envs\\torch310\\Lib\\site-packages\\numpy\\~ft'.\n",
      "  You can safely remove it manually.\n",
      "ERROR: pip's dependency resolver does not currently take into account all the packages that are installed. This behaviour is the source of the following dependency conflicts.\n",
      "opencv-python 4.12.0.88 requires numpy<2.3.0,>=2; python_version >= \"3.9\", but you have numpy 1.26.4 which is incompatible.\n"
     ]
    }
   ],
   "source": [
    "# !pip install --upgrade --force-reinstall \"numpy<2\"\n"
   ]
  },
  {
   "cell_type": "code",
   "execution_count": 7,
   "id": "32167b92",
   "metadata": {},
   "outputs": [
    {
     "name": "stdout",
     "output_type": "stream",
     "text": [
      "✅ Loaded pretrained feature extractor φ′ for retrieval engine (GPU mode).\n"
     ]
    },
    {
     "name": "stderr",
     "output_type": "stream",
     "text": [
      "Embedding D′: 100%|███████████████████████████████████████████████| 196/196 [00:14<00:00, 13.37it/s]\n"
     ]
    },
    {
     "name": "stdout",
     "output_type": "stream",
     "text": [
      "📊 Feature matrix: torch.Size([50000, 12288]), Labels: torch.Size([50000])\n",
      "✅ FAISS GPU index built with 50000 vectors (dim 12288).\n",
      "💾 Saved retrieval engine artifacts (features, labels, CPU-compatible index).\n",
      "🔍 Distances shape: torch.Size([2, 5]) – Retrieved labels[0]: [5, 3, 3, 2, 6]\n"
     ]
    }
   ],
   "source": [
    "# === Block 4 – Retrieval Engine F (GPU FAISS Implementation) ===\n",
    "# Paper Mapping:\n",
    "#   § 2.3 Retrieval Engine F – \"pretrained φ′ used to embed D′\"\n",
    "#   § 5.1 Settings – \"no augmentation on D′\"\n",
    "#   Goal – index φ′(x′) for all samples in D′ and enable fast K-NN lookup in feature space.\n",
    "\n",
    "import faiss\n",
    "from tqdm import tqdm\n",
    "import torch.nn.functional as F\n",
    "\n",
    "# ----------------------------\n",
    "# 1️⃣ Load Pretrained Feature Extractor φ′ (only encoder part from baseline)\n",
    "# ----------------------------\n",
    "baseline_ckpt = torch.load(CHECKPOINTS / \"baseline_best.pt\", map_location=DEVICE)\n",
    "\n",
    "# keep only φ′ weights from baseline\n",
    "phi_dict = {\n",
    "    k.replace(\"feature_extractor.\", \"\"): v\n",
    "    for k, v in baseline_ckpt.items()\n",
    "    if k.startswith(\"feature_extractor.\")\n",
    "}\n",
    "\n",
    "phi = FeatureExtractor().to(DEVICE)\n",
    "phi.load_state_dict(phi_dict, strict=False)\n",
    "phi.eval()\n",
    "for p in phi.parameters():\n",
    "    p.requires_grad = False\n",
    "\n",
    "print(\"✅ Loaded pretrained feature extractor φ′ for retrieval engine (GPU mode).\")\n",
    "\n",
    "# ----------------------------\n",
    "# 2️⃣ Embed All D′ (train_plain_loader, no augmentation)\n",
    "# ----------------------------\n",
    "all_feats, all_labels = [], []\n",
    "with torch.no_grad():\n",
    "    for imgs, labels in tqdm(train_plain_loader, desc=\"Embedding D′\", ncols=100):\n",
    "        imgs = imgs.to(DEVICE, non_blocking=True)\n",
    "        feats = phi(imgs)\n",
    "        feats = F.normalize(feats, p=2, dim=1)        # L2-normalize embeddings\n",
    "        all_feats.append(feats.cpu())\n",
    "        all_labels.append(labels)\n",
    "\n",
    "all_feats  = torch.cat(all_feats)\n",
    "all_labels = torch.cat(all_labels)\n",
    "print(f\"📊 Feature matrix: {all_feats.shape}, Labels: {all_labels.shape}\")\n",
    "\n",
    "# ----------------------------\n",
    "# 3️⃣ Build FAISS GPU Index (L2 metric)\n",
    "# ----------------------------\n",
    "d = all_feats.shape[1]          # feature dimension ≈ 12288 for your architecture\n",
    "res = faiss.StandardGpuResources()        # allocate GPU resources\n",
    "cpu_index = faiss.IndexFlatL2(d)          # base CPU index (L2)\n",
    "gpu_index = faiss.index_cpu_to_gpu(res, 0, cpu_index)   # move to GPU 0\n",
    "gpu_index.add(all_feats.numpy().astype(\"float32\"))\n",
    "print(f\"✅ FAISS GPU index built with {gpu_index.ntotal} vectors (dim {d}).\")\n",
    "\n",
    "# ----------------------------\n",
    "# 4️⃣ Save Artifacts for Later Use in RaCNN Training\n",
    "# ----------------------------\n",
    "torch.save(all_feats, ARTIFACTS / \"features_train_plain.pt\")\n",
    "torch.save(all_labels, ARTIFACTS / \"labels_train_plain.pt\")\n",
    "faiss.write_index(faiss.index_gpu_to_cpu(gpu_index), str(ARTIFACTS / \"faiss_index_cpu.bin\"))\n",
    "print(\"💾 Saved retrieval engine artifacts (features, labels, CPU-compatible index).\")\n",
    "\n",
    "# ----------------------------\n",
    "# 5️⃣ Retrieval Helper Class F(x)\n",
    "# ----------------------------\n",
    "class RetrievalEngine:\n",
    "    \"\"\"\n",
    "    F(x): returns indices + labels of top-K nearest neighbors from D′.\n",
    "    Paper § 2.3: uses φ′(x) as query key.\n",
    "    \"\"\"\n",
    "    def __init__(self, feature_extractor, index, features, labels):\n",
    "        self.phi = feature_extractor.eval()\n",
    "        self.index = index\n",
    "        self.features = features\n",
    "        self.labels = labels\n",
    "\n",
    "    def retrieve(self, x, K=5):\n",
    "        with torch.no_grad():\n",
    "            feats = self.phi(x.to(DEVICE))\n",
    "            feats = F.normalize(feats, p=2, dim=1)\n",
    "            D, I = self.index.search(feats.cpu().numpy().astype(\"float32\"), K)\n",
    "            retrieved_feats  = self.features[I]\n",
    "            retrieved_labels = self.labels[I]\n",
    "        return torch.tensor(D), retrieved_feats, retrieved_labels\n",
    "\n",
    "# ----------------------------\n",
    "# 6️⃣ Quick Sanity Check on Retrieval\n",
    "# ----------------------------\n",
    "retr_engine = RetrievalEngine(phi, gpu_index, all_feats, all_labels)\n",
    "imgs, labels = next(iter(test_loader))\n",
    "D, feats, labs = retr_engine.retrieve(imgs[:2], K=5)\n",
    "print(f\"🔍 Distances shape: {D.shape} – Retrieved labels[0]: {labs[0].tolist()[:5]}\")\n"
   ]
  },
  {
   "cell_type": "code",
   "execution_count": 8,
   "id": "b58b1668",
   "metadata": {},
   "outputs": [],
   "source": [
    "# === Block 5-A — RaCNN Architecture (φ, U, g) ===\n",
    "# Paper mapping:\n",
    "#   § 2.1  \"Trainable projection based on attention mechanism\"\n",
    "#   § 2.2  \"Classifier g(P(x)) … locally linear behaviour\"\n",
    "\n",
    "class RaCNN(nn.Module):\n",
    "    def __init__(self, retrieval_engine, feat_dim, num_classes=10, K=5):\n",
    "        \"\"\"\n",
    "        retrieval_engine : pretrained FAISS-based RetrievalEngine F\n",
    "        feat_dim         : dimensionality of φ(x)\n",
    "        num_classes      : CIFAR-10 = 10\n",
    "        K                : number of neighbors to retrieve (5 or 10)\n",
    "        \"\"\"\n",
    "        super().__init__()\n",
    "        self.retr_engine = retrieval_engine\n",
    "        self.K = K\n",
    "\n",
    "        # φ : a new feature extractor (same CNN as baseline, trainable)\n",
    "        self.phi = FeatureExtractor()\n",
    "\n",
    "        # U : the learnable projection matrix used in βₖ = φ(x′ₖ)ᵀ U φ(x)\n",
    "        self.U = nn.Parameter(torch.eye(feat_dim))\n",
    "\n",
    "        # g : classifier operating on projected feature P(x)\n",
    "        self.g = Classifier(in_dim=feat_dim, num_classes=num_classes)\n",
    "\n",
    "    # ---------------------------------------------------------------\n",
    "    def forward(self, x):\n",
    "        \"\"\"\n",
    "        Returns:\n",
    "          logits, α, β, neighbor_feats, neighbor_labels\n",
    "        \"\"\"\n",
    "        # Step 1 – compute current feature φ(x)\n",
    "        z = self.phi(x)\n",
    "\n",
    "        # Step 2 – retrieve K nearest neighbors from D′\n",
    "        _, neigh_feats, neigh_labels = self.retr_engine.retrieve(x, K=self.K)\n",
    "        neigh_feats, neigh_labels = neigh_feats.to(x.device), neigh_labels.to(x.device)\n",
    "\n",
    "        # Step 3 – attention-based projection (§ 2.1)\n",
    "        # βₖ = φ(x′ₖ)ᵀ U φ(x)\n",
    "        beta = torch.einsum('bkd,dd,bd->bk', neigh_feats, self.U, z)\n",
    "\n",
    "        # αₖ = softmax(βₖ)\n",
    "        alpha = F.softmax(beta, dim=1)\n",
    "\n",
    "        # P(x) = Σ αₖ φ(x′ₖ)\n",
    "        proj = torch.einsum('bk,bkd->bd', alpha, neigh_feats)\n",
    "\n",
    "        # Step 4 – classification on the projected feature\n",
    "        logits = self.g(proj)\n",
    "\n",
    "        return logits, alpha, beta, neigh_feats, neigh_labels\n"
   ]
  },
  {
   "cell_type": "code",
   "execution_count": 9,
   "id": "e4220ddd",
   "metadata": {},
   "outputs": [],
   "source": [
    "# === Block 5-B — Local Mixup (from §2.2) ===\n",
    "import torch.nn.functional as F\n",
    "\n",
    "def local_mixup(neigh_feats, neigh_labels, num_classes=10):\n",
    "    \"\"\"\n",
    "    neigh_feats: [B, K, D]  → retrieved neighbor features\n",
    "    neigh_labels: [B, K]    → integer class labels\n",
    "    Returns:\n",
    "        mix_feats  → mixed feature vector  [B, D]\n",
    "        mix_labels → mixed soft labels     [B, num_classes]\n",
    "    \"\"\"\n",
    "\n",
    "    B, K, D = neigh_feats.shape\n",
    "\n",
    "    # Sample random convex coefficients αₖ ≥ 0, ∑ αₖ = 1\n",
    "    alpha = torch.rand(B, K, device=neigh_feats.device)\n",
    "    alpha = alpha / alpha.sum(dim=1, keepdim=True)   # normalize to simplex\n",
    "\n",
    "    # Compute weighted sum of features:  ∑ αₖ φ(x′ₖ)\n",
    "    mix_feats = torch.einsum('bk,bkd->bd', alpha, neigh_feats)\n",
    "\n",
    "    # Convert labels to one-hot and mix the same way:  ∑ αₖ y′ₖ\n",
    "    onehot = F.one_hot(neigh_labels, num_classes=num_classes).float()  # [B,K,C]\n",
    "    mix_labels = torch.einsum('bk,bkc->bc', alpha, onehot)\n",
    "\n",
    "    return mix_feats, mix_labels\n"
   ]
  },
  {
   "cell_type": "code",
   "execution_count": 10,
   "id": "8ea20282",
   "metadata": {},
   "outputs": [],
   "source": [
    "# === Block 5-C — RaCNN Training Loop (K = 5) ===\n",
    "from tqdm import tqdm\n",
    "\n",
    "def train_racnn(model, train_loader, optimizer, epochs=30, NMU=5, AMP=True):\n",
    "    \"\"\"\n",
    "    model      : RaCNN model (φ, U, g, F)\n",
    "    train_loader : data loader with augmentations\n",
    "    NMU        : number of local mixup updates per epoch\n",
    "    AMP        : mixed-precision training (True for speed)\n",
    "    \"\"\"\n",
    "    scaler = torch.amp.GradScaler(\"cuda\", enabled=AMP)\n",
    "    model.train()\n",
    "\n",
    "    for epoch in range(1, epochs + 1):\n",
    "        total_loss, total_correct, total_seen = 0.0, 0, 0\n",
    "        progress = tqdm(train_loader, desc=f\"[Epoch {epoch}/{epochs}]\", ncols=90)\n",
    "\n",
    "        for imgs, labels in progress:\n",
    "            imgs, labels = imgs.to(DEVICE), labels.to(DEVICE)\n",
    "            optimizer.zero_grad(set_to_none=True)\n",
    "\n",
    "            # ----------- Normal classification step (NCE) -----------\n",
    "            with torch.amp.autocast(\"cuda\", enabled=AMP):\n",
    "                logits, _, _, _, _ = model(imgs)\n",
    "                loss_cls = F.cross_entropy(logits, labels)\n",
    "\n",
    "            scaler.scale(loss_cls).backward()\n",
    "            scaler.step(optimizer)\n",
    "            scaler.update()\n",
    "\n",
    "            # Accumulate stats\n",
    "            preds = logits.argmax(1)\n",
    "            total_correct += (preds == labels).sum().item()\n",
    "            total_seen += labels.size(0)\n",
    "            total_loss += loss_cls.item()\n",
    "\n",
    "            # ----------- Local Mixup updates (NMU steps) -----------\n",
    "            for _ in range(NMU):\n",
    "                optimizer.zero_grad(set_to_none=True)\n",
    "                _, _, _, neigh_feats, neigh_labels = model(imgs)\n",
    "                mix_feats, mix_labels = local_mixup(neigh_feats, neigh_labels)\n",
    "                with torch.amp.autocast(\"cuda\", enabled=AMP):\n",
    "                    logits_mix = model.g(mix_feats)\n",
    "                    loss_mix = F.cross_entropy(logits_mix, mix_labels.argmax(dim=1))\n",
    "                scaler.scale(loss_mix).backward()\n",
    "                scaler.step(optimizer)\n",
    "                scaler.update()\n",
    "\n",
    "            progress.set_postfix({\n",
    "                \"loss\": f\"{total_loss / total_seen:.4f}\",\n",
    "                \"acc\": f\"{100 * total_correct / total_seen:.2f}%\"\n",
    "            })\n",
    "\n",
    "        print(f\"Epoch {epoch:02d}: train_loss={total_loss/len(train_loader):.4f}, \"\n",
    "              f\"train_acc={100*total_correct/total_seen:.2f}%\")\n",
    "\n",
    "    print(\"✅ Finished RaCNN training\")\n"
   ]
  },
  {
   "cell_type": "code",
   "execution_count": 15,
   "id": "e594f147",
   "metadata": {},
   "outputs": [],
   "source": [
    "# === Block 5-C (fixed autocast syntax) — RaCNN (K=5) Training ===\n",
    "import copy\n",
    "from torch.cuda.amp import GradScaler\n",
    "from tqdm import tqdm\n",
    "\n",
    "def train_racnn_k5(model, train_loader, val_loader, optimizer,\n",
    "                   epochs=30, NMU=5, AMP=True, min_epochs=10, patience=6):\n",
    "    \"\"\"\n",
    "    RaCNN (K=5) training loop with:\n",
    "    - early stopping\n",
    "    - validation accuracy tracking\n",
    "    - checkpoint saving\n",
    "    \"\"\"\n",
    "    scaler = GradScaler(enabled=AMP)\n",
    "    best_val_acc = 0.0\n",
    "    best_weights = copy.deepcopy(model.state_dict())\n",
    "    epochs_no_improve = 0\n",
    "\n",
    "    for epoch in range(1, epochs + 1):\n",
    "        model.train()\n",
    "        total_loss, total_correct, total_seen = 0.0, 0, 0\n",
    "\n",
    "        for imgs, labels in tqdm(train_loader, desc=f\"[Epoch {epoch}/{epochs}] Train\", ncols=90):\n",
    "            imgs, labels = imgs.to(DEVICE), labels.to(DEVICE)\n",
    "            optimizer.zero_grad(set_to_none=True)\n",
    "\n",
    "            # --- Normal classification step (NCE) ---\n",
    "            with torch.amp.autocast(device_type=\"cuda\", enabled=AMP):\n",
    "                logits, _, _, _, _ = model(imgs)\n",
    "                loss_cls = F.cross_entropy(logits, labels)\n",
    "\n",
    "            scaler.scale(loss_cls).backward()\n",
    "            scaler.step(optimizer)\n",
    "            scaler.update()\n",
    "\n",
    "            preds = logits.argmax(1)\n",
    "            total_correct += (preds == labels).sum().item()\n",
    "            total_seen += labels.size(0)\n",
    "            total_loss += loss_cls.item()\n",
    "\n",
    "            # --- Local Mixup (NMU) updates ---\n",
    "            for _ in range(NMU):\n",
    "                optimizer.zero_grad(set_to_none=True)\n",
    "                _, _, _, neigh_feats, neigh_labels = model(imgs)\n",
    "                mix_feats, mix_labels = local_mixup(neigh_feats, neigh_labels)\n",
    "                with torch.amp.autocast(device_type=\"cuda\", enabled=AMP):\n",
    "                    logits_mix = model.g(mix_feats)\n",
    "                    loss_mix = F.cross_entropy(logits_mix, mix_labels.argmax(1))\n",
    "                scaler.scale(loss_mix).backward()\n",
    "                scaler.step(optimizer)\n",
    "                scaler.update()\n",
    "\n",
    "        train_acc = total_correct / total_seen\n",
    "        train_loss = total_loss / len(train_loader)\n",
    "\n",
    "        # --- Validation ---\n",
    "        model.eval()\n",
    "        val_loss, val_correct, val_seen = 0.0, 0, 0\n",
    "        with torch.no_grad(), torch.amp.autocast(device_type=\"cuda\", enabled=AMP):\n",
    "            for imgs, labels in val_loader:\n",
    "                imgs, labels = imgs.to(DEVICE), labels.to(DEVICE)\n",
    "                logits, *_ = model(imgs)\n",
    "                loss = F.cross_entropy(logits, labels)\n",
    "                val_loss += loss.item() * labels.size(0)\n",
    "                val_correct += (logits.argmax(1) == labels).sum().item()\n",
    "                val_seen += labels.size(0)\n",
    "\n",
    "        val_acc = val_correct / val_seen\n",
    "        val_loss /= val_seen\n",
    "\n",
    "        print(f\"Epoch {epoch:02d}: train_loss={train_loss:.4f}, \"\n",
    "              f\"train_acc={train_acc*100:.2f}%, val_loss={val_loss:.4f}, val_acc={val_acc*100:.2f}%\")\n",
    "\n",
    "        # --- Early Stopping ---\n",
    "        if val_acc > best_val_acc:\n",
    "            best_val_acc = val_acc\n",
    "            best_weights = copy.deepcopy(model.state_dict())\n",
    "            epochs_no_improve = 0\n",
    "            torch.save(best_weights, CHECKPOINTS / \"racnn_k5_best.pt\")\n",
    "        else:\n",
    "            epochs_no_improve += 1\n",
    "\n",
    "        if epoch > min_epochs and epochs_no_improve >= patience:\n",
    "            print(f\"⏹ Early stopping at epoch {epoch} (no improvement for {patience} epochs).\")\n",
    "            break\n",
    "\n",
    "    model.load_state_dict(best_weights)\n",
    "    print(f\"✅ Training complete. Best val_acc = {best_val_acc*100:.2f}%\")\n",
    "    return model\n"
   ]
  },
  {
   "cell_type": "code",
   "execution_count": 20,
   "id": "ada67d97",
   "metadata": {},
   "outputs": [
    {
     "name": "stderr",
     "output_type": "stream",
     "text": [
      "C:\\Users\\User\\AppData\\Local\\Temp\\ipykernel_2272\\1924075050.py:14: FutureWarning: `torch.cuda.amp.GradScaler(args...)` is deprecated. Please use `torch.amp.GradScaler('cuda', args...)` instead.\n",
      "  scaler = GradScaler(enabled=AMP)\n",
      "[Epoch 1/30] Train: 100%|███████████████████████████████| 352/352 [03:02<00:00,  1.93it/s]\n"
     ]
    },
    {
     "name": "stdout",
     "output_type": "stream",
     "text": [
      "Epoch 01: train_loss=0.5642, train_acc=84.17%, val_loss=0.4838, val_acc=86.44%\n"
     ]
    },
    {
     "name": "stderr",
     "output_type": "stream",
     "text": [
      "[Epoch 2/30] Train: 100%|███████████████████████████████| 352/352 [03:09<00:00,  1.86it/s]\n"
     ]
    },
    {
     "name": "stdout",
     "output_type": "stream",
     "text": [
      "Epoch 02: train_loss=0.5090, train_acc=85.70%, val_loss=0.4920, val_acc=86.22%\n"
     ]
    },
    {
     "name": "stderr",
     "output_type": "stream",
     "text": [
      "[Epoch 3/30] Train: 100%|███████████████████████████████| 352/352 [03:05<00:00,  1.90it/s]\n"
     ]
    },
    {
     "name": "stdout",
     "output_type": "stream",
     "text": [
      "Epoch 03: train_loss=0.4993, train_acc=85.94%, val_loss=0.4609, val_acc=87.02%\n"
     ]
    },
    {
     "name": "stderr",
     "output_type": "stream",
     "text": [
      "[Epoch 4/30] Train: 100%|███████████████████████████████| 352/352 [03:01<00:00,  1.94it/s]\n"
     ]
    },
    {
     "name": "stdout",
     "output_type": "stream",
     "text": [
      "Epoch 04: train_loss=0.4929, train_acc=86.05%, val_loss=0.4747, val_acc=86.96%\n"
     ]
    },
    {
     "name": "stderr",
     "output_type": "stream",
     "text": [
      "[Epoch 5/30] Train: 100%|███████████████████████████████| 352/352 [03:03<00:00,  1.92it/s]\n"
     ]
    },
    {
     "name": "stdout",
     "output_type": "stream",
     "text": [
      "Epoch 05: train_loss=0.4945, train_acc=86.09%, val_loss=0.4388, val_acc=87.00%\n"
     ]
    },
    {
     "name": "stderr",
     "output_type": "stream",
     "text": [
      "[Epoch 6/30] Train: 100%|███████████████████████████████| 352/352 [03:01<00:00,  1.94it/s]\n"
     ]
    },
    {
     "name": "stdout",
     "output_type": "stream",
     "text": [
      "Epoch 06: train_loss=0.4912, train_acc=86.04%, val_loss=0.4714, val_acc=86.62%\n"
     ]
    },
    {
     "name": "stderr",
     "output_type": "stream",
     "text": [
      "[Epoch 7/30] Train: 100%|███████████████████████████████| 352/352 [03:01<00:00,  1.94it/s]\n"
     ]
    },
    {
     "name": "stdout",
     "output_type": "stream",
     "text": [
      "Epoch 07: train_loss=0.4948, train_acc=85.97%, val_loss=0.4649, val_acc=86.98%\n"
     ]
    },
    {
     "name": "stderr",
     "output_type": "stream",
     "text": [
      "[Epoch 8/30] Train: 100%|███████████████████████████████| 352/352 [03:00<00:00,  1.95it/s]\n"
     ]
    },
    {
     "name": "stdout",
     "output_type": "stream",
     "text": [
      "Epoch 08: train_loss=0.4930, train_acc=85.84%, val_loss=0.4436, val_acc=87.40%\n"
     ]
    },
    {
     "name": "stderr",
     "output_type": "stream",
     "text": [
      "[Epoch 9/30] Train: 100%|███████████████████████████████| 352/352 [03:02<00:00,  1.93it/s]\n"
     ]
    },
    {
     "name": "stdout",
     "output_type": "stream",
     "text": [
      "Epoch 09: train_loss=0.4939, train_acc=86.03%, val_loss=0.4841, val_acc=86.66%\n"
     ]
    },
    {
     "name": "stderr",
     "output_type": "stream",
     "text": [
      "[Epoch 10/30] Train: 100%|██████████████████████████████| 352/352 [03:01<00:00,  1.94it/s]\n"
     ]
    },
    {
     "name": "stdout",
     "output_type": "stream",
     "text": [
      "Epoch 10: train_loss=0.4902, train_acc=86.09%, val_loss=0.4697, val_acc=86.76%\n"
     ]
    },
    {
     "name": "stderr",
     "output_type": "stream",
     "text": [
      "[Epoch 11/30] Train: 100%|██████████████████████████████| 352/352 [03:00<00:00,  1.95it/s]\n"
     ]
    },
    {
     "name": "stdout",
     "output_type": "stream",
     "text": [
      "Epoch 11: train_loss=0.4928, train_acc=86.17%, val_loss=0.4666, val_acc=86.66%\n"
     ]
    },
    {
     "name": "stderr",
     "output_type": "stream",
     "text": [
      "[Epoch 12/30] Train: 100%|██████████████████████████████| 352/352 [02:57<00:00,  1.98it/s]\n"
     ]
    },
    {
     "name": "stdout",
     "output_type": "stream",
     "text": [
      "Epoch 12: train_loss=0.4881, train_acc=86.17%, val_loss=0.4359, val_acc=87.94%\n"
     ]
    },
    {
     "name": "stderr",
     "output_type": "stream",
     "text": [
      "[Epoch 13/30] Train: 100%|██████████████████████████████| 352/352 [02:53<00:00,  2.03it/s]\n"
     ]
    },
    {
     "name": "stdout",
     "output_type": "stream",
     "text": [
      "Epoch 13: train_loss=0.4840, train_acc=86.20%, val_loss=0.4707, val_acc=86.70%\n"
     ]
    },
    {
     "name": "stderr",
     "output_type": "stream",
     "text": [
      "[Epoch 14/30] Train: 100%|██████████████████████████████| 352/352 [02:52<00:00,  2.04it/s]\n"
     ]
    },
    {
     "name": "stdout",
     "output_type": "stream",
     "text": [
      "Epoch 14: train_loss=0.4779, train_acc=86.39%, val_loss=0.4484, val_acc=87.14%\n"
     ]
    },
    {
     "name": "stderr",
     "output_type": "stream",
     "text": [
      "[Epoch 15/30] Train: 100%|██████████████████████████████| 352/352 [02:53<00:00,  2.02it/s]\n"
     ]
    },
    {
     "name": "stdout",
     "output_type": "stream",
     "text": [
      "Epoch 15: train_loss=0.4864, train_acc=86.01%, val_loss=0.4628, val_acc=86.56%\n"
     ]
    },
    {
     "name": "stderr",
     "output_type": "stream",
     "text": [
      "[Epoch 16/30] Train: 100%|██████████████████████████████| 352/352 [02:51<00:00,  2.05it/s]\n"
     ]
    },
    {
     "name": "stdout",
     "output_type": "stream",
     "text": [
      "Epoch 16: train_loss=0.4848, train_acc=86.31%, val_loss=0.4739, val_acc=86.38%\n"
     ]
    },
    {
     "name": "stderr",
     "output_type": "stream",
     "text": [
      "[Epoch 17/30] Train: 100%|██████████████████████████████| 352/352 [02:52<00:00,  2.04it/s]\n"
     ]
    },
    {
     "name": "stdout",
     "output_type": "stream",
     "text": [
      "Epoch 17: train_loss=0.4787, train_acc=86.39%, val_loss=0.4667, val_acc=86.12%\n"
     ]
    },
    {
     "name": "stderr",
     "output_type": "stream",
     "text": [
      "[Epoch 18/30] Train: 100%|██████████████████████████████| 352/352 [02:55<00:00,  2.00it/s]\n"
     ]
    },
    {
     "name": "stdout",
     "output_type": "stream",
     "text": [
      "Epoch 18: train_loss=0.4766, train_acc=86.58%, val_loss=0.4571, val_acc=86.70%\n",
      "⏹ Early stopping at epoch 18 (no improvement for 6 epochs).\n",
      "✅ Training complete. Best val_acc = 87.94%\n"
     ]
    }
   ],
   "source": [
    "# split for racnn k=5\n",
    "n_total = len(train_aug_ds)\n",
    "n_val = int(0.1 * n_total)\n",
    "train_ds, val_ds = torch.utils.data.random_split(train_aug_ds, [n_total - n_val, n_val])\n",
    "\n",
    "train_loader = DataLoader(train_ds, batch_size=128, shuffle=True, num_workers=4, pin_memory=True)\n",
    "val_loader = DataLoader(val_ds, batch_size=128, shuffle=False, num_workers=4, pin_memory=True)\n",
    "\n",
    "# instantiate & train\n",
    "racnn_k5 = RaCNN(retr_engine, feat_dim=all_feats.shape[1], K=5).to(DEVICE)\n",
    "opt_k5 = torch.optim.Adam(racnn_k5.parameters(), lr=1e-3, weight_decay=5e-4)\n",
    "\n",
    "racnn_k5 = train_racnn_k5(racnn_k5, train_loader, val_loader, opt_k5,\n",
    "                          epochs=30, NMU=5, AMP=True, min_epochs=10, patience=6)\n"
   ]
  },
  {
   "cell_type": "code",
   "execution_count": 21,
   "id": "13fb8801",
   "metadata": {},
   "outputs": [
    {
     "name": "stderr",
     "output_type": "stream",
     "text": [
      "Evaluating (clean): 100%|█████████████████████████████████| 40/40 [00:15<00:00,  2.59it/s]"
     ]
    },
    {
     "name": "stdout",
     "output_type": "stream",
     "text": [
      "\n",
      "✅ Clean Test Accuracy (RaCNN K=5): 86.13% | Loss = 0.5397\n",
      "📊 Saved clean evaluation results to E:\\racnn-experiments\\ra-cnn-custom\\artifacts\\results_clean.json\n"
     ]
    },
    {
     "name": "stderr",
     "output_type": "stream",
     "text": [
      "\n"
     ]
    }
   ],
   "source": [
    "# === Block 5-D — Evaluate & Save Clean Performance of RaCNN (K=5) ===\n",
    "import json\n",
    "from tqdm import tqdm\n",
    "\n",
    "def evaluate_racnn(model, test_loader, AMP=True):\n",
    "    \"\"\"Evaluates a trained RaCNN model on clean (non-adversarial) test images.\"\"\"\n",
    "    model.eval()\n",
    "    total_correct, total_seen, total_loss = 0, 0, 0.0\n",
    "\n",
    "    with torch.no_grad(), torch.amp.autocast(device_type=\"cuda\", enabled=AMP):\n",
    "        for imgs, labels in tqdm(test_loader, desc=\"Evaluating (clean)\", ncols=90):\n",
    "            imgs, labels = imgs.to(DEVICE), labels.to(DEVICE)\n",
    "            logits, *_ = model(imgs)\n",
    "            loss = F.cross_entropy(logits, labels)\n",
    "            preds = logits.argmax(1)\n",
    "\n",
    "            total_correct += (preds == labels).sum().item()\n",
    "            total_seen += labels.size(0)\n",
    "            total_loss += loss.item() * labels.size(0)\n",
    "\n",
    "    avg_loss = total_loss / total_seen\n",
    "    acc = total_correct / total_seen\n",
    "    return {\"accuracy\": acc, \"loss\": avg_loss}\n",
    "\n",
    "\n",
    "# ------------------------------------------------------------\n",
    "# 🔹 Load best checkpoint and evaluate\n",
    "# ------------------------------------------------------------\n",
    "ckpt_path = CHECKPOINTS / \"racnn_k5_best.pt\"\n",
    "racnn_k5.load_state_dict(torch.load(ckpt_path, map_location=DEVICE))\n",
    "\n",
    "results_k5 = evaluate_racnn(racnn_k5, test_loader, AMP=True)\n",
    "\n",
    "print(f\"\\n✅ Clean Test Accuracy (RaCNN K=5): {results_k5['accuracy']*100:.2f}% | \"\n",
    "      f\"Loss = {results_k5['loss']:.4f}\")\n",
    "\n",
    "# ------------------------------------------------------------\n",
    "# 💾 Save results for later comparison (graphs & tables)\n",
    "# ------------------------------------------------------------\n",
    "save_path = ARTIFACTS / \"results_clean.json\"\n",
    "\n",
    "try:\n",
    "    with open(save_path, \"r\") as f:\n",
    "        all_results = json.load(f)\n",
    "except FileNotFoundError:\n",
    "    all_results = {}\n",
    "\n",
    "all_results[\"RaCNN_K5_Clean\"] = {\n",
    "    \"accuracy\": results_k5[\"accuracy\"],\n",
    "    \"loss\": results_k5[\"loss\"]\n",
    "}\n",
    "\n",
    "with open(save_path, \"w\") as f:\n",
    "    json.dump(all_results, f, indent=4)\n",
    "\n",
    "print(f\"📊 Saved clean evaluation results to {save_path}\")\n"
   ]
  },
  {
   "cell_type": "code",
   "execution_count": null,
   "id": "3df80c70",
   "metadata": {},
   "outputs": [
    {
     "name": "stderr",
     "output_type": "stream",
     "text": [
      "C:\\Users\\User\\AppData\\Local\\Temp\\ipykernel_2272\\1924075050.py:14: FutureWarning: `torch.cuda.amp.GradScaler(args...)` is deprecated. Please use `torch.amp.GradScaler('cuda', args...)` instead.\n",
      "  scaler = GradScaler(enabled=AMP)\n",
      "[Epoch 1/30] Train: 100%|███████████████████████████████| 352/352 [03:30<00:00,  1.67it/s]\n"
     ]
    },
    {
     "name": "stdout",
     "output_type": "stream",
     "text": [
      "Epoch 01: train_loss=0.5576, train_acc=84.67%, val_loss=0.4887, val_acc=85.80%\n"
     ]
    },
    {
     "name": "stderr",
     "output_type": "stream",
     "text": [
      "[Epoch 2/30] Train: 100%|███████████████████████████████| 352/352 [03:31<00:00,  1.67it/s]\n"
     ]
    },
    {
     "name": "stdout",
     "output_type": "stream",
     "text": [
      "Epoch 02: train_loss=0.5102, train_acc=85.92%, val_loss=0.4935, val_acc=86.20%\n"
     ]
    },
    {
     "name": "stderr",
     "output_type": "stream",
     "text": [
      "[Epoch 3/30] Train: 100%|███████████████████████████████| 352/352 [03:29<00:00,  1.68it/s]\n"
     ]
    },
    {
     "name": "stdout",
     "output_type": "stream",
     "text": [
      "Epoch 03: train_loss=0.4956, train_acc=86.10%, val_loss=0.4806, val_acc=86.56%\n"
     ]
    },
    {
     "name": "stderr",
     "output_type": "stream",
     "text": [
      "[Epoch 4/30] Train: 100%|███████████████████████████████| 352/352 [03:21<00:00,  1.75it/s]\n"
     ]
    },
    {
     "name": "stdout",
     "output_type": "stream",
     "text": [
      "Epoch 04: train_loss=0.4930, train_acc=86.16%, val_loss=0.4858, val_acc=86.10%\n"
     ]
    },
    {
     "name": "stderr",
     "output_type": "stream",
     "text": [
      "[Epoch 5/30] Train: 100%|███████████████████████████████| 352/352 [03:24<00:00,  1.72it/s]\n"
     ]
    },
    {
     "name": "stdout",
     "output_type": "stream",
     "text": [
      "Epoch 05: train_loss=0.4857, train_acc=86.44%, val_loss=0.4650, val_acc=87.02%\n"
     ]
    },
    {
     "name": "stderr",
     "output_type": "stream",
     "text": [
      "[Epoch 6/30] Train: 100%|███████████████████████████████| 352/352 [03:26<00:00,  1.71it/s]\n"
     ]
    },
    {
     "name": "stdout",
     "output_type": "stream",
     "text": [
      "Epoch 06: train_loss=0.4851, train_acc=86.52%, val_loss=0.4676, val_acc=87.00%\n"
     ]
    },
    {
     "name": "stderr",
     "output_type": "stream",
     "text": [
      "[Epoch 7/30] Train: 100%|███████████████████████████████| 352/352 [03:21<00:00,  1.75it/s]\n"
     ]
    },
    {
     "name": "stdout",
     "output_type": "stream",
     "text": [
      "Epoch 07: train_loss=0.4832, train_acc=86.50%, val_loss=0.4576, val_acc=86.70%\n"
     ]
    },
    {
     "name": "stderr",
     "output_type": "stream",
     "text": [
      "[Epoch 8/30] Train: 100%|███████████████████████████████| 352/352 [03:18<00:00,  1.77it/s]\n"
     ]
    },
    {
     "name": "stdout",
     "output_type": "stream",
     "text": [
      "Epoch 08: train_loss=0.4790, train_acc=86.64%, val_loss=0.4508, val_acc=86.86%\n"
     ]
    },
    {
     "name": "stderr",
     "output_type": "stream",
     "text": [
      "[Epoch 9/30] Train: 100%|███████████████████████████████| 352/352 [03:13<00:00,  1.82it/s]\n"
     ]
    },
    {
     "name": "stdout",
     "output_type": "stream",
     "text": [
      "Epoch 09: train_loss=0.4878, train_acc=86.39%, val_loss=0.4592, val_acc=86.58%\n"
     ]
    },
    {
     "name": "stderr",
     "output_type": "stream",
     "text": [
      "[Epoch 10/30] Train: 100%|██████████████████████████████| 352/352 [03:21<00:00,  1.75it/s]\n"
     ]
    },
    {
     "name": "stdout",
     "output_type": "stream",
     "text": [
      "Epoch 10: train_loss=0.4822, train_acc=86.50%, val_loss=0.4642, val_acc=87.10%\n"
     ]
    },
    {
     "name": "stderr",
     "output_type": "stream",
     "text": [
      "[Epoch 11/30] Train: 100%|██████████████████████████████| 352/352 [03:17<00:00,  1.78it/s]\n"
     ]
    },
    {
     "name": "stdout",
     "output_type": "stream",
     "text": [
      "Epoch 11: train_loss=0.4780, train_acc=86.64%, val_loss=0.4532, val_acc=86.98%\n"
     ]
    },
    {
     "name": "stderr",
     "output_type": "stream",
     "text": [
      "[Epoch 12/30] Train: 100%|██████████████████████████████| 352/352 [03:17<00:00,  1.78it/s]\n"
     ]
    },
    {
     "name": "stdout",
     "output_type": "stream",
     "text": [
      "Epoch 12: train_loss=0.4746, train_acc=86.62%, val_loss=0.4781, val_acc=87.00%\n"
     ]
    },
    {
     "name": "stderr",
     "output_type": "stream",
     "text": [
      "[Epoch 13/30] Train: 100%|██████████████████████████████| 352/352 [03:23<00:00,  1.73it/s]\n"
     ]
    },
    {
     "name": "stdout",
     "output_type": "stream",
     "text": [
      "Epoch 13: train_loss=0.4803, train_acc=86.54%, val_loss=0.5044, val_acc=85.76%\n"
     ]
    },
    {
     "name": "stderr",
     "output_type": "stream",
     "text": [
      "[Epoch 14/30] Train: 100%|██████████████████████████████| 352/352 [03:18<00:00,  1.77it/s]\n"
     ]
    },
    {
     "name": "stdout",
     "output_type": "stream",
     "text": [
      "Epoch 14: train_loss=0.4809, train_acc=86.53%, val_loss=0.4655, val_acc=86.86%\n"
     ]
    },
    {
     "name": "stderr",
     "output_type": "stream",
     "text": [
      "[Epoch 15/30] Train: 100%|██████████████████████████████| 352/352 [03:24<00:00,  1.72it/s]\n"
     ]
    },
    {
     "name": "stdout",
     "output_type": "stream",
     "text": [
      "Epoch 15: train_loss=0.4740, train_acc=86.69%, val_loss=0.4556, val_acc=87.02%\n"
     ]
    },
    {
     "name": "stderr",
     "output_type": "stream",
     "text": [
      "[Epoch 16/30] Train: 100%|██████████████████████████████| 352/352 [03:24<00:00,  1.72it/s]\n"
     ]
    },
    {
     "name": "stdout",
     "output_type": "stream",
     "text": [
      "Epoch 16: train_loss=0.4695, train_acc=86.80%, val_loss=0.4479, val_acc=87.30%\n"
     ]
    },
    {
     "name": "stderr",
     "output_type": "stream",
     "text": [
      "[Epoch 17/30] Train: 100%|██████████████████████████████| 352/352 [03:23<00:00,  1.73it/s]\n"
     ]
    },
    {
     "name": "stdout",
     "output_type": "stream",
     "text": [
      "Epoch 17: train_loss=0.4771, train_acc=86.75%, val_loss=0.4802, val_acc=86.56%\n"
     ]
    },
    {
     "name": "stderr",
     "output_type": "stream",
     "text": [
      "[Epoch 18/30] Train: 100%|██████████████████████████████| 352/352 [03:12<00:00,  1.82it/s]\n"
     ]
    },
    {
     "name": "stdout",
     "output_type": "stream",
     "text": [
      "Epoch 18: train_loss=0.4668, train_acc=86.90%, val_loss=0.4799, val_acc=86.78%\n"
     ]
    },
    {
     "name": "stderr",
     "output_type": "stream",
     "text": [
      "[Epoch 19/30] Train: 100%|██████████████████████████████| 352/352 [03:13<00:00,  1.82it/s]\n"
     ]
    },
    {
     "name": "stdout",
     "output_type": "stream",
     "text": [
      "Epoch 19: train_loss=0.4690, train_acc=86.70%, val_loss=0.4445, val_acc=87.36%\n"
     ]
    },
    {
     "name": "stderr",
     "output_type": "stream",
     "text": [
      "[Epoch 20/30] Train: 100%|██████████████████████████████| 352/352 [03:20<00:00,  1.76it/s]\n"
     ]
    },
    {
     "name": "stdout",
     "output_type": "stream",
     "text": [
      "Epoch 20: train_loss=0.4666, train_acc=86.88%, val_loss=0.4400, val_acc=87.02%\n"
     ]
    },
    {
     "name": "stderr",
     "output_type": "stream",
     "text": [
      "[Epoch 21/30] Train: 100%|██████████████████████████████| 352/352 [03:19<00:00,  1.76it/s]\n"
     ]
    },
    {
     "name": "stdout",
     "output_type": "stream",
     "text": [
      "Epoch 21: train_loss=0.4659, train_acc=86.73%, val_loss=0.4730, val_acc=86.70%\n"
     ]
    },
    {
     "name": "stderr",
     "output_type": "stream",
     "text": [
      "[Epoch 22/30] Train: 100%|██████████████████████████████| 352/352 [03:13<00:00,  1.82it/s]\n"
     ]
    },
    {
     "name": "stdout",
     "output_type": "stream",
     "text": [
      "Epoch 22: train_loss=0.4652, train_acc=86.90%, val_loss=0.4442, val_acc=87.14%\n"
     ]
    },
    {
     "name": "stderr",
     "output_type": "stream",
     "text": [
      "[Epoch 23/30] Train: 100%|██████████████████████████████| 352/352 [03:14<00:00,  1.81it/s]\n"
     ]
    },
    {
     "name": "stdout",
     "output_type": "stream",
     "text": [
      "Epoch 23: train_loss=0.4711, train_acc=86.69%, val_loss=0.4626, val_acc=86.74%\n"
     ]
    },
    {
     "name": "stderr",
     "output_type": "stream",
     "text": [
      "[Epoch 24/30] Train: 100%|██████████████████████████████| 352/352 [03:15<00:00,  1.80it/s]\n"
     ]
    },
    {
     "name": "stdout",
     "output_type": "stream",
     "text": [
      "Epoch 24: train_loss=0.4671, train_acc=86.93%, val_loss=0.4605, val_acc=86.48%\n"
     ]
    },
    {
     "name": "stderr",
     "output_type": "stream",
     "text": [
      "[Epoch 25/30] Train: 100%|██████████████████████████████| 352/352 [03:16<00:00,  1.79it/s]\n"
     ]
    },
    {
     "name": "stdout",
     "output_type": "stream",
     "text": [
      "Epoch 25: train_loss=0.4676, train_acc=86.91%, val_loss=0.4589, val_acc=87.16%\n",
      "⏹ Early stopping at epoch 25 (no improvement for 6 epochs).\n",
      "✅ Training complete. Best val_acc = 87.36%\n"
     ]
    }
   ],
   "source": [
    "# # === Block 5-E — Train RaCNN (K = 10) ===\n",
    "# # This follows the same structure as K=5, but retrieves 10 neighbors per query.\n",
    "# # Output checkpoint: checkpoints/racnn_k10_best.pt\n",
    "\n",
    "# # 1️⃣ Build model and optimizer\n",
    "# racnn_k10 = RaCNN(retr_engine, feat_dim=all_feats.shape[1], K=10).to(DEVICE)\n",
    "# opt_k10 = torch.optim.Adam(racnn_k10.parameters(), lr=1e-3, weight_decay=5e-4)\n",
    "\n",
    "# # 2️⃣ Train with same parameters (epochs, NMU, AMP, early stopping)\n",
    "# racnn_k10 = train_racnn_k5(\n",
    "#     model=racnn_k10,\n",
    "#     train_loader=train_loader,\n",
    "#     val_loader=val_loader,\n",
    "#     optimizer=opt_k10,\n",
    "#     epochs=30,       # total epochs\n",
    "#     NMU=5,           # local-mixup steps per batch\n",
    "#     AMP=True,        # mixed precision for speed\n",
    "#     min_epochs=10,\n",
    "#     patience=6       # early stop if no val improvement\n",
    "# )\n"
   ]
  },
  {
   "cell_type": "code",
   "execution_count": null,
   "id": "5cb62089",
   "metadata": {},
   "outputs": [],
   "source": [
    "def train_racnn_k10(model, train_loader, val_loader, optimizer,\n",
    "                   epochs=30, NMU=5, AMP=True, min_epochs=10, patience=6):\n",
    "    \"\"\"\n",
    "    RaCNN (K=10) training loop — identical to K=5 version,\n",
    "    but saves checkpoint as 'racnn_k10_best.pt'.\n",
    "    \"\"\"\n",
    "    scaler = GradScaler(enabled=AMP)\n",
    "    best_val_acc = 0.0\n",
    "    best_weights = copy.deepcopy(model.state_dict())\n",
    "    epochs_no_improve = 0\n",
    "\n",
    "    for epoch in range(1, epochs + 1):\n",
    "        model.train()\n",
    "        total_loss, total_correct, total_seen = 0.0, 0, 0\n",
    "\n",
    "        for imgs, labels in tqdm(train_loader, desc=f\"[Epoch {epoch}/{epochs}] Train\", ncols=90):\n",
    "            imgs, labels = imgs.to(DEVICE), labels.to(DEVICE)\n",
    "            optimizer.zero_grad(set_to_none=True)\n",
    "\n",
    "            # Normal step\n",
    "            with torch.amp.autocast(device_type=\"cuda\", enabled=AMP):\n",
    "                logits, _, _, _, _ = model(imgs)\n",
    "                loss_cls = F.cross_entropy(logits, labels)\n",
    "\n",
    "            scaler.scale(loss_cls).backward()\n",
    "            scaler.step(optimizer)\n",
    "            scaler.update()\n",
    "\n",
    "            preds = logits.argmax(1)\n",
    "            total_correct += (preds == labels).sum().item()\n",
    "            total_seen += labels.size(0)\n",
    "            total_loss += loss_cls.item()\n",
    "\n",
    "            # Local Mixup\n",
    "            for _ in range(NMU):\n",
    "                optimizer.zero_grad(set_to_none=True)\n",
    "                _, _, _, neigh_feats, neigh_labels = model(imgs)\n",
    "                mix_feats, mix_labels = local_mixup(neigh_feats, neigh_labels)\n",
    "                with torch.amp.autocast(device_type=\"cuda\", enabled=AMP):\n",
    "                    logits_mix = model.g(mix_feats)\n",
    "                    loss_mix = F.cross_entropy(logits_mix, mix_labels.argmax(1))\n",
    "                scaler.scale(loss_mix).backward()\n",
    "                scaler.step(optimizer)\n",
    "                scaler.update()\n",
    "\n",
    "        train_acc = total_correct / total_seen\n",
    "        train_loss = total_loss / len(train_loader)\n",
    "\n",
    "        # Validation\n",
    "        model.eval()\n",
    "        val_loss, val_correct, val_seen = 0.0, 0, 0\n",
    "        with torch.no_grad(), torch.amp.autocast(device_type=\"cuda\", enabled=AMP):\n",
    "            for imgs, labels in val_loader:\n",
    "                imgs, labels = imgs.to(DEVICE), labels.to(DEVICE)\n",
    "                logits, *_ = model(imgs)\n",
    "                loss = F.cross_entropy(logits, labels)\n",
    "                val_loss += loss.item() * labels.size(0)\n",
    "                val_correct += (logits.argmax(1) == labels).sum().item()\n",
    "                val_seen += labels.size(0)\n",
    "\n",
    "        val_acc = val_correct / val_seen\n",
    "        val_loss /= val_seen\n",
    "\n",
    "        print(f\"Epoch {epoch:02d}: train_loss={train_loss:.4f}, \"\n",
    "              f\"train_acc={train_acc*100:.2f}%, val_loss={val_loss:.4f}, val_acc={val_acc*100:.2f}%\")\n",
    "\n",
    "        # ✅ Save to a new file\n",
    "        if val_acc > best_val_acc:\n",
    "            best_val_acc = val_acc\n",
    "            best_weights = copy.deepcopy(model.state_dict())\n",
    "            epochs_no_improve = 0\n",
    "            torch.save(best_weights, CHECKPOINTS / \"racnn_k10_best.pt\")\n",
    "        else:\n",
    "            epochs_no_improve += 1\n",
    "\n",
    "        if epoch > min_epochs and epochs_no_improve >= patience:\n",
    "            print(f\"⏹ Early stopping at epoch {epoch} (no improvement for {patience} epochs).\")\n",
    "            break\n",
    "\n",
    "    model.load_state_dict(best_weights)\n",
    "    print(f\"✅ Training complete. Best val_acc = {best_val_acc*100:.2f}%\")\n",
    "    return model\n"
   ]
  },
  {
   "cell_type": "code",
   "execution_count": null,
   "id": "df7a6a67",
   "metadata": {},
   "outputs": [],
   "source": [
    "# racnn_k10 = RaCNN(retr_engine, feat_dim=all_feats.shape[1], K=10).to(DEVICE)\n",
    "# opt_k10 = torch.optim.Adam(racnn_k10.parameters(), lr=1e-3, weight_decay=5e-4)\n",
    "\n",
    "# racnn_k10 = train_racnn_k10(\n",
    "#     model=racnn_k10,\n",
    "#     train_loader=train_loader,\n",
    "#     val_loader=val_loader,\n",
    "#     optimizer=opt_k10,\n",
    "#     epochs=30,\n",
    "#     NMU=5,\n",
    "#     AMP=True,\n",
    "#     min_epochs=10,\n",
    "#     patience=6\n",
    "# )\n",
    "# #"
   ]
  },
  {
   "cell_type": "code",
   "execution_count": 19,
   "id": "02a95d6a",
   "metadata": {},
   "outputs": [
    {
     "name": "stdout",
     "output_type": "stream",
     "text": [
      "🔍 Loading best RaCNN (K=10) weights from: E:\\racnn-experiments\\ra-cnn-custom\\checkpoints\\racnn_k10_best.pt\n"
     ]
    },
    {
     "name": "stderr",
     "output_type": "stream",
     "text": [
      "Evaluating (clean): 100%|██████████| 40/40 [00:15<00:00,  2.55it/s]"
     ]
    },
    {
     "name": "stdout",
     "output_type": "stream",
     "text": [
      "\n",
      "✅ Clean Test Accuracy (RaCNN K=10): 87.19% | Loss = 0.4947\n",
      "📊 Saved clean evaluation results to E:\\racnn-experiments\\ra-cnn-custom\\artifacts\\results_clean.json\n"
     ]
    },
    {
     "name": "stderr",
     "output_type": "stream",
     "text": [
      "\n"
     ]
    }
   ],
   "source": [
    "# === Block 5-F — Evaluation + Logging for RaCNN (K=10) ===\n",
    "from pathlib import Path\n",
    "import json\n",
    "from tqdm import tqdm\n",
    "\n",
    "# ---------------------------------------------------------\n",
    "# 1️⃣  Load best checkpoint (K=10)\n",
    "# ---------------------------------------------------------\n",
    "ckpt_path = CHECKPOINTS / \"racnn_k10_best.pt\"\n",
    "assert ckpt_path.exists(), f\"Checkpoint not found: {ckpt_path}\"\n",
    "\n",
    "print(f\"🔍 Loading best RaCNN (K=10) weights from: {ckpt_path}\")\n",
    "racnn_k10.load_state_dict(torch.load(ckpt_path, map_location=DEVICE))\n",
    "racnn_k10.eval()\n",
    "\n",
    "# ---------------------------------------------------------\n",
    "# 2️⃣  Evaluate on the clean CIFAR-10 test set (§5.2)\n",
    "# ---------------------------------------------------------\n",
    "test_loss, test_correct, test_seen = 0.0, 0, 0\n",
    "\n",
    "with torch.no_grad(), torch.amp.autocast(device_type=\"cuda\", enabled=True):\n",
    "    for imgs, labels in tqdm(test_loader, desc=\"Evaluating (clean)\"):\n",
    "        imgs, labels = imgs.to(DEVICE), labels.to(DEVICE)\n",
    "        logits, *_ = racnn_k10(imgs)\n",
    "        loss = F.cross_entropy(logits, labels)\n",
    "\n",
    "        test_loss += loss.item() * labels.size(0)\n",
    "        test_correct += (logits.argmax(1) == labels).sum().item()\n",
    "        test_seen += labels.size(0)\n",
    "\n",
    "test_loss /= test_seen\n",
    "test_acc = test_correct / test_seen\n",
    "print(f\"\\n✅ Clean Test Accuracy (RaCNN K=10): {test_acc*100:.2f}% | Loss = {test_loss:.4f}\")\n",
    "\n",
    "# ---------------------------------------------------------\n",
    "# 3️⃣  Save / append results to JSON\n",
    "# ---------------------------------------------------------\n",
    "results_path = ARTIFACTS / \"results_clean.json\"\n",
    "results = {}\n",
    "\n",
    "if results_path.exists():\n",
    "    with open(results_path, \"r\") as f:\n",
    "        results = json.load(f)\n",
    "\n",
    "results[\"RaCNN_K10_Clean\"] = {\n",
    "    \"accuracy\": round(test_acc * 100, 2),\n",
    "    \"loss\": round(test_loss, 4)\n",
    "}\n",
    "\n",
    "with open(results_path, \"w\") as f:\n",
    "    json.dump(results, f, indent=4)\n",
    "\n",
    "print(f\"📊 Saved clean evaluation results to {results_path}\")\n"
   ]
  },
  {
   "cell_type": "code",
   "execution_count": null,
   "id": "d10ef306",
   "metadata": {},
   "outputs": [
    {
     "name": "stdout",
     "output_type": "stream",
     "text": [
      "Collecting foolbox\n",
      "  Downloading foolbox-3.3.4-py3-none-any.whl.metadata (7.3 kB)\n",
      "Requirement already satisfied: numpy in c:\\users\\user\\anaconda3\\envs\\torch310\\lib\\site-packages (from foolbox) (1.26.4)\n",
      "Requirement already satisfied: scipy in c:\\users\\user\\anaconda3\\envs\\torch310\\lib\\site-packages (from foolbox) (1.15.3)\n",
      "Requirement already satisfied: setuptools in c:\\users\\user\\anaconda3\\envs\\torch310\\lib\\site-packages (from foolbox) (78.1.1)\n",
      "Collecting eagerpy>=0.30.0 (from foolbox)\n",
      "  Downloading eagerpy-0.30.0-py3-none-any.whl.metadata (5.5 kB)\n",
      "Collecting GitPython>=3.0.7 (from foolbox)\n",
      "  Downloading gitpython-3.1.45-py3-none-any.whl.metadata (13 kB)\n",
      "Requirement already satisfied: typing-extensions>=3.7.4.1 in c:\\users\\user\\anaconda3\\envs\\torch310\\lib\\site-packages (from foolbox) (4.12.2)\n",
      "Requirement already satisfied: requests>=2.24.0 in c:\\users\\user\\anaconda3\\envs\\torch310\\lib\\site-packages (from foolbox) (2.25.1)\n",
      "Collecting gitdb<5,>=4.0.1 (from GitPython>=3.0.7->foolbox)\n",
      "  Downloading gitdb-4.0.12-py3-none-any.whl.metadata (1.2 kB)\n",
      "Collecting smmap<6,>=3.0.1 (from gitdb<5,>=4.0.1->GitPython>=3.0.7->foolbox)\n",
      "  Downloading smmap-5.0.2-py3-none-any.whl.metadata (4.3 kB)\n",
      "Requirement already satisfied: chardet<5,>=3.0.2 in c:\\users\\user\\anaconda3\\envs\\torch310\\lib\\site-packages (from requests>=2.24.0->foolbox) (4.0.0)\n",
      "Requirement already satisfied: idna<3,>=2.5 in c:\\users\\user\\anaconda3\\envs\\torch310\\lib\\site-packages (from requests>=2.24.0->foolbox) (2.10)\n",
      "Requirement already satisfied: urllib3<1.27,>=1.21.1 in c:\\users\\user\\anaconda3\\envs\\torch310\\lib\\site-packages (from requests>=2.24.0->foolbox) (1.26.20)\n",
      "Requirement already satisfied: certifi>=2017.4.17 in c:\\users\\user\\anaconda3\\envs\\torch310\\lib\\site-packages (from requests>=2.24.0->foolbox) (2025.8.3)\n",
      "Downloading foolbox-3.3.4-py3-none-any.whl (1.7 MB)\n",
      "   ---------------------------------------- 0.0/1.7 MB ? eta -:--:--\n",
      "   ---------------------------------------- 0.0/1.7 MB ? eta -:--:--\n",
      "   ---------------------------------------- 0.0/1.7 MB ? eta -:--:--\n",
      "   ---------------------------------------- 0.0/1.7 MB ? eta -:--:--\n",
      "   ---------------------------------------- 0.0/1.7 MB ? eta -:--:--\n",
      "   ------------------ --------------------- 0.8/1.7 MB 3.1 MB/s eta 0:00:01\n",
      "   ---------------------------------------- 1.7/1.7 MB 5.0 MB/s eta 0:00:00\n",
      "Downloading eagerpy-0.30.0-py3-none-any.whl (31 kB)\n",
      "Downloading gitpython-3.1.45-py3-none-any.whl (208 kB)\n",
      "Downloading gitdb-4.0.12-py3-none-any.whl (62 kB)\n",
      "Downloading smmap-5.0.2-py3-none-any.whl (24 kB)\n",
      "Installing collected packages: smmap, eagerpy, gitdb, GitPython, foolbox\n",
      "\n",
      "   ------------------------ --------------- 3/5 [GitPython]\n",
      "   -------------------------------- ------- 4/5 [foolbox]\n",
      "   ---------------------------------------- 5/5 [foolbox]\n",
      "\n",
      "Successfully installed GitPython-3.1.45 eagerpy-0.30.0 foolbox-3.3.4 gitdb-4.0.12 smmap-5.0.2\n"
     ]
    }
   ],
   "source": [
    "# !pip install foolbox"
   ]
  },
  {
   "cell_type": "code",
   "execution_count": null,
   "id": "58114d58",
   "metadata": {},
   "outputs": [],
   "source": [
    "# # === Block 6A: Foolbox wrappers & utilities ===\n",
    "# import foolbox as fb\n",
    "# from foolbox.attacks import FGSM, LinfPGD, L2DeepFoolAttack, L2CarliniWagnerAttack\n",
    "# import time, json, numpy as np\n",
    "\n",
    "# def make_fmodel(pytorch_model):\n",
    "#     \"\"\"Wrap PyTorch model for Foolbox with CIFAR-10 normalization (v3+ safe).\"\"\"\n",
    "#     pytorch_model.eval()\n",
    "#     mean = np.array(CIFAR10_MEAN, dtype=np.float32)\n",
    "#     std  = np.array(CIFAR10_STD, dtype=np.float32)\n",
    "#     # Foolbox v3+ expects a dict, not a tuple\n",
    "#     return fb.PyTorchModel(\n",
    "#         pytorch_model,\n",
    "#         bounds=(0, 1),\n",
    "#         preprocessing={\"mean\": mean, \"std\": std}\n",
    "#     )\n",
    "\n",
    "\n",
    "# def normalized_l2_batch(x, x_adv):\n",
    "#     \"\"\"Compute normalized L2 distance batch-wise.\"\"\"\n",
    "#     return normalized_l2(x, x_adv).cpu().numpy()\n"
   ]
  },
  {
   "cell_type": "code",
   "execution_count": null,
   "id": "e30d8e46",
   "metadata": {},
   "outputs": [],
   "source": [
    "# # === Block 6B: Attack grids ===\n",
    "# fgsm_eps     = [1/255, 2/255, 4/255, 8/255]      # FGSM magnitudes\n",
    "# ifgsm_steps  = [5, 10, 20]                       # iterative FGSM (PGD-like)\n",
    "# ifgsm_step   = [1/255, 2/255]                    # step size per iteration\n",
    "# deepfool_itr = [10, 20]                          # DeepFool iteration counts\n",
    "\n",
    "# results_adv = {}\n"
   ]
  },
  {
   "cell_type": "code",
   "execution_count": null,
   "id": "7f222c3b",
   "metadata": {},
   "outputs": [],
   "source": [
    "# # === Block 6C: Run FGSM, iFGSM, DeepFool ===\n",
    "# device = DEVICE\n",
    "\n",
    "# # 1️⃣ Load best checkpoints\n",
    "# baseline_model.load_state_dict(torch.load(CHECKPOINTS / \"baseline_best.pt\", map_location=device))\n",
    "# racnn_k5.load_state_dict(torch.load(CHECKPOINTS / \"racnn_k5_best.pt\", map_location=device))\n",
    "# racnn_k10.load_state_dict(torch.load(CHECKPOINTS / \"racnn_k10_best.pt\", map_location=device))\n",
    "\n",
    "# baseline_model.eval()\n",
    "# racnn_k5.eval()\n",
    "# racnn_k10.eval()\n",
    "\n",
    "# # 2️⃣ Wrap in dictionary for evaluation\n",
    "# models_to_attack = {\n",
    "#     \"baseline\": baseline_model,\n",
    "#     \"racnn_k5\": racnn_k5,\n",
    "#     \"racnn_k10\": racnn_k10\n",
    "# }\n"
   ]
  },
  {
   "cell_type": "code",
   "execution_count": null,
   "id": "4207b68f",
   "metadata": {},
   "outputs": [
    {
     "name": "stdout",
     "output_type": "stream",
     "text": [
      "\n",
      "⚔️ Running FGSM attacks on: baseline\n"
     ]
    },
    {
     "name": "stderr",
     "output_type": "stream",
     "text": [
      "                                                                                          \r"
     ]
    },
    {
     "ename": "RuntimeError",
     "evalue": "size mismatch (got input: [10], target: [256])",
     "output_type": "error",
     "traceback": [
      "\u001b[1;31m---------------------------------------------------------------------------\u001b[0m",
      "\u001b[1;31mRuntimeError\u001b[0m                              Traceback (most recent call last)",
      "Cell \u001b[1;32mIn[39], line 29\u001b[0m\n\u001b[0;32m     27\u001b[0m imgs_t \u001b[38;5;241m=\u001b[39m imgs_norm\u001b[38;5;241m.\u001b[39mclone()\u001b[38;5;241m.\u001b[39mdetach()\u001b[38;5;241m.\u001b[39mrequires_grad_(\u001b[38;5;28;01mTrue\u001b[39;00m)\n\u001b[0;32m     28\u001b[0m logits \u001b[38;5;241m=\u001b[39m model(imgs_t)[\u001b[38;5;241m0\u001b[39m]\n\u001b[1;32m---> 29\u001b[0m loss \u001b[38;5;241m=\u001b[39m \u001b[43mF\u001b[49m\u001b[38;5;241;43m.\u001b[39;49m\u001b[43mcross_entropy\u001b[49m\u001b[43m(\u001b[49m\u001b[43mlogits\u001b[49m\u001b[43m,\u001b[49m\u001b[43m \u001b[49m\u001b[43mlabels\u001b[49m\u001b[43m)\u001b[49m\n\u001b[0;32m     30\u001b[0m loss\u001b[38;5;241m.\u001b[39mbackward()\n\u001b[0;32m     32\u001b[0m \u001b[38;5;66;03m# sign of gradient\u001b[39;00m\n",
      "File \u001b[1;32mc:\\Users\\User\\anaconda3\\envs\\torch310\\lib\\site-packages\\torch\\nn\\functional.py:3462\u001b[0m, in \u001b[0;36mcross_entropy\u001b[1;34m(input, target, weight, size_average, ignore_index, reduce, reduction, label_smoothing)\u001b[0m\n\u001b[0;32m   3460\u001b[0m \u001b[38;5;28;01mif\u001b[39;00m size_average \u001b[38;5;129;01mis\u001b[39;00m \u001b[38;5;129;01mnot\u001b[39;00m \u001b[38;5;28;01mNone\u001b[39;00m \u001b[38;5;129;01mor\u001b[39;00m reduce \u001b[38;5;129;01mis\u001b[39;00m \u001b[38;5;129;01mnot\u001b[39;00m \u001b[38;5;28;01mNone\u001b[39;00m:\n\u001b[0;32m   3461\u001b[0m     reduction \u001b[38;5;241m=\u001b[39m _Reduction\u001b[38;5;241m.\u001b[39mlegacy_get_string(size_average, reduce)\n\u001b[1;32m-> 3462\u001b[0m \u001b[38;5;28;01mreturn\u001b[39;00m \u001b[43mtorch\u001b[49m\u001b[38;5;241;43m.\u001b[39;49m\u001b[43m_C\u001b[49m\u001b[38;5;241;43m.\u001b[39;49m\u001b[43m_nn\u001b[49m\u001b[38;5;241;43m.\u001b[39;49m\u001b[43mcross_entropy_loss\u001b[49m\u001b[43m(\u001b[49m\n\u001b[0;32m   3463\u001b[0m \u001b[43m    \u001b[49m\u001b[38;5;28;43minput\u001b[39;49m\u001b[43m,\u001b[49m\n\u001b[0;32m   3464\u001b[0m \u001b[43m    \u001b[49m\u001b[43mtarget\u001b[49m\u001b[43m,\u001b[49m\n\u001b[0;32m   3465\u001b[0m \u001b[43m    \u001b[49m\u001b[43mweight\u001b[49m\u001b[43m,\u001b[49m\n\u001b[0;32m   3466\u001b[0m \u001b[43m    \u001b[49m\u001b[43m_Reduction\u001b[49m\u001b[38;5;241;43m.\u001b[39;49m\u001b[43mget_enum\u001b[49m\u001b[43m(\u001b[49m\u001b[43mreduction\u001b[49m\u001b[43m)\u001b[49m\u001b[43m,\u001b[49m\n\u001b[0;32m   3467\u001b[0m \u001b[43m    \u001b[49m\u001b[43mignore_index\u001b[49m\u001b[43m,\u001b[49m\n\u001b[0;32m   3468\u001b[0m \u001b[43m    \u001b[49m\u001b[43mlabel_smoothing\u001b[49m\u001b[43m,\u001b[49m\n\u001b[0;32m   3469\u001b[0m \u001b[43m\u001b[49m\u001b[43m)\u001b[49m\n",
      "\u001b[1;31mRuntimeError\u001b[0m: size mismatch (got input: [10], target: [256])"
     ]
    }
   ],
   "source": [
    "# from foolbox.attacks import fast_gradient_method\n",
    "\n",
    "# def to_raw_numpy(batch_tensor):\n",
    "#     \"\"\"Normalized tensor [B,C,H,W] → raw [0,1] numpy for Foolbox.\"\"\"\n",
    "#     device = batch_tensor.device  # use same device as input\n",
    "#     m = torch.tensor(CIFAR10_MEAN, device=device).view(1, 3, 1, 1)\n",
    "#     s = torch.tensor(CIFAR10_STD, device=device).view(1, 3, 1, 1)\n",
    "#     raw = (batch_tensor * s + m).clamp(0, 1).detach().cpu().numpy().astype(np.float32)\n",
    "#     return raw\n",
    "\n",
    "\n",
    "# for model_name, fmodel in fmodels.items():\n",
    "#     model = models_to_attack[model_name]\n",
    "#     print(f\"\\n⚔️ Running FGSM attacks on: {model_name}\")\n",
    "\n",
    "#     for eps in fgsm_eps:\n",
    "#         accs, nl2s = [], []\n",
    "\n",
    "#         for imgs_norm, labels in tqdm(test_loader, desc=f\"{model_name} FGSM ε={eps:.4f}\", ncols=90, leave=False):\n",
    "#             imgs_norm = imgs_norm.to(DEVICE)\n",
    "#             labels = labels.to(DEVICE)\n",
    "\n",
    "#             imgs_raw = to_raw_numpy(imgs_norm)\n",
    "#             labels_np = labels.cpu().numpy()\n",
    "\n",
    "#             # ✅ PyTorch-native FGSM (works everywhere)\n",
    "#             imgs_t = imgs_norm.clone().detach().requires_grad_(True)\n",
    "#             logits = model(imgs_t)[0]\n",
    "#             loss = F.cross_entropy(logits, labels)\n",
    "#             loss.backward()\n",
    "\n",
    "#             # sign of gradient\n",
    "#             advs_t = imgs_t + eps * imgs_t.grad.sign()\n",
    "#             advs_t = torch.clamp(advs_t, -1, 1).detach()  # still normalized range\n",
    "\n",
    "#             with torch.no_grad():\n",
    "#                 logits_adv = model(advs_t)\n",
    "#                 preds = logits_adv.argmax(1)\n",
    "#                 acc_batch = (preds == labels).float().mean().item()\n",
    "#                 nl2_batch = normalized_l2(imgs_norm, advs_t).mean().item()\n",
    "\n",
    "#             accs.append(acc_batch)\n",
    "#             nl2s.append(nl2_batch)\n",
    "\n",
    "#         mean_acc = float(np.mean(accs))\n",
    "#         mean_nl2 = float(np.mean(nl2s))\n",
    "#         results_adv[model_name][\"FGSM\"].append({\n",
    "#             \"eps\": float(eps),\n",
    "#             \"acc\": mean_acc,\n",
    "#             \"mean_nl2\": mean_nl2\n",
    "#         })\n",
    "#         print(f\"  → ε={eps:.4f} | acc={mean_acc:.4f} | mean_l2={mean_nl2:.3e}\")\n",
    "\n",
    "# # Save partial results\n",
    "# with open(ARTIFACTS / \"results_adv_fgsm.json\", \"w\") as f:\n",
    "#     json.dump(results_adv, f, indent=2)\n",
    "# print(\"\\n📊 Saved FGSM results → artifacts/results_adv_fgsm.json\")\n"
   ]
  },
  {
   "cell_type": "code",
   "execution_count": 40,
   "id": "41941408",
   "metadata": {},
   "outputs": [],
   "source": [
    "# in notebook:\n",
    "!pip install torchattacks --quiet\n"
   ]
  },
  {
   "cell_type": "code",
   "execution_count": 41,
   "id": "0d560abe",
   "metadata": {},
   "outputs": [],
   "source": [
    "# === Helpers for attacks (device-aware) ===\n",
    "import torch, numpy as np\n",
    "\n",
    "def to_raw_numpy(batch_tensor):\n",
    "    \"\"\"Normalized tensor [B,C,H,W] -> raw [0,1] numpy (keeps device handling).\"\"\"\n",
    "    device = batch_tensor.device\n",
    "    m = torch.tensor(CIFAR10_MEAN, device=device).view(1,3,1,1)\n",
    "    s = torch.tensor(CIFAR10_STD,  device=device).view(1,3,1,1)\n",
    "    raw = (batch_tensor * s + m).clamp(0,1).detach().cpu().numpy().astype(np.float32)\n",
    "    return raw\n",
    "\n",
    "def raw_numpy_to_norm_tensor(advs_np, device):\n",
    "    \"\"\"Raw numpy [B,C,H,W] -> normalized torch tensor on device.\"\"\"\n",
    "    adv_t = torch.from_numpy(advs_np).to(device)\n",
    "    m = torch.tensor(CIFAR10_MEAN, device=device).view(1,3,1,1)\n",
    "    s = torch.tensor(CIFAR10_STD,  device=device).view(1,3,1,1)\n",
    "    return (adv_t - m) / s\n"
   ]
  },
  {
   "cell_type": "code",
   "execution_count": 42,
   "id": "abc4d301",
   "metadata": {},
   "outputs": [],
   "source": [
    "# === Wrapper for attack-time forward (returns logits only, with grads) ===\n",
    "def logits_for_attack(model, x):\n",
    "    \"\"\"\n",
    "    model: baseline_model or racnn_k5 / racnn_k10\n",
    "    x: normalized torch tensor (requires_grad True if needed)\n",
    "    returns logits tensor [B, num_classes]\n",
    "    \"\"\"\n",
    "    out = model(x)\n",
    "    if isinstance(out, tuple) or isinstance(out, list):\n",
    "        # first element is logits per our training code\n",
    "        return out[0]\n",
    "    else:\n",
    "        return out\n"
   ]
  },
  {
   "cell_type": "code",
   "execution_count": 43,
   "id": "624577ac",
   "metadata": {},
   "outputs": [],
   "source": [
    "# === Attack runner using torchattacks ===\n",
    "import torchattacks\n",
    "from tqdm import tqdm\n",
    "import json, numpy as np\n",
    "\n",
    "def run_attack_torchattacks(model_name, model, attack_name, attack_obj, test_loader, device):\n",
    "    \"\"\"\n",
    "    Runs `attack_obj` (torchattacks.Attack instance) on `model` over test_loader.\n",
    "    Returns dict with aggregated results (accuracy and mean normalized-L2).\n",
    "    \"\"\"\n",
    "    model.eval()\n",
    "    results = []\n",
    "    for imgs_norm, labels in tqdm(test_loader, desc=f\"{model_name} {attack_name}\", leave=False):\n",
    "        imgs_norm = imgs_norm.to(device)\n",
    "        labels = labels.to(device)\n",
    "\n",
    "        # torchattacks expects normalized tensor inputs (we operate in normalized space)\n",
    "        # but many implementations assume the model already includes normalization.\n",
    "        # We'll give attack the normalized tensors and compute norms in normalized space.\n",
    "        # To follow paper's raw-L2, produce a raw numpy copy and compute normalized_l2 later.\n",
    "\n",
    "        # Create adversarial examples using torchattacks:\n",
    "        # The attack object takes (model, images, labels) and returns advs in same scale as input.\n",
    "        # Note: For RaCNN, the attack needs gradients w.r.t. logits. We use a small wrapper lambda.\n",
    "        def _model_forward(x_in):\n",
    "            # return logits for gradient calculation\n",
    "            return logits_for_attack(model, x_in)\n",
    "\n",
    "        # torchattacks expects the `model` with .forward; easiest is to monkey-patch a lambda wrapper.\n",
    "        # We'll temporarily create a tiny object with forward = _model_forward.\n",
    "        class _Wrap:\n",
    "            def __init__(self, fn): self.fn = fn\n",
    "            def forward(self, x): return self.fn(x)\n",
    "\n",
    "        wrapped = _Wrap(_model_forward)\n",
    "        # Run attack (this will return advs normalized like imgs_norm)\n",
    "        advs_norm = attack_obj(wrapped, imgs_norm, labels)\n",
    "\n",
    "        # Evaluate accuracy on adversarials\n",
    "        with torch.no_grad():\n",
    "            # get logits for adversarials\n",
    "            logits_adv = logits_for_attack(model, advs_norm)\n",
    "            preds = logits_adv.argmax(dim=1)\n",
    "            acc_batch = (preds == labels).float().mean().item()\n",
    "\n",
    "            # compute normalized L2 per paper: normalized_l2 expects normalized tensors\n",
    "            nl2_batch = normalized_l2(imgs_norm, advs_norm).mean().item()\n",
    "\n",
    "        results.append({\"acc\": acc_batch, \"mean_nl2\": nl2_batch})\n",
    "\n",
    "    # aggregate\n",
    "    accs  = [r[\"acc\"] for r in results]\n",
    "    nl2s  = [r[\"mean_nl2\"] for r in results]\n",
    "    return {\"attack\": attack_name, \"acc\": float(np.mean(accs)), \"mean_nl2\": float(np.mean(nl2s))}\n"
   ]
  },
  {
   "cell_type": "code",
   "execution_count": 44,
   "id": "ef5f725f",
   "metadata": {},
   "outputs": [
    {
     "name": "stdout",
     "output_type": "stream",
     "text": [
      "Loading model checkpoints for attacks...\n",
      "✅ All best checkpoints loaded & ready for attack evaluation.\n"
     ]
    }
   ],
   "source": [
    "# === Reload best model checkpoints before running attacks ===\n",
    "print(\"Loading model checkpoints for attacks...\")\n",
    "\n",
    "baseline_model.load_state_dict(\n",
    "    torch.load(CHECKPOINTS / \"baseline_best.pt\", map_location=DEVICE)\n",
    ")\n",
    "racnn_k5.load_state_dict(\n",
    "    torch.load(CHECKPOINTS / \"racnn_k5_best.pt\", map_location=DEVICE)\n",
    ")\n",
    "racnn_k10.load_state_dict(\n",
    "    torch.load(CHECKPOINTS / \"racnn_k10_best.pt\", map_location=DEVICE)\n",
    ")\n",
    "\n",
    "baseline_model.eval().to(DEVICE)\n",
    "racnn_k5.eval().to(DEVICE)\n",
    "racnn_k10.eval().to(DEVICE)\n",
    "\n",
    "print(\"✅ All best checkpoints loaded & ready for attack evaluation.\")\n"
   ]
  },
  {
   "cell_type": "code",
   "execution_count": 47,
   "id": "8d2bc43c",
   "metadata": {},
   "outputs": [
    {
     "ename": "TypeError",
     "evalue": "FGSM.__init__() missing 1 required positional argument: 'model'",
     "output_type": "error",
     "traceback": [
      "\u001b[1;31m---------------------------------------------------------------------------\u001b[0m",
      "\u001b[1;31mTypeError\u001b[0m                                 Traceback (most recent call last)",
      "Cell \u001b[1;32mIn[47], line 32\u001b[0m\n\u001b[0;32m     25\u001b[0m racnn10_wrap  \u001b[38;5;241m=\u001b[39m LogitsWrapper(racnn_k10)\n\u001b[0;32m     27\u001b[0m \u001b[38;5;66;03m# --------------------------------------------------------------\u001b[39;00m\n\u001b[0;32m     28\u001b[0m \u001b[38;5;66;03m# 🔹 2️⃣ Define attacks (per Section 6)\u001b[39;00m\n\u001b[0;32m     29\u001b[0m \u001b[38;5;66;03m# --------------------------------------------------------------\u001b[39;00m\n\u001b[0;32m     30\u001b[0m attacks \u001b[38;5;241m=\u001b[39m {\n\u001b[0;32m     31\u001b[0m     \u001b[38;5;124m\"\u001b[39m\u001b[38;5;124mClean\u001b[39m\u001b[38;5;124m\"\u001b[39m:    \u001b[38;5;28;01mNone\u001b[39;00m,\n\u001b[1;32m---> 32\u001b[0m     \u001b[38;5;124m\"\u001b[39m\u001b[38;5;124mFGSM\u001b[39m\u001b[38;5;124m\"\u001b[39m:     \u001b[43mtorchattacks\u001b[49m\u001b[38;5;241;43m.\u001b[39;49m\u001b[43mFGSM\u001b[49m\u001b[43m(\u001b[49m\u001b[43meps\u001b[49m\u001b[38;5;241;43m=\u001b[39;49m\u001b[38;5;241;43m0.03\u001b[39;49m\u001b[43m)\u001b[49m,   \u001b[38;5;66;03m# one-step FGSM\u001b[39;00m\n\u001b[0;32m     33\u001b[0m     \u001b[38;5;124m\"\u001b[39m\u001b[38;5;124miFGSM\u001b[39m\u001b[38;5;124m\"\u001b[39m:    torchattacks\u001b[38;5;241m.\u001b[39mPGD(eps\u001b[38;5;241m=\u001b[39m\u001b[38;5;241m0.03\u001b[39m, alpha\u001b[38;5;241m=\u001b[39m\u001b[38;5;241m0.005\u001b[39m, steps\u001b[38;5;241m=\u001b[39m\u001b[38;5;241m10\u001b[39m),\n\u001b[0;32m     34\u001b[0m     \u001b[38;5;124m\"\u001b[39m\u001b[38;5;124mPGD\u001b[39m\u001b[38;5;124m\"\u001b[39m:      torchattacks\u001b[38;5;241m.\u001b[39mPGD(eps\u001b[38;5;241m=\u001b[39m\u001b[38;5;241m0.03\u001b[39m, alpha\u001b[38;5;241m=\u001b[39m\u001b[38;5;241m0.005\u001b[39m, steps\u001b[38;5;241m=\u001b[39m\u001b[38;5;241m20\u001b[39m),\n\u001b[0;32m     35\u001b[0m     \u001b[38;5;124m\"\u001b[39m\u001b[38;5;124mDeepFool\u001b[39m\u001b[38;5;124m\"\u001b[39m: torchattacks\u001b[38;5;241m.\u001b[39mDeepFool(steps\u001b[38;5;241m=\u001b[39m\u001b[38;5;241m50\u001b[39m),\n\u001b[0;32m     36\u001b[0m     \u001b[38;5;66;03m# \"CW\":       torchattacks.CW(c=1, kappa=0, steps=50, lr=0.01),\u001b[39;00m\n\u001b[0;32m     37\u001b[0m }\n\u001b[0;32m     39\u001b[0m \u001b[38;5;66;03m# --------------------------------------------------------------\u001b[39;00m\n\u001b[0;32m     40\u001b[0m \u001b[38;5;66;03m# 🔹 3️⃣ Evaluation loop\u001b[39;00m\n\u001b[0;32m     41\u001b[0m \u001b[38;5;66;03m# --------------------------------------------------------------\u001b[39;00m\n\u001b[0;32m     42\u001b[0m \u001b[38;5;28;01mdef\u001b[39;00m\u001b[38;5;250m \u001b[39m\u001b[38;5;21mevaluate_adv\u001b[39m(model_name, model, dataloader, attacks, device):\n",
      "\u001b[1;31mTypeError\u001b[0m: FGSM.__init__() missing 1 required positional argument: 'model'"
     ]
    }
   ],
   "source": [
    "# ==============================================================\n",
    "# 🧩 Block 6 — Adversarial Evaluation (torchattacks version)\n",
    "# ==============================================================\n",
    "import torchattacks\n",
    "from tqdm import tqdm\n",
    "import torch.nn as nn\n",
    "import json\n",
    "\n",
    "# --------------------------------------------------------------\n",
    "# 🔹 1️⃣ Wrapper that returns logits only\n",
    "# --------------------------------------------------------------\n",
    "class LogitsWrapper(nn.Module):\n",
    "    def __init__(self, model):\n",
    "        super().__init__()\n",
    "        self.model = model\n",
    "    def forward(self, x):\n",
    "        out = self.model(x)\n",
    "        if isinstance(out, (tuple, list)):\n",
    "            return out[0]  # only logits\n",
    "        return out\n",
    "\n",
    "# Wrap all your models\n",
    "baseline_wrap = LogitsWrapper(baseline_model)\n",
    "racnn5_wrap   = LogitsWrapper(racnn_k5)\n",
    "racnn10_wrap  = LogitsWrapper(racnn_k10)\n",
    "\n",
    "# --------------------------------------------------------------\n",
    "# 🔹 2️⃣ Define attacks (per Section 6)\n",
    "# --------------------------------------------------------------\n",
    "attacks = {\n",
    "    \"Clean\":    None,\n",
    "    \"FGSM\":     torchattacks.FGSM(eps=0.03),   # one-step FGSM\n",
    "    \"iFGSM\":    torchattacks.PGD(eps=0.03, alpha=0.005, steps=10),\n",
    "    \"PGD\":      torchattacks.PGD(eps=0.03, alpha=0.005, steps=20),\n",
    "    \"DeepFool\": torchattacks.DeepFool(steps=50),\n",
    "    # \"CW\":       torchattacks.CW(c=1, kappa=0, steps=50, lr=0.01),\n",
    "}\n",
    "\n",
    "# --------------------------------------------------------------\n",
    "# 🔹 3️⃣ Evaluation loop\n",
    "# --------------------------------------------------------------\n",
    "def evaluate_adv(model_name, model, dataloader, attacks, device):\n",
    "    \"\"\"Evaluate model under multiple attacks and compute accuracy.\"\"\"\n",
    "    model.eval()\n",
    "    results = {}\n",
    "    for atk_name, atk in attacks.items():\n",
    "        correct, total = 0, 0\n",
    "        for imgs, labels in tqdm(dataloader, desc=f\"[{model_name} {atk_name}]\", leave=False):\n",
    "            imgs, labels = imgs.to(device), labels.to(device)\n",
    "            adv_imgs = imgs\n",
    "            if atk is not None:\n",
    "                atk.set_model(model)     # tell attack which model to use\n",
    "                adv_imgs = atk(imgs, labels)\n",
    "            with torch.no_grad():\n",
    "                outputs = model(adv_imgs)\n",
    "                preds = outputs.argmax(1)\n",
    "                correct += (preds == labels).sum().item()\n",
    "                total += labels.size(0)\n",
    "        acc = 100 * correct / total\n",
    "        results[atk_name] = acc\n",
    "        print(f\"{model_name:10s} | {atk_name:10s}: {acc:.2f}%\")\n",
    "    return results\n",
    "\n",
    "# --------------------------------------------------------------\n",
    "# 🔹 4️⃣ Run for all models\n",
    "# --------------------------------------------------------------\n",
    "device = DEVICE\n",
    "results_all = {}\n",
    "\n",
    "for name, model in {\n",
    "    \"baseline\": baseline_wrap,\n",
    "    \"RaCNN-K5\": racnn5_wrap,\n",
    "    \"RaCNN-K10\": racnn10_wrap\n",
    "}.items():\n",
    "    results_all[name] = evaluate_adv(name, model.to(device), test_loader, attacks, device)\n",
    "\n",
    "# --------------------------------------------------------------\n",
    "# 🔹 5️⃣ Save results\n",
    "# --------------------------------------------------------------\n",
    "with open(ARTIFACTS / \"results_torchattacks_summary.json\", \"w\") as f:\n",
    "    json.dump(results_all, f, indent=2)\n",
    "print(\"\\n✅ Saved all adversarial accuracies to results_torchattacks_summary.json\")\n",
    "\n",
    "# Pretty print\n",
    "print(\"\\n=== Final Summary ===\")\n",
    "for model_name, vals in results_all.items():\n",
    "    print(f\"\\n🧠 {model_name}\")\n",
    "    for atk, acc in vals.items():\n",
    "        print(f\"  {atk:10s}: {acc:.2f}%\")\n"
   ]
  },
  {
   "cell_type": "code",
   "execution_count": 48,
   "id": "45fc409f",
   "metadata": {},
   "outputs": [
    {
     "name": "stderr",
     "output_type": "stream",
     "text": [
      "                                                                                          \r"
     ]
    },
    {
     "name": "stdout",
     "output_type": "stream",
     "text": [
      "baseline   | FGSM       -> acc: 30.90%\n"
     ]
    },
    {
     "name": "stderr",
     "output_type": "stream",
     "text": [
      "                                                                                          \r"
     ]
    },
    {
     "name": "stdout",
     "output_type": "stream",
     "text": [
      "baseline   | iFGSM      -> acc: 8.11%\n"
     ]
    },
    {
     "name": "stderr",
     "output_type": "stream",
     "text": [
      "                                                                                          \r"
     ]
    },
    {
     "name": "stdout",
     "output_type": "stream",
     "text": [
      "baseline   | PGD        -> acc: 7.57%\n"
     ]
    },
    {
     "name": "stderr",
     "output_type": "stream",
     "text": [
      "                                                                                          \r"
     ]
    },
    {
     "name": "stdout",
     "output_type": "stream",
     "text": [
      "baseline   | DeepFool   -> acc: 20.00%\n"
     ]
    },
    {
     "name": "stderr",
     "output_type": "stream",
     "text": [
      "                                                                                          \r"
     ]
    },
    {
     "name": "stdout",
     "output_type": "stream",
     "text": [
      "RaCNN-K5   | FGSM       -> acc: 46.98%\n"
     ]
    },
    {
     "name": "stderr",
     "output_type": "stream",
     "text": [
      "                                                                                          \r"
     ]
    },
    {
     "name": "stdout",
     "output_type": "stream",
     "text": [
      "RaCNN-K5   | iFGSM      -> acc: 45.74%\n"
     ]
    },
    {
     "name": "stderr",
     "output_type": "stream",
     "text": [
      "                                                                                          \r"
     ]
    },
    {
     "name": "stdout",
     "output_type": "stream",
     "text": [
      "RaCNN-K5   | PGD        -> acc: 45.76%\n"
     ]
    },
    {
     "name": "stderr",
     "output_type": "stream",
     "text": [
      "                                                                                          \r"
     ]
    },
    {
     "name": "stdout",
     "output_type": "stream",
     "text": [
      "RaCNN-K5   | DeepFool   -> acc: 1.93%\n"
     ]
    },
    {
     "name": "stderr",
     "output_type": "stream",
     "text": [
      "                                                                                          \r"
     ]
    },
    {
     "name": "stdout",
     "output_type": "stream",
     "text": [
      "RaCNN-K10  | FGSM       -> acc: 49.30%\n"
     ]
    },
    {
     "name": "stderr",
     "output_type": "stream",
     "text": [
      "                                                                                          \r"
     ]
    },
    {
     "name": "stdout",
     "output_type": "stream",
     "text": [
      "RaCNN-K10  | iFGSM      -> acc: 47.61%\n"
     ]
    },
    {
     "name": "stderr",
     "output_type": "stream",
     "text": [
      "                                                                                          \r"
     ]
    },
    {
     "name": "stdout",
     "output_type": "stream",
     "text": [
      "RaCNN-K10  | PGD        -> acc: 47.50%\n"
     ]
    },
    {
     "name": "stderr",
     "output_type": "stream",
     "text": [
      "                                                                                          "
     ]
    },
    {
     "name": "stdout",
     "output_type": "stream",
     "text": [
      "RaCNN-K10  | DeepFool   -> acc: 1.41%\n",
      "\n",
      "✅ Saved results to: E:\\racnn-experiments\\ra-cnn-custom\\artifacts\\results_torchattacks_summary.json\n",
      "Summary: {'baseline': {'FGSM': 30.9, 'iFGSM': 8.11, 'PGD': 7.57, 'DeepFool': 20.0}, 'RaCNN-K5': {'FGSM': 46.98, 'iFGSM': 45.74, 'PGD': 45.76, 'DeepFool': 1.93}, 'RaCNN-K10': {'FGSM': 49.3, 'iFGSM': 47.61, 'PGD': 47.5, 'DeepFool': 1.41}}\n"
     ]
    },
    {
     "name": "stderr",
     "output_type": "stream",
     "text": [
      "\r"
     ]
    }
   ],
   "source": [
    "# === Block: Evaluate attacks (torchattacks) — FIXED (attack ctor requires model) ===\n",
    "import torchattacks\n",
    "from tqdm import tqdm\n",
    "import torch.nn as nn\n",
    "import json\n",
    "\n",
    "# 1) Wrapper returning logits only (works for baseline and RaCNN)\n",
    "class LogitsWrapper(nn.Module):\n",
    "    def __init__(self, model):\n",
    "        super().__init__()\n",
    "        self.model = model\n",
    "    def forward(self, x):\n",
    "        out = self.model(x)\n",
    "        # model may return tuple (logits, ...). Return only logits for attacker.\n",
    "        if isinstance(out, (tuple, list)):\n",
    "            return out[0]\n",
    "        return out\n",
    "\n",
    "# 2) Wrap the three models (these objects are light and simply route forward)\n",
    "baseline_wrap = LogitsWrapper(baseline_model).to(DEVICE)\n",
    "racnn5_wrap   = LogitsWrapper(racnn_k5).to(DEVICE)\n",
    "racnn10_wrap  = LogitsWrapper(racnn_k10).to(DEVICE)\n",
    "\n",
    "# 3) Attack factory: a mapping from attack name to a small builder (takes a wrapped model)\n",
    "def make_attacks_for_model(wrapped_model):\n",
    "    \"\"\"\n",
    "    Returns dict{name: attack_instance} where each attack is bound to the wrapped_model.\n",
    "    We instantiate per-model because torchattacks expects the model in the constructor.\n",
    "    \"\"\"\n",
    "    return {\n",
    "        \"FGSM\":     torchattacks.FGSM(wrapped_model, eps=8/255),             # single-step (paper uses several eps)\n",
    "        \"iFGSM\":    torchattacks.PGD(wrapped_model, eps=8/255, alpha=2/255, steps=10),  # iterative FGSM-like\n",
    "        \"PGD\":      torchattacks.PGD(wrapped_model, eps=8/255, alpha=2/255, steps=20),\n",
    "        \"DeepFool\": torchattacks.DeepFool(wrapped_model, steps=50),\n",
    "        # \"CW\":       torchattacks.CW(wrapped_model, c=1, kappa=0, steps=50, lr=0.01),  # optional (slow)\n",
    "    }\n",
    "\n",
    "# 4) Evaluation routine (runs attacks over dataset and returns accuracy % per attack)\n",
    "def evaluate_attacks_on_wrapped_model(model_name, wrapped_model, dataloader, device):\n",
    "    wrapped_model.eval()\n",
    "    attacks = make_attacks_for_model(wrapped_model)\n",
    "    results = {}\n",
    "    for atk_name, atk in attacks.items():\n",
    "        correct, total = 0, 0\n",
    "        # tqdm for a nicer progress bar per attack\n",
    "        for imgs, labels in tqdm(dataloader, desc=f\"[{model_name} {atk_name}]\", leave=False, ncols=90):\n",
    "            imgs = imgs.to(device); labels = labels.to(device)\n",
    "            # generate adversarials (torchattacks returns same-shaped tensor)\n",
    "            adv_imgs = atk(imgs, labels)\n",
    "            with torch.no_grad():\n",
    "                logits = wrapped_model(adv_imgs)   # logits only thanks to wrapper\n",
    "                preds = logits.argmax(dim=1)\n",
    "                correct += (preds == labels).sum().item()\n",
    "                total += labels.size(0)\n",
    "        acc = 100.0 * correct / total\n",
    "        results[atk_name] = acc\n",
    "        print(f\"{model_name:10s} | {atk_name:10s} -> acc: {acc:.2f}%\")\n",
    "    return results\n",
    "\n",
    "# 5) Run for all three models (baseline, RaCNN-K5, RaCNN-K10)\n",
    "device = DEVICE\n",
    "summary = {}\n",
    "summary[\"baseline\"] = evaluate_attacks_on_wrapped_model(\"baseline\", baseline_wrap, test_loader, device)\n",
    "summary[\"RaCNN-K5\"] = evaluate_attacks_on_wrapped_model(\"RaCNN-K5\", racnn5_wrap, test_loader, device)\n",
    "summary[\"RaCNN-K10\"]= evaluate_attacks_on_wrapped_model(\"RaCNN-K10\", racnn10_wrap, test_loader, device)\n",
    "\n",
    "# 6) Save results\n",
    "with open(ARTIFACTS / \"results_torchattacks_summary.json\", \"w\") as f:\n",
    "    json.dump(summary, f, indent=2)\n",
    "print(\"\\n✅ Saved results to:\", ARTIFACTS / \"results_torchattacks_summary.json\")\n",
    "print(\"Summary:\", summary)\n"
   ]
  },
  {
   "cell_type": "code",
   "execution_count": 50,
   "id": "e418b1e9",
   "metadata": {},
   "outputs": [
    {
     "name": "stdout",
     "output_type": "stream",
     "text": [
      "\n",
      "⚔️ Running FGSM curves...\n"
     ]
    },
    {
     "name": "stderr",
     "output_type": "stream",
     "text": [
      "                                                                                          \r"
     ]
    },
    {
     "name": "stdout",
     "output_type": "stream",
     "text": [
      "\n",
      "⚔️ Running iFGSM curves...\n"
     ]
    },
    {
     "name": "stderr",
     "output_type": "stream",
     "text": [
      "                                                                                          \r"
     ]
    },
    {
     "name": "stdout",
     "output_type": "stream",
     "text": [
      "\n",
      "⚔️ Running PGD curves...\n"
     ]
    },
    {
     "name": "stderr",
     "output_type": "stream",
     "text": [
      "                                                                                          \r"
     ]
    },
    {
     "name": "stdout",
     "output_type": "stream",
     "text": [
      "✅ Saved scenario1_curves.json\n"
     ]
    },
    {
     "data": {
      "image/png": "[encoded data removed]",
      "text/plain": [
       "<Figure size 1200x400 with 3 Axes>"
      ]
     },
     "metadata": {},
     "output_type": "display_data"
    },
    {
     "name": "stdout",
     "output_type": "stream",
     "text": [
      "📊 Saved → scenario1_attack_curves_final.png\n"
     ]
    }
   ],
   "source": [
    "# ==============================================================\n",
    "# 📊 Block 8 — Scenario 1 (Direct Attack Curves, 3 Models, FGSM/iFGSM/PGD)\n",
    "# ==============================================================\n",
    "import torchattacks\n",
    "import numpy as np, matplotlib.pyplot as plt, json\n",
    "from tqdm import tqdm\n",
    "import torch.nn.functional as F\n",
    "\n",
    "# ----------------------------\n",
    "# 1️⃣ Reload the three models\n",
    "# ----------------------------\n",
    "baseline_model.load_state_dict(torch.load(CHECKPOINTS / \"baseline_best.pt\", map_location=DEVICE))\n",
    "racnn_k5.load_state_dict(torch.load(CHECKPOINTS / \"racnn_k5_best.pt\", map_location=DEVICE))\n",
    "racnn_k10.load_state_dict(torch.load(CHECKPOINTS / \"racnn_k10_best.pt\", map_location=DEVICE))\n",
    "baseline_model.eval(); racnn_k5.eval(); racnn_k10.eval()\n",
    "\n",
    "# Wrap for torchattacks (logits only)\n",
    "class LogitsWrapper(nn.Module):\n",
    "    def __init__(self, model): super().__init__(); self.model = model\n",
    "    def forward(self, x): \n",
    "        out = self.model(x)\n",
    "        return out[0] if isinstance(out, (tuple, list)) else out\n",
    "\n",
    "baseline_wrap = LogitsWrapper(baseline_model).to(DEVICE)\n",
    "racnn5_wrap   = LogitsWrapper(racnn_k5).to(DEVICE)\n",
    "racnn10_wrap  = LogitsWrapper(racnn_k10).to(DEVICE)\n",
    "\n",
    "# ----------------------------\n",
    "# 2️⃣ Define epsilon scales (≈ L2 dissimilarity levels)\n",
    "# ----------------------------\n",
    "# Using 5 magnitudes between 0 and 2e-3 (same order as paper)\n",
    "epsilons = [1/255, 2/255, 4/255, 8/255, 16/255]\n",
    "\n",
    "# ----------------------------\n",
    "# 3️⃣ Evaluate attacks at each epsilon\n",
    "# ----------------------------\n",
    "def evaluate_attack_curve(model, atk_class, epsilons, device):\n",
    "    accs, l2s = [], []\n",
    "    for eps in epsilons:\n",
    "        # Create the attack with proper arguments depending on type\n",
    "        if atk_class.__name__ == \"FGSM\":\n",
    "            atk = atk_class(model, eps=eps)\n",
    "        else:\n",
    "            atk = atk_class(model, eps=eps, alpha=eps/4, steps=10)\n",
    "\n",
    "        correct, total, total_l2 = 0, 0, 0.0\n",
    "        for imgs, labels in tqdm(test_loader, desc=f\"{atk_class.__name__} eps={eps:.5f}\", leave=False, ncols=90):\n",
    "            imgs, labels = imgs.to(device), labels.to(device)\n",
    "            adv = atk(imgs, labels)\n",
    "\n",
    "            with torch.no_grad():\n",
    "                logits = model(adv)\n",
    "                preds = logits.argmax(1)\n",
    "                correct += (preds == labels).sum().item()\n",
    "                total += labels.size(0)\n",
    "                total_l2 += F.mse_loss(adv, imgs, reduction='sum').item() ** 0.5\n",
    "\n",
    "        accs.append(correct / total)\n",
    "        l2s.append(total_l2 / total)\n",
    "    return np.array(l2s), np.array(accs)\n",
    "\n",
    "models = {\n",
    "    \"Baseline\": baseline_wrap,\n",
    "    \"RaCNN_K5_Mixup\": racnn5_wrap,\n",
    "    \"RaCNN_K10_Mixup\": racnn10_wrap\n",
    "}\n",
    "\n",
    "attackers = {\n",
    "    \"FGSM\": torchattacks.FGSM,\n",
    "    \"iFGSM\": torchattacks.PGD,  # iterative\n",
    "    \"PGD\": torchattacks.PGD\n",
    "}\n",
    "\n",
    "# Store all results\n",
    "scenario1_curves = {}\n",
    "\n",
    "for atk_name, atk_class in attackers.items():\n",
    "    print(f\"\\n⚔️ Running {atk_name} curves...\")\n",
    "    scenario1_curves[atk_name] = {}\n",
    "    for model_name, wrapped in models.items():\n",
    "        l2s, accs = evaluate_attack_curve(wrapped, atk_class, epsilons, DEVICE)\n",
    "        scenario1_curves[atk_name][model_name] = {\n",
    "            \"l2\": l2s.tolist(),\n",
    "            \"acc\": accs.tolist()\n",
    "        }\n",
    "\n",
    "# Save all results\n",
    "with open(ARTIFACTS / \"scenario1_curves.json\", \"w\") as f:\n",
    "    json.dump(scenario1_curves, f, indent=2)\n",
    "print(\"✅ Saved scenario1_curves.json\")\n",
    "\n",
    "# ----------------------------\n",
    "# 4️⃣ Plot all three attacks\n",
    "# ----------------------------\n",
    "plt.rcParams.update({\n",
    "    \"font.size\": 10, \"axes.labelsize\": 10, \"axes.titlesize\": 11,\n",
    "    \"legend.fontsize\": 8, \"lines.linewidth\": 1.5\n",
    "})\n",
    "\n",
    "fig, axs = plt.subplots(1, 3, figsize=(12, 4))\n",
    "colors = {\"Baseline\": \"r\", \"RaCNN_K5_Mixup\": \"g\", \"RaCNN_K10_Mixup\": \"b\"}\n",
    "styles = {\"Baseline\": \"dashed\", \"RaCNN_K5_Mixup\": \"solid\", \"RaCNN_K10_Mixup\": \"solid\"}\n",
    "\n",
    "for i, atk_name in enumerate([\"FGSM\", \"iFGSM\", \"PGD\"]):\n",
    "    ax = axs[i]\n",
    "    for model_name, vals in scenario1_curves[atk_name].items():\n",
    "        l2 = np.array(vals[\"l2\"])\n",
    "        acc = np.array(vals[\"acc\"])\n",
    "        order = np.argsort(l2)\n",
    "        ax.plot(l2[order], acc[order], label=model_name, \n",
    "                color=colors[model_name], linestyle=styles[model_name])\n",
    "    ax.set_title(atk_name)\n",
    "    ax.set_xlabel(\"Norm-L2 dissimilarity\")\n",
    "    ax.set_ylabel(\"Accuracy\")\n",
    "    ax.set_ylim(0, 1)\n",
    "    ax.grid(True, linestyle=\"--\", alpha=0.5)\n",
    "    ax.legend()\n",
    "\n",
    "plt.tight_layout()\n",
    "plt.savefig(ARTIFACTS / \"scenario1_attack_curves_final.png\", dpi=300)\n",
    "plt.show()\n",
    "print(\"📊 Saved → scenario1_attack_curves_final.png\")\n"
   ]
  },
  {
   "cell_type": "code",
   "execution_count": null,
   "id": "6a926ba2",
   "metadata": {},
   "outputs": [],
   "source": [
    "# Helper: Evaluate a single attack class on a wrapped model\n",
    "import torch.nn.functional as F\n",
    "import torch\n",
    "\n",
    "def evaluate_attack_curve_wrapped(wrapped_model, atk_factory, epsilons, dataloader, device):\n",
    "    accs_all = []\n",
    "    l2_all   = []\n",
    "\n",
    "    wrapped_model.eval()\n",
    "    for eps in epsilons:\n",
    "        atk = atk_factory(wrapped_model, eps)\n",
    "        correct = 0\n",
    "        total = 0\n",
    "        l2_sum = 0.0\n",
    "\n",
    "        for imgs, labels in tqdm(dataloader, desc=f\"{atk.__class__.__name__} eps={eps:.5f}\", leave=False, ncols=90):\n",
    "            imgs, labels = imgs.to(device), labels.to(device)\n",
    "            adv = atk(imgs, labels).detach()\n",
    "\n",
    "            with torch.no_grad():\n",
    "                logits = wrapped_model(adv)\n",
    "                preds = logits.argmax(dim=1)\n",
    "                correct += (preds == labels).sum().item()\n",
    "                total += labels.size(0)\n",
    "\n",
    "            l2_batch = normalized_l2(imgs, adv).mean().item()\n",
    "            l2_sum += l2_batch * imgs.size(0)\n",
    "\n",
    "        accs_all.append(correct / total)\n",
    "        l2_all.append(l2_sum / total)\n",
    "\n",
    "    return np.array(l2_all), np.array(accs_all)\n",
    "\n"
   ]
  },
  {
   "cell_type": "code",
   "execution_count": 59,
   "id": "75b0a5f5",
   "metadata": {},
   "outputs": [
    {
     "name": "stdout",
     "output_type": "stream",
     "text": [
      "\n",
      "⚔️ Running attack curves for: FGSM\n"
     ]
    },
    {
     "name": "stderr",
     "output_type": "stream",
     "text": [
      "                                                                                          \r"
     ]
    },
    {
     "ename": "KeyboardInterrupt",
     "evalue": "",
     "output_type": "error",
     "traceback": [
      "\u001b[1;31m---------------------------------------------------------------------------\u001b[0m",
      "\u001b[1;31mKeyboardInterrupt\u001b[0m                         Traceback (most recent call last)",
      "Cell \u001b[1;32mIn[59], line 8\u001b[0m\n\u001b[0;32m      6\u001b[0m     scenario1_curves[atk_name] \u001b[38;5;241m=\u001b[39m {}\n\u001b[0;32m      7\u001b[0m     \u001b[38;5;28;01mfor\u001b[39;00m model_name, wrapped \u001b[38;5;129;01min\u001b[39;00m models\u001b[38;5;241m.\u001b[39mitems():\n\u001b[1;32m----> 8\u001b[0m         l2_vals, acc_vals \u001b[38;5;241m=\u001b[39m \u001b[43mevaluate_attack_curve_wrapped\u001b[49m\u001b[43m(\u001b[49m\u001b[43mwrapped\u001b[49m\u001b[43m,\u001b[49m\u001b[43m \u001b[49m\u001b[43mfactory\u001b[49m\u001b[43m,\u001b[49m\u001b[43m \u001b[49m\u001b[43mepsilons\u001b[49m\u001b[43m,\u001b[49m\u001b[43m \u001b[49m\u001b[43mtest_loader\u001b[49m\u001b[43m,\u001b[49m\u001b[43m \u001b[49m\u001b[43mDEVICE\u001b[49m\u001b[43m)\u001b[49m\n\u001b[0;32m      9\u001b[0m         scenario1_curves[atk_name][model_name] \u001b[38;5;241m=\u001b[39m {\u001b[38;5;124m\"\u001b[39m\u001b[38;5;124ml2\u001b[39m\u001b[38;5;124m\"\u001b[39m: l2_vals\u001b[38;5;241m.\u001b[39mtolist(), \u001b[38;5;124m\"\u001b[39m\u001b[38;5;124macc\u001b[39m\u001b[38;5;124m\"\u001b[39m: acc_vals\u001b[38;5;241m.\u001b[39mtolist()}\n\u001b[0;32m     11\u001b[0m \u001b[38;5;28;01mwith\u001b[39;00m \u001b[38;5;28mopen\u001b[39m(ARTIFACTS \u001b[38;5;241m/\u001b[39m \u001b[38;5;124m\"\u001b[39m\u001b[38;5;124mscenario1_curves.json\u001b[39m\u001b[38;5;124m\"\u001b[39m, \u001b[38;5;124m\"\u001b[39m\u001b[38;5;124mw\u001b[39m\u001b[38;5;124m\"\u001b[39m) \u001b[38;5;28;01mas\u001b[39;00m f:\n",
      "Cell \u001b[1;32mIn[55], line 16\u001b[0m, in \u001b[0;36mevaluate_attack_curve_wrapped\u001b[1;34m(wrapped_model, atk_factory, epsilons, dataloader, device)\u001b[0m\n\u001b[0;32m     13\u001b[0m total \u001b[38;5;241m=\u001b[39m \u001b[38;5;241m0\u001b[39m\n\u001b[0;32m     14\u001b[0m l2_sum \u001b[38;5;241m=\u001b[39m \u001b[38;5;241m0.0\u001b[39m\n\u001b[1;32m---> 16\u001b[0m \u001b[38;5;28;01mfor\u001b[39;00m imgs, labels \u001b[38;5;129;01min\u001b[39;00m tqdm(dataloader, desc\u001b[38;5;241m=\u001b[39m\u001b[38;5;124mf\u001b[39m\u001b[38;5;124m\"\u001b[39m\u001b[38;5;132;01m{\u001b[39;00matk\u001b[38;5;241m.\u001b[39m\u001b[38;5;18m__class__\u001b[39m\u001b[38;5;241m.\u001b[39m\u001b[38;5;18m__name__\u001b[39m\u001b[38;5;132;01m}\u001b[39;00m\u001b[38;5;124m eps=\u001b[39m\u001b[38;5;132;01m{\u001b[39;00meps\u001b[38;5;132;01m:\u001b[39;00m\u001b[38;5;124m.5f\u001b[39m\u001b[38;5;132;01m}\u001b[39;00m\u001b[38;5;124m\"\u001b[39m, leave\u001b[38;5;241m=\u001b[39m\u001b[38;5;28;01mFalse\u001b[39;00m, ncols\u001b[38;5;241m=\u001b[39m\u001b[38;5;241m90\u001b[39m):\n\u001b[0;32m     17\u001b[0m     imgs, labels \u001b[38;5;241m=\u001b[39m imgs\u001b[38;5;241m.\u001b[39mto(device), labels\u001b[38;5;241m.\u001b[39mto(device)\n\u001b[0;32m     18\u001b[0m     adv \u001b[38;5;241m=\u001b[39m atk(imgs, labels)\u001b[38;5;241m.\u001b[39mdetach()\n",
      "File \u001b[1;32mc:\\Users\\User\\anaconda3\\envs\\torch310\\lib\\site-packages\\tqdm\\std.py:1181\u001b[0m, in \u001b[0;36mtqdm.__iter__\u001b[1;34m(self)\u001b[0m\n\u001b[0;32m   1178\u001b[0m time \u001b[38;5;241m=\u001b[39m \u001b[38;5;28mself\u001b[39m\u001b[38;5;241m.\u001b[39m_time\n\u001b[0;32m   1180\u001b[0m \u001b[38;5;28;01mtry\u001b[39;00m:\n\u001b[1;32m-> 1181\u001b[0m     \u001b[38;5;28;01mfor\u001b[39;00m obj \u001b[38;5;129;01min\u001b[39;00m iterable:\n\u001b[0;32m   1182\u001b[0m         \u001b[38;5;28;01myield\u001b[39;00m obj\n\u001b[0;32m   1183\u001b[0m         \u001b[38;5;66;03m# Update and possibly print the progressbar.\u001b[39;00m\n\u001b[0;32m   1184\u001b[0m         \u001b[38;5;66;03m# Note: does not call self.update(1) for speed optimisation.\u001b[39;00m\n",
      "File \u001b[1;32mc:\\Users\\User\\anaconda3\\envs\\torch310\\lib\\site-packages\\torch\\utils\\data\\dataloader.py:494\u001b[0m, in \u001b[0;36mDataLoader.__iter__\u001b[1;34m(self)\u001b[0m\n\u001b[0;32m    492\u001b[0m     \u001b[38;5;28;01mreturn\u001b[39;00m \u001b[38;5;28mself\u001b[39m\u001b[38;5;241m.\u001b[39m_iterator\n\u001b[0;32m    493\u001b[0m \u001b[38;5;28;01melse\u001b[39;00m:\n\u001b[1;32m--> 494\u001b[0m     \u001b[38;5;28;01mreturn\u001b[39;00m \u001b[38;5;28;43mself\u001b[39;49m\u001b[38;5;241;43m.\u001b[39;49m\u001b[43m_get_iterator\u001b[49m\u001b[43m(\u001b[49m\u001b[43m)\u001b[49m\n",
      "File \u001b[1;32mc:\\Users\\User\\anaconda3\\envs\\torch310\\lib\\site-packages\\torch\\utils\\data\\dataloader.py:427\u001b[0m, in \u001b[0;36mDataLoader._get_iterator\u001b[1;34m(self)\u001b[0m\n\u001b[0;32m    425\u001b[0m \u001b[38;5;28;01melse\u001b[39;00m:\n\u001b[0;32m    426\u001b[0m     \u001b[38;5;28mself\u001b[39m\u001b[38;5;241m.\u001b[39mcheck_worker_number_rationality()\n\u001b[1;32m--> 427\u001b[0m     \u001b[38;5;28;01mreturn\u001b[39;00m \u001b[43m_MultiProcessingDataLoaderIter\u001b[49m\u001b[43m(\u001b[49m\u001b[38;5;28;43mself\u001b[39;49m\u001b[43m)\u001b[49m\n",
      "File \u001b[1;32mc:\\Users\\User\\anaconda3\\envs\\torch310\\lib\\site-packages\\torch\\utils\\data\\dataloader.py:1172\u001b[0m, in \u001b[0;36m_MultiProcessingDataLoaderIter.__init__\u001b[1;34m(self, loader)\u001b[0m\n\u001b[0;32m   1165\u001b[0m w\u001b[38;5;241m.\u001b[39mdaemon \u001b[38;5;241m=\u001b[39m \u001b[38;5;28;01mTrue\u001b[39;00m\n\u001b[0;32m   1166\u001b[0m \u001b[38;5;66;03m# NB: Process.start() actually take some time as it needs to\u001b[39;00m\n\u001b[0;32m   1167\u001b[0m \u001b[38;5;66;03m#     start a process and pass the arguments over via a pipe.\u001b[39;00m\n\u001b[0;32m   1168\u001b[0m \u001b[38;5;66;03m#     Therefore, we only add a worker to self._workers list after\u001b[39;00m\n\u001b[0;32m   1169\u001b[0m \u001b[38;5;66;03m#     it started, so that we do not call .join() if program dies\u001b[39;00m\n\u001b[0;32m   1170\u001b[0m \u001b[38;5;66;03m#     before it starts, and __del__ tries to join but will get:\u001b[39;00m\n\u001b[0;32m   1171\u001b[0m \u001b[38;5;66;03m#     AssertionError: can only join a started process.\u001b[39;00m\n\u001b[1;32m-> 1172\u001b[0m \u001b[43mw\u001b[49m\u001b[38;5;241;43m.\u001b[39;49m\u001b[43mstart\u001b[49m\u001b[43m(\u001b[49m\u001b[43m)\u001b[49m\n\u001b[0;32m   1173\u001b[0m \u001b[38;5;28mself\u001b[39m\u001b[38;5;241m.\u001b[39m_index_queues\u001b[38;5;241m.\u001b[39mappend(index_queue)\n\u001b[0;32m   1174\u001b[0m \u001b[38;5;28mself\u001b[39m\u001b[38;5;241m.\u001b[39m_workers\u001b[38;5;241m.\u001b[39mappend(w)\n",
      "File \u001b[1;32mc:\\Users\\User\\anaconda3\\envs\\torch310\\lib\\multiprocessing\\process.py:121\u001b[0m, in \u001b[0;36mBaseProcess.start\u001b[1;34m(self)\u001b[0m\n\u001b[0;32m    118\u001b[0m \u001b[38;5;28;01massert\u001b[39;00m \u001b[38;5;129;01mnot\u001b[39;00m _current_process\u001b[38;5;241m.\u001b[39m_config\u001b[38;5;241m.\u001b[39mget(\u001b[38;5;124m'\u001b[39m\u001b[38;5;124mdaemon\u001b[39m\u001b[38;5;124m'\u001b[39m), \\\n\u001b[0;32m    119\u001b[0m        \u001b[38;5;124m'\u001b[39m\u001b[38;5;124mdaemonic processes are not allowed to have children\u001b[39m\u001b[38;5;124m'\u001b[39m\n\u001b[0;32m    120\u001b[0m _cleanup()\n\u001b[1;32m--> 121\u001b[0m \u001b[38;5;28mself\u001b[39m\u001b[38;5;241m.\u001b[39m_popen \u001b[38;5;241m=\u001b[39m \u001b[38;5;28;43mself\u001b[39;49m\u001b[38;5;241;43m.\u001b[39;49m\u001b[43m_Popen\u001b[49m\u001b[43m(\u001b[49m\u001b[38;5;28;43mself\u001b[39;49m\u001b[43m)\u001b[49m\n\u001b[0;32m    122\u001b[0m \u001b[38;5;28mself\u001b[39m\u001b[38;5;241m.\u001b[39m_sentinel \u001b[38;5;241m=\u001b[39m \u001b[38;5;28mself\u001b[39m\u001b[38;5;241m.\u001b[39m_popen\u001b[38;5;241m.\u001b[39msentinel\n\u001b[0;32m    123\u001b[0m \u001b[38;5;66;03m# Avoid a refcycle if the target function holds an indirect\u001b[39;00m\n\u001b[0;32m    124\u001b[0m \u001b[38;5;66;03m# reference to the process object (see bpo-30775)\u001b[39;00m\n",
      "File \u001b[1;32mc:\\Users\\User\\anaconda3\\envs\\torch310\\lib\\multiprocessing\\context.py:224\u001b[0m, in \u001b[0;36mProcess._Popen\u001b[1;34m(process_obj)\u001b[0m\n\u001b[0;32m    222\u001b[0m \u001b[38;5;129m@staticmethod\u001b[39m\n\u001b[0;32m    223\u001b[0m \u001b[38;5;28;01mdef\u001b[39;00m\u001b[38;5;250m \u001b[39m\u001b[38;5;21m_Popen\u001b[39m(process_obj):\n\u001b[1;32m--> 224\u001b[0m     \u001b[38;5;28;01mreturn\u001b[39;00m \u001b[43m_default_context\u001b[49m\u001b[38;5;241;43m.\u001b[39;49m\u001b[43mget_context\u001b[49m\u001b[43m(\u001b[49m\u001b[43m)\u001b[49m\u001b[38;5;241;43m.\u001b[39;49m\u001b[43mProcess\u001b[49m\u001b[38;5;241;43m.\u001b[39;49m\u001b[43m_Popen\u001b[49m\u001b[43m(\u001b[49m\u001b[43mprocess_obj\u001b[49m\u001b[43m)\u001b[49m\n",
      "File \u001b[1;32mc:\\Users\\User\\anaconda3\\envs\\torch310\\lib\\multiprocessing\\context.py:336\u001b[0m, in \u001b[0;36mSpawnProcess._Popen\u001b[1;34m(process_obj)\u001b[0m\n\u001b[0;32m    333\u001b[0m \u001b[38;5;129m@staticmethod\u001b[39m\n\u001b[0;32m    334\u001b[0m \u001b[38;5;28;01mdef\u001b[39;00m\u001b[38;5;250m \u001b[39m\u001b[38;5;21m_Popen\u001b[39m(process_obj):\n\u001b[0;32m    335\u001b[0m     \u001b[38;5;28;01mfrom\u001b[39;00m\u001b[38;5;250m \u001b[39m\u001b[38;5;21;01m.\u001b[39;00m\u001b[38;5;21;01mpopen_spawn_win32\u001b[39;00m\u001b[38;5;250m \u001b[39m\u001b[38;5;28;01mimport\u001b[39;00m Popen\n\u001b[1;32m--> 336\u001b[0m     \u001b[38;5;28;01mreturn\u001b[39;00m \u001b[43mPopen\u001b[49m\u001b[43m(\u001b[49m\u001b[43mprocess_obj\u001b[49m\u001b[43m)\u001b[49m\n",
      "File \u001b[1;32mc:\\Users\\User\\anaconda3\\envs\\torch310\\lib\\multiprocessing\\popen_spawn_win32.py:93\u001b[0m, in \u001b[0;36mPopen.__init__\u001b[1;34m(self, process_obj)\u001b[0m\n\u001b[0;32m     91\u001b[0m \u001b[38;5;28;01mtry\u001b[39;00m:\n\u001b[0;32m     92\u001b[0m     reduction\u001b[38;5;241m.\u001b[39mdump(prep_data, to_child)\n\u001b[1;32m---> 93\u001b[0m     \u001b[43mreduction\u001b[49m\u001b[38;5;241;43m.\u001b[39;49m\u001b[43mdump\u001b[49m\u001b[43m(\u001b[49m\u001b[43mprocess_obj\u001b[49m\u001b[43m,\u001b[49m\u001b[43m \u001b[49m\u001b[43mto_child\u001b[49m\u001b[43m)\u001b[49m\n\u001b[0;32m     94\u001b[0m \u001b[38;5;28;01mfinally\u001b[39;00m:\n\u001b[0;32m     95\u001b[0m     set_spawning_popen(\u001b[38;5;28;01mNone\u001b[39;00m)\n",
      "File \u001b[1;32mc:\\Users\\User\\anaconda3\\envs\\torch310\\lib\\multiprocessing\\reduction.py:60\u001b[0m, in \u001b[0;36mdump\u001b[1;34m(obj, file, protocol)\u001b[0m\n\u001b[0;32m     58\u001b[0m \u001b[38;5;28;01mdef\u001b[39;00m\u001b[38;5;250m \u001b[39m\u001b[38;5;21mdump\u001b[39m(obj, file, protocol\u001b[38;5;241m=\u001b[39m\u001b[38;5;28;01mNone\u001b[39;00m):\n\u001b[0;32m     59\u001b[0m \u001b[38;5;250m    \u001b[39m\u001b[38;5;124;03m'''Replacement for pickle.dump() using ForkingPickler.'''\u001b[39;00m\n\u001b[1;32m---> 60\u001b[0m     \u001b[43mForkingPickler\u001b[49m\u001b[43m(\u001b[49m\u001b[43mfile\u001b[49m\u001b[43m,\u001b[49m\u001b[43m \u001b[49m\u001b[43mprotocol\u001b[49m\u001b[43m)\u001b[49m\u001b[38;5;241;43m.\u001b[39;49m\u001b[43mdump\u001b[49m\u001b[43m(\u001b[49m\u001b[43mobj\u001b[49m\u001b[43m)\u001b[49m\n",
      "\u001b[1;31mKeyboardInterrupt\u001b[0m: "
     ]
    }
   ],
   "source": [
    "# This block evaluates all attacks and saves the results\n",
    "# (You should have this from your last code)\n",
    "scenario1_curves = {}\n",
    "for atk_name, factory in attackers.items():\n",
    "    print(f\"\\n⚔️ Running attack curves for: {atk_name}\")\n",
    "    scenario1_curves[atk_name] = {}\n",
    "    for model_name, wrapped in models.items():\n",
    "        l2_vals, acc_vals = evaluate_attack_curve_wrapped(wrapped, factory, epsilons, test_loader, DEVICE)\n",
    "        scenario1_curves[atk_name][model_name] = {\"l2\": l2_vals.tolist(), \"acc\": acc_vals.tolist()}\n",
    "\n",
    "with open(ARTIFACTS / \"scenario1_curves.json\", \"w\") as f:\n",
    "    json.dump(scenario1_curves, f, indent=2)\n",
    "\n",
    "print(\"✅ Saved scenario1_curves.json\")\n"
   ]
  },
  {
   "cell_type": "code",
   "execution_count": 61,
   "id": "3821ffa2",
   "metadata": {},
   "outputs": [
    {
     "data": {
      "image/png": "[encoded data removed]",
      "text/plain": [
       "<Figure size 450x300 with 1 Axes>"
      ]
     },
     "metadata": {},
     "output_type": "display_data"
    }
   ],
   "source": [
    "# === Block: FGSM Accuracy vs Norm-L2 Dissimilarity ===\n",
    "import json, numpy as np, matplotlib.pyplot as plt\n",
    "\n",
    "with open(ARTIFACTS / \"scenario1_curves.json\") as f:\n",
    "    curves = json.load(f)\n",
    "\n",
    "atk_name = \"FGSM\"\n",
    "colors = {\"Baseline\": \"r\", \"RaCNN_K5_Mixup\": \"g\", \"RaCNN_K10_Mixup\": \"b\"}\n",
    "styles = {\"Baseline\": \"dashed\", \"RaCNN_K5_Mixup\": \"solid\", \"RaCNN_K10_Mixup\": \"solid\"}\n",
    "\n",
    "plt.figure(figsize=(4.5, 3))\n",
    "for model_name, vals in curves[atk_name].items():\n",
    "    l2 = np.array(vals[\"l2\"])\n",
    "    acc = np.array(vals[\"acc\"])\n",
    "    # normalize so x-axis is 0–1 like the paper\n",
    "    l2_norm = (l2 - l2.min()) / (l2.max() - l2.min())\n",
    "    plt.plot(l2_norm, acc, label=model_name,\n",
    "             color=colors[model_name], linestyle=styles[model_name])\n",
    "\n",
    "plt.title(\"FGSM\", fontsize=13, fontweight=\"bold\")\n",
    "plt.xlabel(\"Norm-L2 dissimilarity\")\n",
    "plt.ylabel(\"Accuracy\")\n",
    "plt.xlim(0, 1)        # fixed paper-style axis\n",
    "plt.ylim(0, 1)\n",
    "plt.grid(True, linestyle=\"--\", alpha=0.6)\n",
    "plt.legend(fontsize=8)\n",
    "plt.tight_layout()\n",
    "plt.savefig(ARTIFACTS / \"fig_s1_FGSM.png\", dpi=300)\n",
    "plt.show()\n"
   ]
  },
  {
   "cell_type": "code",
   "execution_count": 62,
   "id": "7ac11a1f",
   "metadata": {},
   "outputs": [
    {
     "data": {
      "image/png": "[encoded data removed]",
      "text/plain": [
       "<Figure size 450x300 with 1 Axes>"
      ]
     },
     "metadata": {},
     "output_type": "display_data"
    }
   ],
   "source": [
    "# === Block: iFGSM Accuracy vs Norm-L2 Dissimilarity ===\n",
    "atk_name = \"iFGSM\"\n",
    "\n",
    "plt.figure(figsize=(4.5, 3))\n",
    "for model_name, vals in curves[atk_name].items():\n",
    "    l2 = np.array(vals[\"l2\"])\n",
    "    acc = np.array(vals[\"acc\"])\n",
    "    l2_norm = (l2 - l2.min()) / (l2.max() - l2.min())\n",
    "    plt.plot(l2_norm, acc, label=model_name,\n",
    "             color=colors[model_name], linestyle=styles[model_name])\n",
    "\n",
    "plt.title(\"iFGSM\", fontsize=13, fontweight=\"bold\")\n",
    "plt.xlabel(\"Norm-L2 dissimilarity\")\n",
    "plt.ylabel(\"Accuracy\")\n",
    "plt.xlim(0, 1)\n",
    "plt.ylim(0, 1)\n",
    "plt.grid(True, linestyle=\"--\", alpha=0.6)\n",
    "plt.legend(fontsize=8)\n",
    "plt.tight_layout()\n",
    "plt.savefig(ARTIFACTS / \"fig_s1_iFGSM.png\", dpi=300)\n",
    "plt.show()\n"
   ]
  },
  {
   "cell_type": "code",
   "execution_count": 63,
   "id": "5ca6027f",
   "metadata": {},
   "outputs": [
    {
     "data": {
      "image/png": "[encoded data removed]",
      "text/plain": [
       "<Figure size 450x300 with 1 Axes>"
      ]
     },
     "metadata": {},
     "output_type": "display_data"
    }
   ],
   "source": [
    "# === Block: PGD Accuracy vs Norm-L2 Dissimilarity ===\n",
    "atk_name = \"PGD\"\n",
    "\n",
    "plt.figure(figsize=(4.5, 3))\n",
    "for model_name, vals in curves[atk_name].items():\n",
    "    l2 = np.array(vals[\"l2\"])\n",
    "    acc = np.array(vals[\"acc\"])\n",
    "    l2_norm = (l2 - l2.min()) / (l2.max() - l2.min())\n",
    "    plt.plot(l2_norm, acc, label=model_name,\n",
    "             color=colors[model_name], linestyle=styles[model_name])\n",
    "\n",
    "plt.title(\"PGD\", fontsize=13, fontweight=\"bold\")\n",
    "plt.xlabel(\"Norm-L2 dissimilarity\")\n",
    "plt.ylabel(\"Accuracy\")\n",
    "plt.xlim(0, 1)\n",
    "plt.ylim(0, 1)\n",
    "plt.grid(True, linestyle=\"--\", alpha=0.6)\n",
    "plt.legend(fontsize=8)\n",
    "plt.tight_layout()\n",
    "plt.savefig(ARTIFACTS / \"fig_s1_PGD.png\", dpi=300)\n",
    "plt.show()\n"
   ]
  },
  {
   "cell_type": "code",
   "execution_count": 64,
   "id": "3f64464c",
   "metadata": {},
   "outputs": [
    {
     "data": {
      "image/png": "[encoded data removed]",
      "text/plain": [
       "<Figure size 1200x380 with 3 Axes>"
      ]
     },
     "metadata": {},
     "output_type": "display_data"
    },
    {
     "name": "stdout",
     "output_type": "stream",
     "text": [
      "📊 Saved → E:\\racnn-experiments\\ra-cnn-custom\\artifacts\\fig_s1_combined_curves.png\n"
     ]
    }
   ],
   "source": [
    "# === Block: Combined Scenario 1 curves (FGSM, iFGSM, PGD) ===\n",
    "import json, numpy as np, matplotlib.pyplot as plt\n",
    "\n",
    "# 1️⃣ Load the saved results\n",
    "with open(ARTIFACTS / \"scenario1_curves.json\") as f:\n",
    "    curves = json.load(f)\n",
    "\n",
    "# 2️⃣ Define colors & styles (consistent across attacks)\n",
    "colors = {\"Baseline\": \"r\", \"RaCNN_K5_Mixup\": \"g\", \"RaCNN_K10_Mixup\": \"b\"}\n",
    "styles = {\"Baseline\": \"dashed\", \"RaCNN_K5_Mixup\": \"solid\", \"RaCNN_K10_Mixup\": \"solid\"}\n",
    "\n",
    "# 3️⃣ Create a 1×3 subplot layout\n",
    "fig, axs = plt.subplots(1, 3, figsize=(12, 3.8))\n",
    "attacks = [\"FGSM\", \"iFGSM\", \"PGD\"]\n",
    "\n",
    "for i, atk_name in enumerate(attacks):\n",
    "    ax = axs[i]\n",
    "    for model_name, vals in curves[atk_name].items():\n",
    "        l2 = np.array(vals[\"l2\"])\n",
    "        acc = np.array(vals[\"acc\"])\n",
    "        # normalize L2 to [0,1] for unified x-axis\n",
    "        l2_norm = (l2 - l2.min()) / (l2.max() - l2.min())\n",
    "        ax.plot(l2_norm, acc, label=model_name,\n",
    "                color=colors[model_name], linestyle=styles[model_name])\n",
    "    ax.set_title(atk_name, fontsize=13, fontweight=\"bold\")\n",
    "    ax.set_xlabel(\"Norm-L2 dissimilarity\")\n",
    "    if i == 0:\n",
    "        ax.set_ylabel(\"Accuracy\")\n",
    "    ax.set_xlim(0, 1)\n",
    "    ax.set_ylim(0, 1)\n",
    "    ax.grid(True, linestyle=\"--\", alpha=0.6)\n",
    "\n",
    "# 4️⃣ Shared legend & layout\n",
    "handles, labels = axs[0].get_legend_handles_labels()\n",
    "fig.legend(handles, labels, loc=\"lower center\", ncol=3, frameon=False, fontsize=9)\n",
    "plt.tight_layout(rect=[0, 0.05, 1, 1])\n",
    "\n",
    "# 5️⃣ Save final combined figure\n",
    "plt.savefig(ARTIFACTS / \"fig_s1_combined_curves.png\", dpi=300)\n",
    "plt.show()\n",
    "\n",
    "print(\"📊 Saved →\", ARTIFACTS / \"fig_s1_combined_curves.png\")\n"
   ]
  },
  {
   "cell_type": "code",
   "execution_count": 71,
   "id": "a6f10361",
   "metadata": {},
   "outputs": [],
   "source": [
    "@torch.no_grad()\n",
    "def normalized_l2_batch_from_norm_space(x_norm, x_adv_norm):\n",
    "    \"\"\"\n",
    "    Paper §5.1 metric (fixed):\n",
    "      mean( ||x - x_adv||_2 / sqrt(dim(x)) )\n",
    "    measured in raw [0,1] pixel space.\n",
    "    This produces values ~1e-3 for CIFAR-10, matching the paper.\n",
    "    \"\"\"\n",
    "    device = x_norm.device\n",
    "    mean = torch.tensor(CIFAR10_MEAN, device=device).view(1,3,1,1)\n",
    "    std  = torch.tensor(CIFAR10_STD,  device=device).view(1,3,1,1)\n",
    "    x_raw     = (x_norm * std + mean).clamp(0,1)\n",
    "    x_adv_raw = (x_adv_norm * std + mean).clamp(0,1)\n",
    "\n",
    "    diff = (x_raw - x_adv_raw).view(x_raw.size(0), -1)\n",
    "    l2 = diff.norm(p=2, dim=1) / (diff.size(1) ** 0.5)\n",
    "    return l2.mean().item()\n"
   ]
  },
  {
   "cell_type": "code",
   "execution_count": 67,
   "id": "a9b2846a",
   "metadata": {},
   "outputs": [],
   "source": [
    "# === Reload best checkpoints and wrap for torchattacks ===\n",
    "baseline_model.load_state_dict(torch.load(CHECKPOINTS / \"baseline_best.pt\", map_location=DEVICE))\n",
    "racnn_k5.load_state_dict(torch.load(CHECKPOINTS / \"racnn_k5_best.pt\", map_location=DEVICE))\n",
    "racnn_k10.load_state_dict(torch.load(CHECKPOINTS / \"racnn_k10_best.pt\", map_location=DEVICE))\n",
    "\n",
    "baseline_model.eval(); racnn_k5.eval(); racnn_k10.eval()\n",
    "\n",
    "# Wrapper returning logits only (for torchattacks)\n",
    "class LogitsWrapper(nn.Module):\n",
    "    def __init__(self, model): super().__init__(); self.model = model\n",
    "    def forward(self, x):\n",
    "        out = self.model(x)\n",
    "        return out[0] if isinstance(out, (tuple, list)) else out\n",
    "\n",
    "baseline_wrap = LogitsWrapper(baseline_model).to(DEVICE)\n",
    "racnn5_wrap   = LogitsWrapper(racnn_k5).to(DEVICE)\n",
    "racnn10_wrap  = LogitsWrapper(racnn_k10).to(DEVICE)\n",
    "\n",
    "models = {\n",
    "    \"Baseline\": baseline_wrap,\n",
    "    \"RaCNN_K5_Mixup\": racnn5_wrap,\n",
    "    \"RaCNN_K10_Mixup\": racnn10_wrap\n",
    "}\n"
   ]
  },
  {
   "cell_type": "code",
   "execution_count": 72,
   "id": "e9d0b9cb",
   "metadata": {},
   "outputs": [],
   "source": [
    "import torchattacks, numpy as np\n",
    "from tqdm import tqdm\n",
    "\n",
    "# Epsilon grid — 10 values between 1/255 and 16/255 (≈ 0.004–0.063)\n",
    "eps_fgsm = np.linspace(1/255, 16/255, 10)\n",
    "\n",
    "def evaluate_fgsm_curve(model, eps_list, dataloader, device):\n",
    "    \"\"\"Return arrays (l2_vals, acc_vals) for FGSM across multiple eps.\"\"\"\n",
    "    l2_vals, acc_vals = [], []\n",
    "    for eps in eps_list:\n",
    "        atk = torchattacks.FGSM(model, eps=eps)\n",
    "        correct, total, l2_sum = 0, 0, 0.0\n",
    "\n",
    "        for imgs, labels in tqdm(dataloader, desc=f\"FGSM eps={eps:.5f}\", ncols=90, leave=False):\n",
    "            imgs, labels = imgs.to(device), labels.to(device)\n",
    "            adv = atk(imgs, labels)\n",
    "\n",
    "            # measure normalized L2 dissimilarity\n",
    "            l2_batch = normalized_l2_batch_from_norm_space(imgs, adv)\n",
    "            l2_sum += l2_batch * imgs.size(0)\n",
    "\n",
    "            with torch.no_grad():\n",
    "                preds = model(adv).argmax(1)\n",
    "                correct += (preds == labels).sum().item()\n",
    "                total += labels.size(0)\n",
    "\n",
    "        l2_vals.append(l2_sum / total)\n",
    "        acc_vals.append(correct / total)\n",
    "\n",
    "    return np.array(l2_vals), np.array(acc_vals)\n"
   ]
  },
  {
   "cell_type": "code",
   "execution_count": 73,
   "id": "0ad4dfe4",
   "metadata": {},
   "outputs": [
    {
     "name": "stdout",
     "output_type": "stream",
     "text": [
      "\n",
      "⚔️ Evaluating FGSM curves...\n"
     ]
    },
    {
     "name": "stderr",
     "output_type": "stream",
     "text": [
      "                                                                                          \r"
     ]
    },
    {
     "name": "stdout",
     "output_type": "stream",
     "text": [
      "Baseline: final acc@max_eps=31.64%\n"
     ]
    },
    {
     "name": "stderr",
     "output_type": "stream",
     "text": [
      "                                                                                          \r"
     ]
    },
    {
     "name": "stdout",
     "output_type": "stream",
     "text": [
      "RaCNN_K5_Mixup: final acc@max_eps=50.02%\n"
     ]
    },
    {
     "name": "stderr",
     "output_type": "stream",
     "text": [
      "                                                                                          "
     ]
    },
    {
     "name": "stdout",
     "output_type": "stream",
     "text": [
      "RaCNN_K10_Mixup: final acc@max_eps=51.73%\n",
      "✅ Saved FGSM results to scenario1_fgsm.json\n"
     ]
    },
    {
     "name": "stderr",
     "output_type": "stream",
     "text": [
      "\r"
     ]
    }
   ],
   "source": [
    "scenario1_fgsm = {}\n",
    "\n",
    "print(\"\\n⚔️ Evaluating FGSM curves...\")\n",
    "for model_name, wrapped in models.items():\n",
    "    l2s, accs = evaluate_fgsm_curve(wrapped, eps_fgsm, test_loader, DEVICE)\n",
    "    scenario1_fgsm[model_name] = {\"l2\": l2s.tolist(), \"acc\": accs.tolist()}\n",
    "    print(f\"{model_name}: final acc@max_eps={accs[-1]*100:.2f}%\")\n",
    "\n",
    "# Save results for plotting\n",
    "with open(ARTIFACTS / \"scenario1_fgsm.json\", \"w\") as f:\n",
    "    json.dump(scenario1_fgsm, f, indent=2)\n",
    "print(\"✅ Saved FGSM results to scenario1_fgsm.json\")\n"
   ]
  },
  {
   "cell_type": "code",
   "execution_count": 74,
   "id": "44822a32",
   "metadata": {},
   "outputs": [
    {
     "data": {
      "image/png": "[encoded data removed]",
      "text/plain": [
       "<Figure size 480x360 with 1 Axes>"
      ]
     },
     "metadata": {},
     "output_type": "display_data"
    }
   ],
   "source": [
    "import matplotlib.pyplot as plt, json\n",
    "\n",
    "with open(ARTIFACTS / \"scenario1_fgsm.json\") as f:\n",
    "    fgsm_data = json.load(f)\n",
    "\n",
    "colors = {\"Baseline\": \"r\", \"RaCNN_K5_Mixup\": \"g\", \"RaCNN_K10_Mixup\": \"b\"}\n",
    "styles = {\"Baseline\": \"dashed\", \"RaCNN_K5_Mixup\": \"solid\", \"RaCNN_K10_Mixup\": \"solid\"}\n",
    "\n",
    "plt.figure(figsize=(4.8, 3.6))\n",
    "for model_name, vals in fgsm_data.items():\n",
    "    l2 = np.array(vals[\"l2\"])\n",
    "    acc = np.array(vals[\"acc\"])\n",
    "    order = np.argsort(l2)\n",
    "    plt.plot(l2[order], acc[order],\n",
    "             label=model_name, color=colors[model_name], linestyle=styles[model_name])\n",
    "\n",
    "plt.title(\"FGSM\", fontsize=13, fontweight=\"bold\")\n",
    "plt.xlabel(\"Norm-L2 dissimilarity\")\n",
    "plt.ylabel(\"Accuracy\")\n",
    "plt.ylim(0, 1)\n",
    "plt.grid(True, linestyle=\"--\", alpha=0.6)\n",
    "plt.legend(fontsize=8)\n",
    "plt.tight_layout()\n",
    "plt.savefig(ARTIFACTS / \"fig_fgsm_curve_fixed.png\", dpi=300)\n",
    "plt.show()\n"
   ]
  }
 ],
 "metadata": {
  "kernelspec": {
   "display_name": "torch310",
   "language": "python",
   "name": "python3"
  },
  "language_info": {
   "codemirror_mode": {
    "name": "ipython",
    "version": 3
   },
   "file_extension": ".py",
   "mimetype": "text/x-python",
   "name": "python",
   "nbconvert_exporter": "python",
   "pygments_lexer": "ipython3",
   "version": "3.10.18"
  }
 },
 "nbformat": 4,
 "nbformat_minor": 5
}
